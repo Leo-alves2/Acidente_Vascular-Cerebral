{
 "cells": [
  {
   "cell_type": "code",
   "execution_count": 108,
   "metadata": {},
   "outputs": [],
   "source": [
    "# Importar as bibliotecas necessárias\n",
    "\n",
    "# Bibliotecas de manipulação de dados e analise\n",
    "\n",
    "import pandas as pd\n",
    "import numpy as np\n",
    "\n",
    "# Bibliotecas de gráfico\n",
    "\n",
    "import seaborn as sns\n",
    "import matplotlib.pyplot as plt\n",
    "import xgboost as xgb\n",
    "\n",
    "# Bibliotecas de previsões\n",
    "\n",
    "from sklearn.model_selection import train_test_split\n",
    "from sklearn.linear_model import LogisticRegression\n",
    "from sklearn.model_selection import GridSearchCV\n",
    "from imblearn.over_sampling import SMOTE\n",
    "import scikitplot as skplt\n",
    "from sklearn.svm import SVC\n",
    "from xgboost import XGBClassifier\n",
    "from sklearn.tree import DecisionTreeClassifier\n",
    "from sklearn.ensemble import RandomForestClassifier\n",
    "\n",
    "# Pré-Processamento de dados\n",
    "\n",
    "from sklearn.preprocessing import LabelEncoder, MinMaxScaler\n",
    "from sklearn.preprocessing import StandardScaler\n",
    "from imblearn.under_sampling import RandomUnderSampler\n",
    "from imblearn.over_sampling import RandomOverSampler\n",
    "\n",
    "# Ignorar aviso de erros\n",
    "\n",
    "import warnings\n",
    "warnings.filterwarnings('ignore')\n"
   ]
  },
  {
   "attachments": {},
   "cell_type": "markdown",
   "metadata": {},
   "source": [
    "# Carregar e verificar os dados"
   ]
  },
  {
   "cell_type": "code",
   "execution_count": 2,
   "metadata": {},
   "outputs": [],
   "source": [
    "# Carregar o arquivo csv\n",
    "\n",
    "df = pd.read_csv('/home/felix/projetos/Acidente_Vascular-Cerebral/Acidente_Vascular-Cerebral/healthcare-dataset-stroke-data.csv')"
   ]
  },
  {
   "cell_type": "code",
   "execution_count": 3,
   "metadata": {},
   "outputs": [
    {
     "data": {
      "text/html": [
       "<div>\n",
       "<style scoped>\n",
       "    .dataframe tbody tr th:only-of-type {\n",
       "        vertical-align: middle;\n",
       "    }\n",
       "\n",
       "    .dataframe tbody tr th {\n",
       "        vertical-align: top;\n",
       "    }\n",
       "\n",
       "    .dataframe thead th {\n",
       "        text-align: right;\n",
       "    }\n",
       "</style>\n",
       "<table border=\"1\" class=\"dataframe\">\n",
       "  <thead>\n",
       "    <tr style=\"text-align: right;\">\n",
       "      <th></th>\n",
       "      <th>id</th>\n",
       "      <th>gender</th>\n",
       "      <th>age</th>\n",
       "      <th>hypertension</th>\n",
       "      <th>heart_disease</th>\n",
       "      <th>ever_married</th>\n",
       "      <th>work_type</th>\n",
       "      <th>Residence_type</th>\n",
       "      <th>avg_glucose_level</th>\n",
       "      <th>bmi</th>\n",
       "      <th>smoking_status</th>\n",
       "      <th>stroke</th>\n",
       "    </tr>\n",
       "  </thead>\n",
       "  <tbody>\n",
       "    <tr>\n",
       "      <th>0</th>\n",
       "      <td>9046</td>\n",
       "      <td>Male</td>\n",
       "      <td>67.0</td>\n",
       "      <td>0</td>\n",
       "      <td>1</td>\n",
       "      <td>Yes</td>\n",
       "      <td>Private</td>\n",
       "      <td>Urban</td>\n",
       "      <td>228.69</td>\n",
       "      <td>36.6</td>\n",
       "      <td>formerly smoked</td>\n",
       "      <td>1</td>\n",
       "    </tr>\n",
       "    <tr>\n",
       "      <th>1</th>\n",
       "      <td>51676</td>\n",
       "      <td>Female</td>\n",
       "      <td>61.0</td>\n",
       "      <td>0</td>\n",
       "      <td>0</td>\n",
       "      <td>Yes</td>\n",
       "      <td>Self-employed</td>\n",
       "      <td>Rural</td>\n",
       "      <td>202.21</td>\n",
       "      <td>NaN</td>\n",
       "      <td>never smoked</td>\n",
       "      <td>1</td>\n",
       "    </tr>\n",
       "    <tr>\n",
       "      <th>2</th>\n",
       "      <td>31112</td>\n",
       "      <td>Male</td>\n",
       "      <td>80.0</td>\n",
       "      <td>0</td>\n",
       "      <td>1</td>\n",
       "      <td>Yes</td>\n",
       "      <td>Private</td>\n",
       "      <td>Rural</td>\n",
       "      <td>105.92</td>\n",
       "      <td>32.5</td>\n",
       "      <td>never smoked</td>\n",
       "      <td>1</td>\n",
       "    </tr>\n",
       "    <tr>\n",
       "      <th>3</th>\n",
       "      <td>60182</td>\n",
       "      <td>Female</td>\n",
       "      <td>49.0</td>\n",
       "      <td>0</td>\n",
       "      <td>0</td>\n",
       "      <td>Yes</td>\n",
       "      <td>Private</td>\n",
       "      <td>Urban</td>\n",
       "      <td>171.23</td>\n",
       "      <td>34.4</td>\n",
       "      <td>smokes</td>\n",
       "      <td>1</td>\n",
       "    </tr>\n",
       "    <tr>\n",
       "      <th>4</th>\n",
       "      <td>1665</td>\n",
       "      <td>Female</td>\n",
       "      <td>79.0</td>\n",
       "      <td>1</td>\n",
       "      <td>0</td>\n",
       "      <td>Yes</td>\n",
       "      <td>Self-employed</td>\n",
       "      <td>Rural</td>\n",
       "      <td>174.12</td>\n",
       "      <td>24.0</td>\n",
       "      <td>never smoked</td>\n",
       "      <td>1</td>\n",
       "    </tr>\n",
       "  </tbody>\n",
       "</table>\n",
       "</div>"
      ],
      "text/plain": [
       "      id  gender   age  hypertension  heart_disease ever_married   \n",
       "0   9046    Male  67.0             0              1          Yes  \\\n",
       "1  51676  Female  61.0             0              0          Yes   \n",
       "2  31112    Male  80.0             0              1          Yes   \n",
       "3  60182  Female  49.0             0              0          Yes   \n",
       "4   1665  Female  79.0             1              0          Yes   \n",
       "\n",
       "       work_type Residence_type  avg_glucose_level   bmi   smoking_status   \n",
       "0        Private          Urban             228.69  36.6  formerly smoked  \\\n",
       "1  Self-employed          Rural             202.21   NaN     never smoked   \n",
       "2        Private          Rural             105.92  32.5     never smoked   \n",
       "3        Private          Urban             171.23  34.4           smokes   \n",
       "4  Self-employed          Rural             174.12  24.0     never smoked   \n",
       "\n",
       "   stroke  \n",
       "0       1  \n",
       "1       1  \n",
       "2       1  \n",
       "3       1  \n",
       "4       1  "
      ]
     },
     "execution_count": 3,
     "metadata": {},
     "output_type": "execute_result"
    }
   ],
   "source": [
    "# Visualizar as 5 primeiras linhas do arquivo\n",
    "\n",
    "df.head(5)"
   ]
  },
  {
   "attachments": {},
   "cell_type": "markdown",
   "metadata": {},
   "source": [
    "Informação sobre o Dataset\n",
    "\n",
    "* id: identificador exclusivo\n",
    "* gender: \"Male\", \"Female\" or \"Other\" (\"Masculino\", \"Feminino\" ou \"Outro\")\n",
    "* age: idade do paciente\n",
    "* hypertension: 0 e o paciente não tem hipertensão, 1 se o paciente tem hipertensão\n",
    "* heart_disease: 0 se o paciente não tem nenhuma doença cardíaca, 1 se o paciente tem uma doença cardíaca\n",
    "* ever_married: \"No\" or \"Yes\" ( É casado = \"Sim\" ou \"Não\"\n",
    "* work_type: \"children\", \"Govt_jov\", \"Never_worked\", \"Private\" or \"Self-employed\" (Tipo de Trabalho = \"Criança\", \"Trabalho Governamental\", \"Nunca Trabalhou\", \"Particular\" ou \"Autônomo\")\n",
    "* Residence_type: \"Rural\" ou \"Urbano\n",
    "* avg_glucose_level: nível médio de glicose no sangue\n",
    "* bmi: índice de massa corporal\n",
    "* smoking_status: \"formerly smoked\", \"never smoked\", \"smokes\" or \"Unknown\"* (\"fumou antigamente\", \"nunca fumou\", \"fuma\" ou \"desconhecido\")\n",
    "* stroke: 1 se o paciente teve um AVC ou 0 se não *Note: \"Unknown\" em smoking_status significa que a informação não está disponível para este paciente"
   ]
  },
  {
   "cell_type": "code",
   "execution_count": 4,
   "metadata": {},
   "outputs": [
    {
     "data": {
      "text/html": [
       "<div>\n",
       "<style scoped>\n",
       "    .dataframe tbody tr th:only-of-type {\n",
       "        vertical-align: middle;\n",
       "    }\n",
       "\n",
       "    .dataframe tbody tr th {\n",
       "        vertical-align: top;\n",
       "    }\n",
       "\n",
       "    .dataframe thead th {\n",
       "        text-align: right;\n",
       "    }\n",
       "</style>\n",
       "<table border=\"1\" class=\"dataframe\">\n",
       "  <thead>\n",
       "    <tr style=\"text-align: right;\">\n",
       "      <th></th>\n",
       "      <th>id</th>\n",
       "      <th>gender</th>\n",
       "      <th>age</th>\n",
       "      <th>hypertension</th>\n",
       "      <th>heart_disease</th>\n",
       "      <th>ever_married</th>\n",
       "      <th>work_type</th>\n",
       "      <th>Residence_type</th>\n",
       "      <th>avg_glucose_level</th>\n",
       "      <th>bmi</th>\n",
       "      <th>smoking_status</th>\n",
       "      <th>stroke</th>\n",
       "    </tr>\n",
       "  </thead>\n",
       "  <tbody>\n",
       "    <tr>\n",
       "      <th>5105</th>\n",
       "      <td>18234</td>\n",
       "      <td>Female</td>\n",
       "      <td>80.0</td>\n",
       "      <td>1</td>\n",
       "      <td>0</td>\n",
       "      <td>Yes</td>\n",
       "      <td>Private</td>\n",
       "      <td>Urban</td>\n",
       "      <td>83.75</td>\n",
       "      <td>NaN</td>\n",
       "      <td>never smoked</td>\n",
       "      <td>0</td>\n",
       "    </tr>\n",
       "    <tr>\n",
       "      <th>5106</th>\n",
       "      <td>44873</td>\n",
       "      <td>Female</td>\n",
       "      <td>81.0</td>\n",
       "      <td>0</td>\n",
       "      <td>0</td>\n",
       "      <td>Yes</td>\n",
       "      <td>Self-employed</td>\n",
       "      <td>Urban</td>\n",
       "      <td>125.20</td>\n",
       "      <td>40.0</td>\n",
       "      <td>never smoked</td>\n",
       "      <td>0</td>\n",
       "    </tr>\n",
       "    <tr>\n",
       "      <th>5107</th>\n",
       "      <td>19723</td>\n",
       "      <td>Female</td>\n",
       "      <td>35.0</td>\n",
       "      <td>0</td>\n",
       "      <td>0</td>\n",
       "      <td>Yes</td>\n",
       "      <td>Self-employed</td>\n",
       "      <td>Rural</td>\n",
       "      <td>82.99</td>\n",
       "      <td>30.6</td>\n",
       "      <td>never smoked</td>\n",
       "      <td>0</td>\n",
       "    </tr>\n",
       "    <tr>\n",
       "      <th>5108</th>\n",
       "      <td>37544</td>\n",
       "      <td>Male</td>\n",
       "      <td>51.0</td>\n",
       "      <td>0</td>\n",
       "      <td>0</td>\n",
       "      <td>Yes</td>\n",
       "      <td>Private</td>\n",
       "      <td>Rural</td>\n",
       "      <td>166.29</td>\n",
       "      <td>25.6</td>\n",
       "      <td>formerly smoked</td>\n",
       "      <td>0</td>\n",
       "    </tr>\n",
       "    <tr>\n",
       "      <th>5109</th>\n",
       "      <td>44679</td>\n",
       "      <td>Female</td>\n",
       "      <td>44.0</td>\n",
       "      <td>0</td>\n",
       "      <td>0</td>\n",
       "      <td>Yes</td>\n",
       "      <td>Govt_job</td>\n",
       "      <td>Urban</td>\n",
       "      <td>85.28</td>\n",
       "      <td>26.2</td>\n",
       "      <td>Unknown</td>\n",
       "      <td>0</td>\n",
       "    </tr>\n",
       "  </tbody>\n",
       "</table>\n",
       "</div>"
      ],
      "text/plain": [
       "         id  gender   age  hypertension  heart_disease ever_married   \n",
       "5105  18234  Female  80.0             1              0          Yes  \\\n",
       "5106  44873  Female  81.0             0              0          Yes   \n",
       "5107  19723  Female  35.0             0              0          Yes   \n",
       "5108  37544    Male  51.0             0              0          Yes   \n",
       "5109  44679  Female  44.0             0              0          Yes   \n",
       "\n",
       "          work_type Residence_type  avg_glucose_level   bmi   smoking_status   \n",
       "5105        Private          Urban              83.75   NaN     never smoked  \\\n",
       "5106  Self-employed          Urban             125.20  40.0     never smoked   \n",
       "5107  Self-employed          Rural              82.99  30.6     never smoked   \n",
       "5108        Private          Rural             166.29  25.6  formerly smoked   \n",
       "5109       Govt_job          Urban              85.28  26.2          Unknown   \n",
       "\n",
       "      stroke  \n",
       "5105       0  \n",
       "5106       0  \n",
       "5107       0  \n",
       "5108       0  \n",
       "5109       0  "
      ]
     },
     "execution_count": 4,
     "metadata": {},
     "output_type": "execute_result"
    }
   ],
   "source": [
    "# Visualizar as 5 últimas linhas do arquivo\n",
    "\n",
    "df.tail(5)"
   ]
  },
  {
   "cell_type": "code",
   "execution_count": 5,
   "metadata": {},
   "outputs": [
    {
     "data": {
      "text/plain": [
       "id                     int64\n",
       "gender                object\n",
       "age                  float64\n",
       "hypertension           int64\n",
       "heart_disease          int64\n",
       "ever_married          object\n",
       "work_type             object\n",
       "Residence_type        object\n",
       "avg_glucose_level    float64\n",
       "bmi                  float64\n",
       "smoking_status        object\n",
       "stroke                 int64\n",
       "dtype: object"
      ]
     },
     "execution_count": 5,
     "metadata": {},
     "output_type": "execute_result"
    }
   ],
   "source": [
    "# Verificar os tipos de dados\n",
    "\n",
    "df.dtypes"
   ]
  },
  {
   "cell_type": "code",
   "execution_count": 6,
   "metadata": {},
   "outputs": [
    {
     "name": "stdout",
     "output_type": "stream",
     "text": [
      "<class 'pandas.core.frame.DataFrame'>\n",
      "RangeIndex: 5110 entries, 0 to 5109\n",
      "Data columns (total 12 columns):\n",
      " #   Column             Non-Null Count  Dtype  \n",
      "---  ------             --------------  -----  \n",
      " 0   id                 5110 non-null   int64  \n",
      " 1   gender             5110 non-null   object \n",
      " 2   age                5110 non-null   float64\n",
      " 3   hypertension       5110 non-null   int64  \n",
      " 4   heart_disease      5110 non-null   int64  \n",
      " 5   ever_married       5110 non-null   object \n",
      " 6   work_type          5110 non-null   object \n",
      " 7   Residence_type     5110 non-null   object \n",
      " 8   avg_glucose_level  5110 non-null   float64\n",
      " 9   bmi                4909 non-null   float64\n",
      " 10  smoking_status     5110 non-null   object \n",
      " 11  stroke             5110 non-null   int64  \n",
      "dtypes: float64(3), int64(4), object(5)\n",
      "memory usage: 479.2+ KB\n"
     ]
    }
   ],
   "source": [
    "# Verificar mais informações\n",
    "\n",
    "df.info() "
   ]
  },
  {
   "attachments": {},
   "cell_type": "markdown",
   "metadata": {},
   "source": [
    "Verificamos que na coluna **9 - bmi** tem dados faltantes "
   ]
  },
  {
   "cell_type": "code",
   "execution_count": 7,
   "metadata": {},
   "outputs": [
    {
     "data": {
      "text/plain": [
       "id                     0\n",
       "gender                 0\n",
       "age                    0\n",
       "hypertension           0\n",
       "heart_disease          0\n",
       "ever_married           0\n",
       "work_type              0\n",
       "Residence_type         0\n",
       "avg_glucose_level      0\n",
       "bmi                  201\n",
       "smoking_status         0\n",
       "stroke                 0\n",
       "dtype: int64"
      ]
     },
     "execution_count": 7,
     "metadata": {},
     "output_type": "execute_result"
    }
   ],
   "source": [
    "# Verificar a quantidade de dados faltantes\n",
    "\n",
    "df.isnull().sum()"
   ]
  },
  {
   "cell_type": "code",
   "execution_count": 8,
   "metadata": {},
   "outputs": [
    {
     "data": {
      "text/plain": [
       "0"
      ]
     },
     "execution_count": 8,
     "metadata": {},
     "output_type": "execute_result"
    }
   ],
   "source": [
    "# Verificar a quantidade de dados duplicados\n",
    "\n",
    "df.duplicated().sum()"
   ]
  },
  {
   "cell_type": "code",
   "execution_count": 9,
   "metadata": {},
   "outputs": [
    {
     "data": {
      "text/plain": [
       "(5110, 12)"
      ]
     },
     "execution_count": 9,
     "metadata": {},
     "output_type": "execute_result"
    }
   ],
   "source": [
    "# Verificar o tamanho do dataframe\n",
    "\n",
    "df.shape"
   ]
  },
  {
   "cell_type": "code",
   "execution_count": 10,
   "metadata": {},
   "outputs": [
    {
     "name": "stdout",
     "output_type": "stream",
     "text": [
      "Quantidades de linhas : 5110 e quantidades de colunas : 12\n"
     ]
    }
   ],
   "source": [
    "linhas = df.shape[0]\n",
    "colunas = df.shape[1]\n",
    "\n",
    "print(f'Quantidades de linhas : {linhas} e quantidades de colunas : {colunas}')"
   ]
  },
  {
   "cell_type": "code",
   "execution_count": 11,
   "metadata": {},
   "outputs": [
    {
     "data": {
      "text/html": [
       "<div>\n",
       "<style scoped>\n",
       "    .dataframe tbody tr th:only-of-type {\n",
       "        vertical-align: middle;\n",
       "    }\n",
       "\n",
       "    .dataframe tbody tr th {\n",
       "        vertical-align: top;\n",
       "    }\n",
       "\n",
       "    .dataframe thead th {\n",
       "        text-align: right;\n",
       "    }\n",
       "</style>\n",
       "<table border=\"1\" class=\"dataframe\">\n",
       "  <thead>\n",
       "    <tr style=\"text-align: right;\">\n",
       "      <th></th>\n",
       "      <th>id</th>\n",
       "      <th>age</th>\n",
       "      <th>hypertension</th>\n",
       "      <th>heart_disease</th>\n",
       "      <th>avg_glucose_level</th>\n",
       "      <th>bmi</th>\n",
       "      <th>stroke</th>\n",
       "    </tr>\n",
       "  </thead>\n",
       "  <tbody>\n",
       "    <tr>\n",
       "      <th>count</th>\n",
       "      <td>5110.000000</td>\n",
       "      <td>5110.000000</td>\n",
       "      <td>5110.000000</td>\n",
       "      <td>5110.000000</td>\n",
       "      <td>5110.000000</td>\n",
       "      <td>4909.000000</td>\n",
       "      <td>5110.000000</td>\n",
       "    </tr>\n",
       "    <tr>\n",
       "      <th>mean</th>\n",
       "      <td>36517.829354</td>\n",
       "      <td>43.226614</td>\n",
       "      <td>0.097456</td>\n",
       "      <td>0.054012</td>\n",
       "      <td>106.147677</td>\n",
       "      <td>28.893237</td>\n",
       "      <td>0.048728</td>\n",
       "    </tr>\n",
       "    <tr>\n",
       "      <th>std</th>\n",
       "      <td>21161.721625</td>\n",
       "      <td>22.612647</td>\n",
       "      <td>0.296607</td>\n",
       "      <td>0.226063</td>\n",
       "      <td>45.283560</td>\n",
       "      <td>7.854067</td>\n",
       "      <td>0.215320</td>\n",
       "    </tr>\n",
       "    <tr>\n",
       "      <th>min</th>\n",
       "      <td>67.000000</td>\n",
       "      <td>0.080000</td>\n",
       "      <td>0.000000</td>\n",
       "      <td>0.000000</td>\n",
       "      <td>55.120000</td>\n",
       "      <td>10.300000</td>\n",
       "      <td>0.000000</td>\n",
       "    </tr>\n",
       "    <tr>\n",
       "      <th>25%</th>\n",
       "      <td>17741.250000</td>\n",
       "      <td>25.000000</td>\n",
       "      <td>0.000000</td>\n",
       "      <td>0.000000</td>\n",
       "      <td>77.245000</td>\n",
       "      <td>23.500000</td>\n",
       "      <td>0.000000</td>\n",
       "    </tr>\n",
       "    <tr>\n",
       "      <th>50%</th>\n",
       "      <td>36932.000000</td>\n",
       "      <td>45.000000</td>\n",
       "      <td>0.000000</td>\n",
       "      <td>0.000000</td>\n",
       "      <td>91.885000</td>\n",
       "      <td>28.100000</td>\n",
       "      <td>0.000000</td>\n",
       "    </tr>\n",
       "    <tr>\n",
       "      <th>75%</th>\n",
       "      <td>54682.000000</td>\n",
       "      <td>61.000000</td>\n",
       "      <td>0.000000</td>\n",
       "      <td>0.000000</td>\n",
       "      <td>114.090000</td>\n",
       "      <td>33.100000</td>\n",
       "      <td>0.000000</td>\n",
       "    </tr>\n",
       "    <tr>\n",
       "      <th>max</th>\n",
       "      <td>72940.000000</td>\n",
       "      <td>82.000000</td>\n",
       "      <td>1.000000</td>\n",
       "      <td>1.000000</td>\n",
       "      <td>271.740000</td>\n",
       "      <td>97.600000</td>\n",
       "      <td>1.000000</td>\n",
       "    </tr>\n",
       "  </tbody>\n",
       "</table>\n",
       "</div>"
      ],
      "text/plain": [
       "                 id          age  hypertension  heart_disease   \n",
       "count   5110.000000  5110.000000   5110.000000    5110.000000  \\\n",
       "mean   36517.829354    43.226614      0.097456       0.054012   \n",
       "std    21161.721625    22.612647      0.296607       0.226063   \n",
       "min       67.000000     0.080000      0.000000       0.000000   \n",
       "25%    17741.250000    25.000000      0.000000       0.000000   \n",
       "50%    36932.000000    45.000000      0.000000       0.000000   \n",
       "75%    54682.000000    61.000000      0.000000       0.000000   \n",
       "max    72940.000000    82.000000      1.000000       1.000000   \n",
       "\n",
       "       avg_glucose_level          bmi       stroke  \n",
       "count        5110.000000  4909.000000  5110.000000  \n",
       "mean          106.147677    28.893237     0.048728  \n",
       "std            45.283560     7.854067     0.215320  \n",
       "min            55.120000    10.300000     0.000000  \n",
       "25%            77.245000    23.500000     0.000000  \n",
       "50%            91.885000    28.100000     0.000000  \n",
       "75%           114.090000    33.100000     0.000000  \n",
       "max           271.740000    97.600000     1.000000  "
      ]
     },
     "execution_count": 11,
     "metadata": {},
     "output_type": "execute_result"
    }
   ],
   "source": [
    "# Verificar a estatísticas descritivas\n",
    "\n",
    "df.describe()"
   ]
  },
  {
   "cell_type": "code",
   "execution_count": 12,
   "metadata": {},
   "outputs": [
    {
     "data": {
      "text/html": [
       "<div>\n",
       "<style scoped>\n",
       "    .dataframe tbody tr th:only-of-type {\n",
       "        vertical-align: middle;\n",
       "    }\n",
       "\n",
       "    .dataframe tbody tr th {\n",
       "        vertical-align: top;\n",
       "    }\n",
       "\n",
       "    .dataframe thead th {\n",
       "        text-align: right;\n",
       "    }\n",
       "</style>\n",
       "<table border=\"1\" class=\"dataframe\">\n",
       "  <thead>\n",
       "    <tr style=\"text-align: right;\">\n",
       "      <th></th>\n",
       "      <th>gender</th>\n",
       "      <th>ever_married</th>\n",
       "      <th>work_type</th>\n",
       "      <th>Residence_type</th>\n",
       "      <th>smoking_status</th>\n",
       "    </tr>\n",
       "  </thead>\n",
       "  <tbody>\n",
       "    <tr>\n",
       "      <th>count</th>\n",
       "      <td>5110</td>\n",
       "      <td>5110</td>\n",
       "      <td>5110</td>\n",
       "      <td>5110</td>\n",
       "      <td>5110</td>\n",
       "    </tr>\n",
       "    <tr>\n",
       "      <th>unique</th>\n",
       "      <td>3</td>\n",
       "      <td>2</td>\n",
       "      <td>5</td>\n",
       "      <td>2</td>\n",
       "      <td>4</td>\n",
       "    </tr>\n",
       "    <tr>\n",
       "      <th>top</th>\n",
       "      <td>Female</td>\n",
       "      <td>Yes</td>\n",
       "      <td>Private</td>\n",
       "      <td>Urban</td>\n",
       "      <td>never smoked</td>\n",
       "    </tr>\n",
       "    <tr>\n",
       "      <th>freq</th>\n",
       "      <td>2994</td>\n",
       "      <td>3353</td>\n",
       "      <td>2925</td>\n",
       "      <td>2596</td>\n",
       "      <td>1892</td>\n",
       "    </tr>\n",
       "  </tbody>\n",
       "</table>\n",
       "</div>"
      ],
      "text/plain": [
       "        gender ever_married work_type Residence_type smoking_status\n",
       "count     5110         5110      5110           5110           5110\n",
       "unique       3            2         5              2              4\n",
       "top     Female          Yes   Private          Urban   never smoked\n",
       "freq      2994         3353      2925           2596           1892"
      ]
     },
     "execution_count": 12,
     "metadata": {},
     "output_type": "execute_result"
    }
   ],
   "source": [
    "# Verificar a estatísticas categóricas\n",
    "\n",
    "df.describe(include=[object])"
   ]
  },
  {
   "cell_type": "code",
   "execution_count": 13,
   "metadata": {},
   "outputs": [
    {
     "data": {
      "text/html": [
       "<div>\n",
       "<style scoped>\n",
       "    .dataframe tbody tr th:only-of-type {\n",
       "        vertical-align: middle;\n",
       "    }\n",
       "\n",
       "    .dataframe tbody tr th {\n",
       "        vertical-align: top;\n",
       "    }\n",
       "\n",
       "    .dataframe thead th {\n",
       "        text-align: right;\n",
       "    }\n",
       "</style>\n",
       "<table border=\"1\" class=\"dataframe\">\n",
       "  <thead>\n",
       "    <tr style=\"text-align: right;\">\n",
       "      <th></th>\n",
       "      <th>id</th>\n",
       "      <th>gender</th>\n",
       "      <th>age</th>\n",
       "      <th>hypertension</th>\n",
       "      <th>heart_disease</th>\n",
       "      <th>ever_married</th>\n",
       "      <th>work_type</th>\n",
       "      <th>Residence_type</th>\n",
       "      <th>avg_glucose_level</th>\n",
       "      <th>bmi</th>\n",
       "      <th>smoking_status</th>\n",
       "      <th>stroke</th>\n",
       "    </tr>\n",
       "  </thead>\n",
       "  <tbody>\n",
       "    <tr>\n",
       "      <th>count</th>\n",
       "      <td>5110.000000</td>\n",
       "      <td>5110</td>\n",
       "      <td>5110.000000</td>\n",
       "      <td>5110.000000</td>\n",
       "      <td>5110.000000</td>\n",
       "      <td>5110</td>\n",
       "      <td>5110</td>\n",
       "      <td>5110</td>\n",
       "      <td>5110.000000</td>\n",
       "      <td>4909.000000</td>\n",
       "      <td>5110</td>\n",
       "      <td>5110.000000</td>\n",
       "    </tr>\n",
       "    <tr>\n",
       "      <th>unique</th>\n",
       "      <td>NaN</td>\n",
       "      <td>3</td>\n",
       "      <td>NaN</td>\n",
       "      <td>NaN</td>\n",
       "      <td>NaN</td>\n",
       "      <td>2</td>\n",
       "      <td>5</td>\n",
       "      <td>2</td>\n",
       "      <td>NaN</td>\n",
       "      <td>NaN</td>\n",
       "      <td>4</td>\n",
       "      <td>NaN</td>\n",
       "    </tr>\n",
       "    <tr>\n",
       "      <th>top</th>\n",
       "      <td>NaN</td>\n",
       "      <td>Female</td>\n",
       "      <td>NaN</td>\n",
       "      <td>NaN</td>\n",
       "      <td>NaN</td>\n",
       "      <td>Yes</td>\n",
       "      <td>Private</td>\n",
       "      <td>Urban</td>\n",
       "      <td>NaN</td>\n",
       "      <td>NaN</td>\n",
       "      <td>never smoked</td>\n",
       "      <td>NaN</td>\n",
       "    </tr>\n",
       "    <tr>\n",
       "      <th>freq</th>\n",
       "      <td>NaN</td>\n",
       "      <td>2994</td>\n",
       "      <td>NaN</td>\n",
       "      <td>NaN</td>\n",
       "      <td>NaN</td>\n",
       "      <td>3353</td>\n",
       "      <td>2925</td>\n",
       "      <td>2596</td>\n",
       "      <td>NaN</td>\n",
       "      <td>NaN</td>\n",
       "      <td>1892</td>\n",
       "      <td>NaN</td>\n",
       "    </tr>\n",
       "    <tr>\n",
       "      <th>mean</th>\n",
       "      <td>36517.829354</td>\n",
       "      <td>NaN</td>\n",
       "      <td>43.226614</td>\n",
       "      <td>0.097456</td>\n",
       "      <td>0.054012</td>\n",
       "      <td>NaN</td>\n",
       "      <td>NaN</td>\n",
       "      <td>NaN</td>\n",
       "      <td>106.147677</td>\n",
       "      <td>28.893237</td>\n",
       "      <td>NaN</td>\n",
       "      <td>0.048728</td>\n",
       "    </tr>\n",
       "    <tr>\n",
       "      <th>std</th>\n",
       "      <td>21161.721625</td>\n",
       "      <td>NaN</td>\n",
       "      <td>22.612647</td>\n",
       "      <td>0.296607</td>\n",
       "      <td>0.226063</td>\n",
       "      <td>NaN</td>\n",
       "      <td>NaN</td>\n",
       "      <td>NaN</td>\n",
       "      <td>45.283560</td>\n",
       "      <td>7.854067</td>\n",
       "      <td>NaN</td>\n",
       "      <td>0.215320</td>\n",
       "    </tr>\n",
       "    <tr>\n",
       "      <th>min</th>\n",
       "      <td>67.000000</td>\n",
       "      <td>NaN</td>\n",
       "      <td>0.080000</td>\n",
       "      <td>0.000000</td>\n",
       "      <td>0.000000</td>\n",
       "      <td>NaN</td>\n",
       "      <td>NaN</td>\n",
       "      <td>NaN</td>\n",
       "      <td>55.120000</td>\n",
       "      <td>10.300000</td>\n",
       "      <td>NaN</td>\n",
       "      <td>0.000000</td>\n",
       "    </tr>\n",
       "    <tr>\n",
       "      <th>25%</th>\n",
       "      <td>17741.250000</td>\n",
       "      <td>NaN</td>\n",
       "      <td>25.000000</td>\n",
       "      <td>0.000000</td>\n",
       "      <td>0.000000</td>\n",
       "      <td>NaN</td>\n",
       "      <td>NaN</td>\n",
       "      <td>NaN</td>\n",
       "      <td>77.245000</td>\n",
       "      <td>23.500000</td>\n",
       "      <td>NaN</td>\n",
       "      <td>0.000000</td>\n",
       "    </tr>\n",
       "    <tr>\n",
       "      <th>50%</th>\n",
       "      <td>36932.000000</td>\n",
       "      <td>NaN</td>\n",
       "      <td>45.000000</td>\n",
       "      <td>0.000000</td>\n",
       "      <td>0.000000</td>\n",
       "      <td>NaN</td>\n",
       "      <td>NaN</td>\n",
       "      <td>NaN</td>\n",
       "      <td>91.885000</td>\n",
       "      <td>28.100000</td>\n",
       "      <td>NaN</td>\n",
       "      <td>0.000000</td>\n",
       "    </tr>\n",
       "    <tr>\n",
       "      <th>75%</th>\n",
       "      <td>54682.000000</td>\n",
       "      <td>NaN</td>\n",
       "      <td>61.000000</td>\n",
       "      <td>0.000000</td>\n",
       "      <td>0.000000</td>\n",
       "      <td>NaN</td>\n",
       "      <td>NaN</td>\n",
       "      <td>NaN</td>\n",
       "      <td>114.090000</td>\n",
       "      <td>33.100000</td>\n",
       "      <td>NaN</td>\n",
       "      <td>0.000000</td>\n",
       "    </tr>\n",
       "    <tr>\n",
       "      <th>max</th>\n",
       "      <td>72940.000000</td>\n",
       "      <td>NaN</td>\n",
       "      <td>82.000000</td>\n",
       "      <td>1.000000</td>\n",
       "      <td>1.000000</td>\n",
       "      <td>NaN</td>\n",
       "      <td>NaN</td>\n",
       "      <td>NaN</td>\n",
       "      <td>271.740000</td>\n",
       "      <td>97.600000</td>\n",
       "      <td>NaN</td>\n",
       "      <td>1.000000</td>\n",
       "    </tr>\n",
       "  </tbody>\n",
       "</table>\n",
       "</div>"
      ],
      "text/plain": [
       "                  id  gender          age  hypertension  heart_disease   \n",
       "count    5110.000000    5110  5110.000000   5110.000000    5110.000000  \\\n",
       "unique           NaN       3          NaN           NaN            NaN   \n",
       "top              NaN  Female          NaN           NaN            NaN   \n",
       "freq             NaN    2994          NaN           NaN            NaN   \n",
       "mean    36517.829354     NaN    43.226614      0.097456       0.054012   \n",
       "std     21161.721625     NaN    22.612647      0.296607       0.226063   \n",
       "min        67.000000     NaN     0.080000      0.000000       0.000000   \n",
       "25%     17741.250000     NaN    25.000000      0.000000       0.000000   \n",
       "50%     36932.000000     NaN    45.000000      0.000000       0.000000   \n",
       "75%     54682.000000     NaN    61.000000      0.000000       0.000000   \n",
       "max     72940.000000     NaN    82.000000      1.000000       1.000000   \n",
       "\n",
       "       ever_married work_type Residence_type  avg_glucose_level          bmi   \n",
       "count          5110      5110           5110        5110.000000  4909.000000  \\\n",
       "unique            2         5              2                NaN          NaN   \n",
       "top             Yes   Private          Urban                NaN          NaN   \n",
       "freq           3353      2925           2596                NaN          NaN   \n",
       "mean            NaN       NaN            NaN         106.147677    28.893237   \n",
       "std             NaN       NaN            NaN          45.283560     7.854067   \n",
       "min             NaN       NaN            NaN          55.120000    10.300000   \n",
       "25%             NaN       NaN            NaN          77.245000    23.500000   \n",
       "50%             NaN       NaN            NaN          91.885000    28.100000   \n",
       "75%             NaN       NaN            NaN         114.090000    33.100000   \n",
       "max             NaN       NaN            NaN         271.740000    97.600000   \n",
       "\n",
       "       smoking_status       stroke  \n",
       "count            5110  5110.000000  \n",
       "unique              4          NaN  \n",
       "top      never smoked          NaN  \n",
       "freq             1892          NaN  \n",
       "mean              NaN     0.048728  \n",
       "std               NaN     0.215320  \n",
       "min               NaN     0.000000  \n",
       "25%               NaN     0.000000  \n",
       "50%               NaN     0.000000  \n",
       "75%               NaN     0.000000  \n",
       "max               NaN     1.000000  "
      ]
     },
     "execution_count": 13,
     "metadata": {},
     "output_type": "execute_result"
    }
   ],
   "source": [
    "# Verificar todas as estatísticas juntas\n",
    "\n",
    "df.describe(include='all')"
   ]
  },
  {
   "cell_type": "code",
   "execution_count": 14,
   "metadata": {},
   "outputs": [
    {
     "data": {
      "text/plain": [
       "id                   5110\n",
       "gender                  3\n",
       "age                   104\n",
       "hypertension            2\n",
       "heart_disease           2\n",
       "ever_married            2\n",
       "work_type               5\n",
       "Residence_type          2\n",
       "avg_glucose_level    3979\n",
       "bmi                   418\n",
       "smoking_status          4\n",
       "stroke                  2\n",
       "dtype: int64"
      ]
     },
     "execution_count": 14,
     "metadata": {},
     "output_type": "execute_result"
    }
   ],
   "source": [
    "# Verificar a quantidade única por coluna\n",
    "\n",
    "df.nunique()"
   ]
  },
  {
   "attachments": {},
   "cell_type": "markdown",
   "metadata": {},
   "source": [
    "# Limpeza dos dados"
   ]
  },
  {
   "cell_type": "code",
   "execution_count": 15,
   "metadata": {},
   "outputs": [
    {
     "data": {
      "text/plain": [
       "Index(['id', 'gender', 'age', 'hypertension', 'heart_disease', 'ever_married',\n",
       "       'work_type', 'Residence_type', 'avg_glucose_level', 'bmi',\n",
       "       'smoking_status', 'stroke'],\n",
       "      dtype='object')"
      ]
     },
     "execution_count": 15,
     "metadata": {},
     "output_type": "execute_result"
    }
   ],
   "source": [
    "# Visualizando todas as colunas\n",
    "\n",
    "df.columns"
   ]
  },
  {
   "attachments": {},
   "cell_type": "markdown",
   "metadata": {},
   "source": [
    "Vamos remover uma coluna chamada 'id' de um DataFrame 'df', pois não é necessário para analise.\n",
    "\n",
    "Vou explicar os diferentes componentes do código:\n",
    "\n",
    "* 'df' é o nome do DataFrame em que a operação será realizada.\n",
    "\n",
    "* 'drop' é uma função que remove elementos de um DataFrame. Nesse caso, está sendo utilizada para remover uma coluna específica.\n",
    "\n",
    "* ['id'] é uma lista que contém o nome da coluna que será removida. No caso, a coluna chamada 'id' será excluída.\n",
    "\n",
    "* 'axis=1' indica que a operação deve ser realizada ao longo do eixo das colunas. Isso significa que a função 'drop' irá remover a coluna especificada em cada linha do DataFrame.\n",
    "\n",
    "* 'inplace=True' indica que a operação deve ser realizada diretamente no DataFrame 'df', ou seja, o DataFrame será modificado permanentemente. Se 'inplace=False' (ou omitido), uma cópia modificada do DataFrame seria retornada, e o DataFrame original não seria alterado.\n",
    "\n",
    "Portanto, o código remove a coluna 'id' do DataFrame 'df' de forma permanente."
   ]
  },
  {
   "cell_type": "code",
   "execution_count": 16,
   "metadata": {},
   "outputs": [],
   "source": [
    "df.drop(['id'], axis = 1, inplace = True)"
   ]
  },
  {
   "cell_type": "code",
   "execution_count": 17,
   "metadata": {},
   "outputs": [
    {
     "name": "stdout",
     "output_type": "stream",
     "text": [
      "<class 'pandas.core.frame.DataFrame'>\n",
      "RangeIndex: 5110 entries, 0 to 5109\n",
      "Data columns (total 11 columns):\n",
      " #   Column             Non-Null Count  Dtype  \n",
      "---  ------             --------------  -----  \n",
      " 0   gender             5110 non-null   object \n",
      " 1   age                5110 non-null   float64\n",
      " 2   hypertension       5110 non-null   int64  \n",
      " 3   heart_disease      5110 non-null   int64  \n",
      " 4   ever_married       5110 non-null   object \n",
      " 5   work_type          5110 non-null   object \n",
      " 6   Residence_type     5110 non-null   object \n",
      " 7   avg_glucose_level  5110 non-null   float64\n",
      " 8   bmi                4909 non-null   float64\n",
      " 9   smoking_status     5110 non-null   object \n",
      " 10  stroke             5110 non-null   int64  \n",
      "dtypes: float64(3), int64(3), object(5)\n",
      "memory usage: 439.3+ KB\n"
     ]
    }
   ],
   "source": [
    "# Verificar mais informações após apagar a coluna\n",
    "\n",
    "df.info() "
   ]
  },
  {
   "cell_type": "code",
   "execution_count": 18,
   "metadata": {},
   "outputs": [
    {
     "data": {
      "text/html": [
       "<div>\n",
       "<style scoped>\n",
       "    .dataframe tbody tr th:only-of-type {\n",
       "        vertical-align: middle;\n",
       "    }\n",
       "\n",
       "    .dataframe tbody tr th {\n",
       "        vertical-align: top;\n",
       "    }\n",
       "\n",
       "    .dataframe thead th {\n",
       "        text-align: right;\n",
       "    }\n",
       "</style>\n",
       "<table border=\"1\" class=\"dataframe\">\n",
       "  <thead>\n",
       "    <tr style=\"text-align: right;\">\n",
       "      <th></th>\n",
       "      <th>gender</th>\n",
       "      <th>age</th>\n",
       "      <th>hypertension</th>\n",
       "      <th>heart_disease</th>\n",
       "      <th>ever_married</th>\n",
       "      <th>work_type</th>\n",
       "      <th>Residence_type</th>\n",
       "      <th>avg_glucose_level</th>\n",
       "      <th>bmi</th>\n",
       "      <th>smoking_status</th>\n",
       "      <th>stroke</th>\n",
       "    </tr>\n",
       "  </thead>\n",
       "  <tbody>\n",
       "    <tr>\n",
       "      <th>0</th>\n",
       "      <td>Male</td>\n",
       "      <td>67.0</td>\n",
       "      <td>0</td>\n",
       "      <td>1</td>\n",
       "      <td>Yes</td>\n",
       "      <td>Private</td>\n",
       "      <td>Urban</td>\n",
       "      <td>228.69</td>\n",
       "      <td>36.6</td>\n",
       "      <td>formerly smoked</td>\n",
       "      <td>1</td>\n",
       "    </tr>\n",
       "    <tr>\n",
       "      <th>1</th>\n",
       "      <td>Female</td>\n",
       "      <td>61.0</td>\n",
       "      <td>0</td>\n",
       "      <td>0</td>\n",
       "      <td>Yes</td>\n",
       "      <td>Self-employed</td>\n",
       "      <td>Rural</td>\n",
       "      <td>202.21</td>\n",
       "      <td>NaN</td>\n",
       "      <td>never smoked</td>\n",
       "      <td>1</td>\n",
       "    </tr>\n",
       "    <tr>\n",
       "      <th>2</th>\n",
       "      <td>Male</td>\n",
       "      <td>80.0</td>\n",
       "      <td>0</td>\n",
       "      <td>1</td>\n",
       "      <td>Yes</td>\n",
       "      <td>Private</td>\n",
       "      <td>Rural</td>\n",
       "      <td>105.92</td>\n",
       "      <td>32.5</td>\n",
       "      <td>never smoked</td>\n",
       "      <td>1</td>\n",
       "    </tr>\n",
       "    <tr>\n",
       "      <th>3</th>\n",
       "      <td>Female</td>\n",
       "      <td>49.0</td>\n",
       "      <td>0</td>\n",
       "      <td>0</td>\n",
       "      <td>Yes</td>\n",
       "      <td>Private</td>\n",
       "      <td>Urban</td>\n",
       "      <td>171.23</td>\n",
       "      <td>34.4</td>\n",
       "      <td>smokes</td>\n",
       "      <td>1</td>\n",
       "    </tr>\n",
       "    <tr>\n",
       "      <th>4</th>\n",
       "      <td>Female</td>\n",
       "      <td>79.0</td>\n",
       "      <td>1</td>\n",
       "      <td>0</td>\n",
       "      <td>Yes</td>\n",
       "      <td>Self-employed</td>\n",
       "      <td>Rural</td>\n",
       "      <td>174.12</td>\n",
       "      <td>24.0</td>\n",
       "      <td>never smoked</td>\n",
       "      <td>1</td>\n",
       "    </tr>\n",
       "  </tbody>\n",
       "</table>\n",
       "</div>"
      ],
      "text/plain": [
       "   gender   age  hypertension  heart_disease ever_married      work_type   \n",
       "0    Male  67.0             0              1          Yes        Private  \\\n",
       "1  Female  61.0             0              0          Yes  Self-employed   \n",
       "2    Male  80.0             0              1          Yes        Private   \n",
       "3  Female  49.0             0              0          Yes        Private   \n",
       "4  Female  79.0             1              0          Yes  Self-employed   \n",
       "\n",
       "  Residence_type  avg_glucose_level   bmi   smoking_status  stroke  \n",
       "0          Urban             228.69  36.6  formerly smoked       1  \n",
       "1          Rural             202.21   NaN     never smoked       1  \n",
       "2          Rural             105.92  32.5     never smoked       1  \n",
       "3          Urban             171.23  34.4           smokes       1  \n",
       "4          Rural             174.12  24.0     never smoked       1  "
      ]
     },
     "execution_count": 18,
     "metadata": {},
     "output_type": "execute_result"
    }
   ],
   "source": [
    "df.head(5)"
   ]
  },
  {
   "cell_type": "code",
   "execution_count": 19,
   "metadata": {},
   "outputs": [],
   "source": [
    "# Vamos realizar a copy do DataFrame modificado\n",
    "\n",
    "df1 = df.copy(deep=True)"
   ]
  },
  {
   "cell_type": "code",
   "execution_count": 20,
   "metadata": {},
   "outputs": [
    {
     "data": {
      "text/html": [
       "<div>\n",
       "<style scoped>\n",
       "    .dataframe tbody tr th:only-of-type {\n",
       "        vertical-align: middle;\n",
       "    }\n",
       "\n",
       "    .dataframe tbody tr th {\n",
       "        vertical-align: top;\n",
       "    }\n",
       "\n",
       "    .dataframe thead th {\n",
       "        text-align: right;\n",
       "    }\n",
       "</style>\n",
       "<table border=\"1\" class=\"dataframe\">\n",
       "  <thead>\n",
       "    <tr style=\"text-align: right;\">\n",
       "      <th></th>\n",
       "      <th>gender</th>\n",
       "      <th>age</th>\n",
       "      <th>hypertension</th>\n",
       "      <th>heart_disease</th>\n",
       "      <th>ever_married</th>\n",
       "      <th>work_type</th>\n",
       "      <th>Residence_type</th>\n",
       "      <th>avg_glucose_level</th>\n",
       "      <th>bmi</th>\n",
       "      <th>smoking_status</th>\n",
       "      <th>stroke</th>\n",
       "    </tr>\n",
       "  </thead>\n",
       "  <tbody>\n",
       "    <tr>\n",
       "      <th>0</th>\n",
       "      <td>Male</td>\n",
       "      <td>67.0</td>\n",
       "      <td>0</td>\n",
       "      <td>1</td>\n",
       "      <td>Yes</td>\n",
       "      <td>Private</td>\n",
       "      <td>Urban</td>\n",
       "      <td>228.69</td>\n",
       "      <td>36.6</td>\n",
       "      <td>formerly smoked</td>\n",
       "      <td>1</td>\n",
       "    </tr>\n",
       "    <tr>\n",
       "      <th>1</th>\n",
       "      <td>Female</td>\n",
       "      <td>61.0</td>\n",
       "      <td>0</td>\n",
       "      <td>0</td>\n",
       "      <td>Yes</td>\n",
       "      <td>Self-employed</td>\n",
       "      <td>Rural</td>\n",
       "      <td>202.21</td>\n",
       "      <td>NaN</td>\n",
       "      <td>never smoked</td>\n",
       "      <td>1</td>\n",
       "    </tr>\n",
       "    <tr>\n",
       "      <th>2</th>\n",
       "      <td>Male</td>\n",
       "      <td>80.0</td>\n",
       "      <td>0</td>\n",
       "      <td>1</td>\n",
       "      <td>Yes</td>\n",
       "      <td>Private</td>\n",
       "      <td>Rural</td>\n",
       "      <td>105.92</td>\n",
       "      <td>32.5</td>\n",
       "      <td>never smoked</td>\n",
       "      <td>1</td>\n",
       "    </tr>\n",
       "    <tr>\n",
       "      <th>3</th>\n",
       "      <td>Female</td>\n",
       "      <td>49.0</td>\n",
       "      <td>0</td>\n",
       "      <td>0</td>\n",
       "      <td>Yes</td>\n",
       "      <td>Private</td>\n",
       "      <td>Urban</td>\n",
       "      <td>171.23</td>\n",
       "      <td>34.4</td>\n",
       "      <td>smokes</td>\n",
       "      <td>1</td>\n",
       "    </tr>\n",
       "    <tr>\n",
       "      <th>4</th>\n",
       "      <td>Female</td>\n",
       "      <td>79.0</td>\n",
       "      <td>1</td>\n",
       "      <td>0</td>\n",
       "      <td>Yes</td>\n",
       "      <td>Self-employed</td>\n",
       "      <td>Rural</td>\n",
       "      <td>174.12</td>\n",
       "      <td>24.0</td>\n",
       "      <td>never smoked</td>\n",
       "      <td>1</td>\n",
       "    </tr>\n",
       "  </tbody>\n",
       "</table>\n",
       "</div>"
      ],
      "text/plain": [
       "   gender   age  hypertension  heart_disease ever_married      work_type   \n",
       "0    Male  67.0             0              1          Yes        Private  \\\n",
       "1  Female  61.0             0              0          Yes  Self-employed   \n",
       "2    Male  80.0             0              1          Yes        Private   \n",
       "3  Female  49.0             0              0          Yes        Private   \n",
       "4  Female  79.0             1              0          Yes  Self-employed   \n",
       "\n",
       "  Residence_type  avg_glucose_level   bmi   smoking_status  stroke  \n",
       "0          Urban             228.69  36.6  formerly smoked       1  \n",
       "1          Rural             202.21   NaN     never smoked       1  \n",
       "2          Rural             105.92  32.5     never smoked       1  \n",
       "3          Urban             171.23  34.4           smokes       1  \n",
       "4          Rural             174.12  24.0     never smoked       1  "
      ]
     },
     "execution_count": 20,
     "metadata": {},
     "output_type": "execute_result"
    }
   ],
   "source": [
    "df1.head(5)"
   ]
  },
  {
   "cell_type": "code",
   "execution_count": 21,
   "metadata": {},
   "outputs": [],
   "source": [
    "# Apagar a coluna stroke, que será variável alvo\n",
    "\n",
    "df1.drop(['stroke'], axis = 1, inplace = True)"
   ]
  },
  {
   "cell_type": "code",
   "execution_count": 22,
   "metadata": {},
   "outputs": [
    {
     "data": {
      "text/plain": [
       "Index(['gender', 'age', 'hypertension', 'heart_disease', 'ever_married',\n",
       "       'work_type', 'Residence_type', 'avg_glucose_level', 'bmi',\n",
       "       'smoking_status'],\n",
       "      dtype='object')"
      ]
     },
     "execution_count": 22,
     "metadata": {},
     "output_type": "execute_result"
    }
   ],
   "source": [
    "df1.columns"
   ]
  },
  {
   "attachments": {},
   "cell_type": "markdown",
   "metadata": {},
   "source": [
    "# Analisar as variáveis"
   ]
  },
  {
   "cell_type": "code",
   "execution_count": 23,
   "metadata": {},
   "outputs": [
    {
     "name": "stdout",
     "output_type": "stream",
     "text": [
      "<class 'pandas.core.frame.DataFrame'>\n",
      "RangeIndex: 5110 entries, 0 to 5109\n",
      "Data columns (total 11 columns):\n",
      " #   Column             Non-Null Count  Dtype  \n",
      "---  ------             --------------  -----  \n",
      " 0   gender             5110 non-null   object \n",
      " 1   age                5110 non-null   float64\n",
      " 2   hypertension       5110 non-null   int64  \n",
      " 3   heart_disease      5110 non-null   int64  \n",
      " 4   ever_married       5110 non-null   object \n",
      " 5   work_type          5110 non-null   object \n",
      " 6   Residence_type     5110 non-null   object \n",
      " 7   avg_glucose_level  5110 non-null   float64\n",
      " 8   bmi                4909 non-null   float64\n",
      " 9   smoking_status     5110 non-null   object \n",
      " 10  stroke             5110 non-null   int64  \n",
      "dtypes: float64(3), int64(3), object(5)\n",
      "memory usage: 439.3+ KB\n"
     ]
    }
   ],
   "source": [
    "df.info()"
   ]
  },
  {
   "cell_type": "code",
   "execution_count": 24,
   "metadata": {},
   "outputs": [
    {
     "data": {
      "text/plain": [
       "gender\n",
       "Female    2994\n",
       "Male      2115\n",
       "Other        1\n",
       "Name: count, dtype: int64"
      ]
     },
     "execution_count": 24,
     "metadata": {},
     "output_type": "execute_result"
    }
   ],
   "source": [
    "df['gender'].value_counts()"
   ]
  },
  {
   "attachments": {},
   "cell_type": "markdown",
   "metadata": {},
   "source": [
    "Explicação dos diferentes componentes do código:\n",
    "\n",
    "* plt.figure(figsize=(15, 6)) cria uma nova figura do Matplotlib com uma largura de 15 unidades e altura de 6 unidades. Isso define o tamanho da figura do gráfico que será exibido.\n",
    "\n",
    "* sns.countplot(data=df, x='gender', palette='hls') cria o gráfico de contagem. Ele usa a função countplot do Seaborn para contar e exibir o número de ocorrências para cada categoria da coluna 'gender' do DataFrame 'df'. \n",
    "* O parâmetro data=df especifica que o DataFrame 'df' contém os dados a serem usados. \n",
    "* O parâmetro x='gender' define que a coluna 'gender' será exibida no eixo x (horizontal). \n",
    "* O parâmetro palette='hls' define a paleta de cores a ser usada no gráfico.\n",
    "\n",
    "* plt.xticks(rotation=90) gira os rótulos dos ticks (marcas) do eixo x em 90 graus. Isso é útil quando os rótulos são longos ou quando há muitas categorias no eixo x, permitindo uma melhor legibilidade dos rótulos.\n",
    "\n",
    "* plt.show() exibe o gráfico na saída."
   ]
  },
  {
   "cell_type": "code",
   "execution_count": 25,
   "metadata": {},
   "outputs": [
    {
     "data": {
      "image/png": "[encoded data removed]",
      "text/plain": [
       "<Figure size 1500x600 with 1 Axes>"
      ]
     },
     "metadata": {},
     "output_type": "display_data"
    }
   ],
   "source": [
    "plt.figure(figsize=(15, 6))\n",
    "sns.countplot(data= df,\n",
    "              x= 'gender',\n",
    "              palette= 'hls')\n",
    "plt.xticks(rotation= 90)\n",
    "plt.show()"
   ]
  },
  {
   "cell_type": "code",
   "execution_count": 26,
   "metadata": {},
   "outputs": [
    {
     "data": {
      "text/plain": [
       "age\n",
       "78.00    102\n",
       "57.00     95\n",
       "52.00     90\n",
       "54.00     87\n",
       "51.00     86\n",
       "        ... \n",
       "1.40       3\n",
       "0.48       3\n",
       "0.16       3\n",
       "0.40       2\n",
       "0.08       2\n",
       "Name: count, Length: 104, dtype: int64"
      ]
     },
     "execution_count": 26,
     "metadata": {},
     "output_type": "execute_result"
    }
   ],
   "source": [
    "df['age'].value_counts()"
   ]
  },
  {
   "cell_type": "code",
   "execution_count": 27,
   "metadata": {},
   "outputs": [
    {
     "data": {
      "image/png": "[encoded data removed]",
      "text/plain": [
       "<Figure size 1500x600 with 1 Axes>"
      ]
     },
     "metadata": {},
     "output_type": "display_data"
    }
   ],
   "source": [
    "plt.figure(figsize=(15, 6))\n",
    "sns.countplot(data= df,\n",
    "              x= 'age',\n",
    "              palette= 'hls')\n",
    "plt.xticks(rotation= 90)\n",
    "plt.show()"
   ]
  },
  {
   "attachments": {},
   "cell_type": "markdown",
   "metadata": {},
   "source": [
    "Obs. \n",
    "\n",
    "Muitos dados para visualizar em gráfico de barra, Utilizar o histograma para verificar a distribuição"
   ]
  },
  {
   "cell_type": "code",
   "execution_count": 28,
   "metadata": {},
   "outputs": [
    {
     "data": {
      "image/png": "[encoded data removed]",
      "text/plain": [
       "<Figure size 1500x600 with 1 Axes>"
      ]
     },
     "metadata": {},
     "output_type": "display_data"
    }
   ],
   "source": [
    "plt.figure(figsize= (15, 6))\n",
    "sns.histplot(df['age'], bins= 40, kde= True, palette= 'husl')\n",
    "plt.xticks(rotation= 90)\n",
    "plt.show()"
   ]
  },
  {
   "cell_type": "code",
   "execution_count": 29,
   "metadata": {},
   "outputs": [
    {
     "data": {
      "text/plain": [
       "hypertension\n",
       "0    4612\n",
       "1     498\n",
       "Name: count, dtype: int64"
      ]
     },
     "execution_count": 29,
     "metadata": {},
     "output_type": "execute_result"
    }
   ],
   "source": [
    "df['hypertension'].value_counts()"
   ]
  },
  {
   "cell_type": "code",
   "execution_count": 30,
   "metadata": {},
   "outputs": [
    {
     "data": {
      "image/png": "[encoded data removed]",
      "text/plain": [
       "<Figure size 1500x600 with 1 Axes>"
      ]
     },
     "metadata": {},
     "output_type": "display_data"
    }
   ],
   "source": [
    "plt.figure(figsize=(15, 6))\n",
    "sns.countplot(data= df,\n",
    "              x= 'hypertension',\n",
    "              palette= 'hls')\n",
    "plt.xticks(rotation= 90)\n",
    "plt.show()"
   ]
  },
  {
   "cell_type": "code",
   "execution_count": 31,
   "metadata": {},
   "outputs": [
    {
     "data": {
      "text/plain": [
       "heart_disease\n",
       "0    4834\n",
       "1     276\n",
       "Name: count, dtype: int64"
      ]
     },
     "execution_count": 31,
     "metadata": {},
     "output_type": "execute_result"
    }
   ],
   "source": [
    "df['heart_disease'].value_counts()"
   ]
  },
  {
   "cell_type": "code",
   "execution_count": 32,
   "metadata": {},
   "outputs": [
    {
     "data": {
      "image/png": "[encoded data removed]",
      "text/plain": [
       "<Figure size 1500x600 with 1 Axes>"
      ]
     },
     "metadata": {},
     "output_type": "display_data"
    }
   ],
   "source": [
    "plt.figure(figsize=(15, 6))\n",
    "sns.countplot(data= df,\n",
    "              x= 'heart_disease',\n",
    "              palette= 'hls')\n",
    "plt.xticks(rotation= 90)\n",
    "plt.show()"
   ]
  },
  {
   "cell_type": "code",
   "execution_count": 33,
   "metadata": {},
   "outputs": [
    {
     "data": {
      "text/plain": [
       "ever_married\n",
       "Yes    3353\n",
       "No     1757\n",
       "Name: count, dtype: int64"
      ]
     },
     "execution_count": 33,
     "metadata": {},
     "output_type": "execute_result"
    }
   ],
   "source": [
    "df['ever_married'].value_counts()"
   ]
  },
  {
   "cell_type": "code",
   "execution_count": 34,
   "metadata": {},
   "outputs": [
    {
     "data": {
      "image/png": "[encoded data removed]",
      "text/plain": [
       "<Figure size 1500x600 with 1 Axes>"
      ]
     },
     "metadata": {},
     "output_type": "display_data"
    }
   ],
   "source": [
    "plt.figure(figsize=(15, 6))\n",
    "sns.countplot(data= df,\n",
    "              x= 'ever_married',\n",
    "              palette= 'hls')\n",
    "plt.xticks(rotation= 90)\n",
    "plt.show()"
   ]
  },
  {
   "cell_type": "code",
   "execution_count": 35,
   "metadata": {},
   "outputs": [
    {
     "data": {
      "text/plain": [
       "work_type\n",
       "Private          2925\n",
       "Self-employed     819\n",
       "children          687\n",
       "Govt_job          657\n",
       "Never_worked       22\n",
       "Name: count, dtype: int64"
      ]
     },
     "execution_count": 35,
     "metadata": {},
     "output_type": "execute_result"
    }
   ],
   "source": [
    "df['work_type'].value_counts()"
   ]
  },
  {
   "cell_type": "code",
   "execution_count": 36,
   "metadata": {},
   "outputs": [
    {
     "data": {
      "image/png": "[encoded data removed]",
      "text/plain": [
       "<Figure size 1500x600 with 1 Axes>"
      ]
     },
     "metadata": {},
     "output_type": "display_data"
    }
   ],
   "source": [
    "plt.figure(figsize=(15, 6))\n",
    "sns.countplot(data= df,\n",
    "              x= 'work_type',\n",
    "              palette= 'hls')\n",
    "plt.xticks(rotation= 90)\n",
    "plt.show()"
   ]
  },
  {
   "cell_type": "code",
   "execution_count": 37,
   "metadata": {},
   "outputs": [
    {
     "data": {
      "text/plain": [
       "Residence_type\n",
       "Urban    2596\n",
       "Rural    2514\n",
       "Name: count, dtype: int64"
      ]
     },
     "execution_count": 37,
     "metadata": {},
     "output_type": "execute_result"
    }
   ],
   "source": [
    "df['Residence_type'].value_counts()"
   ]
  },
  {
   "cell_type": "code",
   "execution_count": 38,
   "metadata": {},
   "outputs": [
    {
     "data": {
      "image/png": "[encoded data removed]",
      "text/plain": [
       "<Figure size 1500x600 with 1 Axes>"
      ]
     },
     "metadata": {},
     "output_type": "display_data"
    }
   ],
   "source": [
    "plt.figure(figsize=(15, 6))\n",
    "sns.countplot(data= df,\n",
    "              x= 'Residence_type',\n",
    "              palette= 'hls')\n",
    "plt.xticks(rotation= 90)\n",
    "plt.show()"
   ]
  },
  {
   "cell_type": "code",
   "execution_count": 39,
   "metadata": {},
   "outputs": [
    {
     "data": {
      "text/plain": [
       "avg_glucose_level\n",
       "93.88     6\n",
       "91.68     5\n",
       "91.85     5\n",
       "83.16     5\n",
       "73.00     5\n",
       "         ..\n",
       "111.93    1\n",
       "94.40     1\n",
       "95.57     1\n",
       "66.29     1\n",
       "85.28     1\n",
       "Name: count, Length: 3979, dtype: int64"
      ]
     },
     "execution_count": 39,
     "metadata": {},
     "output_type": "execute_result"
    }
   ],
   "source": [
    "df['avg_glucose_level'].value_counts()"
   ]
  },
  {
   "attachments": {},
   "cell_type": "markdown",
   "metadata": {},
   "source": [
    "Obs. \n",
    "\n",
    "Muitos dados para visualizar em gráfico de barra, Utilizar o histograma para verificar a distribuição"
   ]
  },
  {
   "cell_type": "code",
   "execution_count": 40,
   "metadata": {},
   "outputs": [
    {
     "data": {
      "image/png": "[encoded data removed]",
      "text/plain": [
       "<Figure size 1500x600 with 1 Axes>"
      ]
     },
     "metadata": {},
     "output_type": "display_data"
    }
   ],
   "source": [
    "plt.figure(figsize= (15, 6))\n",
    "sns.histplot(df['avg_glucose_level'], bins= 20, kde= True, palette= 'husl')\n",
    "plt.xticks(rotation= 90)\n",
    "plt.show()"
   ]
  },
  {
   "cell_type": "code",
   "execution_count": 41,
   "metadata": {},
   "outputs": [
    {
     "data": {
      "text/plain": [
       "bmi\n",
       "28.7    41\n",
       "28.4    38\n",
       "26.7    37\n",
       "27.6    37\n",
       "26.1    37\n",
       "        ..\n",
       "48.7     1\n",
       "49.2     1\n",
       "51.0     1\n",
       "49.4     1\n",
       "14.9     1\n",
       "Name: count, Length: 418, dtype: int64"
      ]
     },
     "execution_count": 41,
     "metadata": {},
     "output_type": "execute_result"
    }
   ],
   "source": [
    "df['bmi'].value_counts()"
   ]
  },
  {
   "attachments": {},
   "cell_type": "markdown",
   "metadata": {},
   "source": [
    "Obs. \n",
    "\n",
    "Muitos dados para visualizar em gráfico de barra, Utilizar o histograma para verificar a distribuição"
   ]
  },
  {
   "cell_type": "code",
   "execution_count": 42,
   "metadata": {},
   "outputs": [
    {
     "data": {
      "image/png": "[encoded data removed]",
      "text/plain": [
       "<Figure size 1500x600 with 1 Axes>"
      ]
     },
     "metadata": {},
     "output_type": "display_data"
    }
   ],
   "source": [
    "plt.figure(figsize= (15, 6))\n",
    "sns.histplot(df['bmi'], bins= 20, kde= True, palette= 'husl')\n",
    "plt.xticks(rotation= 90)\n",
    "plt.show()"
   ]
  },
  {
   "cell_type": "code",
   "execution_count": 43,
   "metadata": {},
   "outputs": [
    {
     "data": {
      "text/plain": [
       "smoking_status\n",
       "never smoked       1892\n",
       "Unknown            1544\n",
       "formerly smoked     885\n",
       "smokes              789\n",
       "Name: count, dtype: int64"
      ]
     },
     "execution_count": 43,
     "metadata": {},
     "output_type": "execute_result"
    }
   ],
   "source": [
    "df['smoking_status'].value_counts()"
   ]
  },
  {
   "cell_type": "code",
   "execution_count": 44,
   "metadata": {},
   "outputs": [
    {
     "data": {
      "image/png": "[encoded data removed]",
      "text/plain": [
       "<Figure size 1500x600 with 1 Axes>"
      ]
     },
     "metadata": {},
     "output_type": "display_data"
    }
   ],
   "source": [
    "plt.figure(figsize=(15, 6))\n",
    "sns.countplot(data= df,\n",
    "              x= 'smoking_status',\n",
    "              palette= 'hls')\n",
    "plt.xticks(rotation= 90)\n",
    "plt.show()"
   ]
  },
  {
   "cell_type": "code",
   "execution_count": 45,
   "metadata": {},
   "outputs": [
    {
     "data": {
      "text/plain": [
       "stroke\n",
       "0    4861\n",
       "1     249\n",
       "Name: count, dtype: int64"
      ]
     },
     "execution_count": 45,
     "metadata": {},
     "output_type": "execute_result"
    }
   ],
   "source": [
    "df['stroke'].value_counts()"
   ]
  },
  {
   "cell_type": "code",
   "execution_count": 46,
   "metadata": {},
   "outputs": [
    {
     "data": {
      "image/png": "[encoded data removed]",
      "text/plain": [
       "<Figure size 1500x600 with 1 Axes>"
      ]
     },
     "metadata": {},
     "output_type": "display_data"
    }
   ],
   "source": [
    "plt.figure(figsize=(15, 6))\n",
    "sns.countplot(data= df,\n",
    "              x= 'stroke',\n",
    "              palette= 'hls')\n",
    "plt.xticks(rotation= 90)\n",
    "plt.show()"
   ]
  },
  {
   "attachments": {},
   "cell_type": "markdown",
   "metadata": {},
   "source": [
    "Seaborn Line Plots descreve a relação entre valores contínuos e categóricos em um formato de ponto de dados contínuo.\n",
    "\n",
    "É uma visualização de dados relacionais que mostra como uma variável contínua muda quando outra muda."
   ]
  },
  {
   "cell_type": "code",
   "execution_count": 47,
   "metadata": {},
   "outputs": [
    {
     "data": {
      "image/png": "[encoded data removed]",
      "text/plain": [
       "<Figure size 1500x600 with 1 Axes>"
      ]
     },
     "metadata": {},
     "output_type": "display_data"
    }
   ],
   "source": [
    "plt.figure(figsize= (15, 6))\n",
    "sns.lineplot(y= df['gender'], x= df['stroke'], data= df, palette= 'husl')\n",
    "plt.show()"
   ]
  },
  {
   "attachments": {},
   "cell_type": "markdown",
   "metadata": {},
   "source": [
    "Obs.\n",
    "\n",
    "No gráfico acima a variável sexo não parece ter relação forte com AVC"
   ]
  },
  {
   "cell_type": "code",
   "execution_count": 48,
   "metadata": {},
   "outputs": [
    {
     "data": {
      "image/png": "[encoded data removed]",
      "text/plain": [
       "<Figure size 1500x600 with 1 Axes>"
      ]
     },
     "metadata": {},
     "output_type": "display_data"
    }
   ],
   "source": [
    "plt.figure(figsize= (15, 6))\n",
    "sns.lineplot(y= df['age'], x= df['stroke'], data= df, palette= 'husl')\n",
    "plt.show()"
   ]
  },
  {
   "attachments": {},
   "cell_type": "markdown",
   "metadata": {},
   "source": [
    "Obs.\n",
    "\n",
    "No gráfico acima a variável idade tem forte relação com AVC"
   ]
  },
  {
   "cell_type": "code",
   "execution_count": 49,
   "metadata": {},
   "outputs": [
    {
     "data": {
      "image/png": "[encoded data removed]",
      "text/plain": [
       "<Figure size 1500x600 with 1 Axes>"
      ]
     },
     "metadata": {},
     "output_type": "display_data"
    }
   ],
   "source": [
    "plt.figure(figsize= (15, 6))\n",
    "sns.lineplot(y= df['hypertension'], x= df['stroke'], data= df, palette= 'husl')\n",
    "plt.show()"
   ]
  },
  {
   "attachments": {},
   "cell_type": "markdown",
   "metadata": {},
   "source": [
    "Obs.\n",
    "\n",
    "No gráfico acima a variável hipertensão tem forte relação com AVC"
   ]
  },
  {
   "cell_type": "code",
   "execution_count": 50,
   "metadata": {},
   "outputs": [
    {
     "data": {
      "image/png": "[encoded data removed]",
      "text/plain": [
       "<Figure size 1500x600 with 1 Axes>"
      ]
     },
     "metadata": {},
     "output_type": "display_data"
    }
   ],
   "source": [
    "plt.figure(figsize= (15, 6))\n",
    "sns.lineplot(y= df['work_type'], x= df['stroke'], data= df, palette= 'husl')\n",
    "plt.show()"
   ]
  },
  {
   "attachments": {},
   "cell_type": "markdown",
   "metadata": {},
   "source": [
    "Obs.\n",
    "\n",
    "No gráfico acima a variável tipo de trabalho tem forte relação com AVC"
   ]
  },
  {
   "cell_type": "code",
   "execution_count": 51,
   "metadata": {},
   "outputs": [
    {
     "data": {
      "image/png": "[encoded data removed]",
      "text/plain": [
       "<Figure size 1500x600 with 1 Axes>"
      ]
     },
     "metadata": {},
     "output_type": "display_data"
    }
   ],
   "source": [
    "plt.figure(figsize= (15, 6))\n",
    "sns.lineplot(y= df['Residence_type'], x= df['stroke'], data= df, palette= 'husl')\n",
    "plt.show()"
   ]
  },
  {
   "attachments": {},
   "cell_type": "markdown",
   "metadata": {},
   "source": [
    "Obs.\n",
    "\n",
    "No gráfico acima a variável tipo de residencia não tem forte relação com AVC"
   ]
  },
  {
   "cell_type": "code",
   "execution_count": 52,
   "metadata": {},
   "outputs": [
    {
     "data": {
      "image/png": "[encoded data removed]",
      "text/plain": [
       "<Figure size 1500x600 with 1 Axes>"
      ]
     },
     "metadata": {},
     "output_type": "display_data"
    }
   ],
   "source": [
    "plt.figure(figsize= (15, 6))\n",
    "sns.lineplot(y= df['bmi'], x= df['stroke'], data= df, palette= 'husl')\n",
    "plt.show()"
   ]
  },
  {
   "attachments": {},
   "cell_type": "markdown",
   "metadata": {},
   "source": [
    "Obs.\n",
    "\n",
    "No gráfico acima a variável índice de massa corporal tem forte relação com AVC"
   ]
  },
  {
   "attachments": {},
   "cell_type": "markdown",
   "metadata": {},
   "source": [
    "_____________________________________________________________________________________________________"
   ]
  },
  {
   "attachments": {},
   "cell_type": "markdown",
   "metadata": {},
   "source": [
    "Utilizando Correlação\n",
    "\n",
    "Quadro de dados. corr ( método = 'pearson' , min_periods = 1 , numeric_only = False )\n",
    "\n",
    "Calcule a correlação emparelhada de colunas, excluindo valores NA/nulos.\n",
    "\n",
    "**Parâmetros método {'pearson', 'kendall', 'spearman'} ou callable**\n",
    "\n",
    "Método de correlação:\n",
    "\n",
    "* Pearson: coeficiente de correlação padrão\n",
    "\n",
    "* kendall : Coeficiente de correlação Kendall Tau\n",
    "\n",
    "* spearman: correlação de classificação de lanceiro\n",
    "\n",
    "* callable: callable com entrada de dois ndarrays 1d e retornando um float. Observe que a matriz retornada de corr terá 1 ao longo das diagonais e será simétrica independentemente do comportamento do callable.\n",
    "\n",
    "**min_periods int, opcional**\n",
    "\n",
    "Número mínimo de observações necessárias por par de colunas para obter um resultado válido. Atualmente disponível apenas para correlação de Pearson e Spearman.\n",
    "\n",
    "**numeric_only bool, padrão Falso**\n",
    "\n",
    "Inclua apenas float , int ou dados booleanos ."
   ]
  },
  {
   "attachments": {},
   "cell_type": "markdown",
   "metadata": {},
   "source": [
    "_____________________________________________________________________________________________________"
   ]
  },
  {
   "attachments": {},
   "cell_type": "markdown",
   "metadata": {},
   "source": [
    "Explicando os diferentes componentes do código:\n",
    "\n",
    "plt.figure(figsize=(15,6)) cria uma nova figura do Matplotlib com uma largura de 15 unidades e altura de 6 unidades. Isso define o tamanho da figura do gráfico que será exibido.\n",
    "\n",
    "matrix = np.triu(df_corr) cria uma matriz triangular superior a partir da matriz de correlação df_corr. A função np.triu do NumPy retorna uma matriz com todos os elementos abaixo da diagonal principal (inclusive) definidos como zero, preservando apenas os elementos da diagonal principal e acima dela.\n",
    "\n",
    "sns.heatmap(df_corr, annot=True, linewidth=.8, mask=matrix, cmap='crest') cria o mapa de calor. Ele usa a função heatmap do Seaborn para exibir as correlações entre as colunas do DataFrame df_corr. O parâmetro df_corr especifica a matriz de correlação a ser utilizada. O parâmetro annot=True adiciona os valores das correlações nos quadrados do mapa de calor. O parâmetro linewidth=.8 define a largura das linhas que separam os quadrados do mapa de calor. O parâmetro mask=matrix oculta os quadrados abaixo da diagonal principal, conforme definido na matriz triangular superior criada anteriormente. O parâmetro cmap='crest' define a paleta de cores a ser utilizada no mapa de calor.\n",
    "\n",
    "plt.show() exibe o mapa de calor na saída."
   ]
  },
  {
   "cell_type": "code",
   "execution_count": 53,
   "metadata": {},
   "outputs": [
    {
     "name": "stdout",
     "output_type": "stream",
     "text": [
      "<class 'pandas.core.frame.DataFrame'>\n",
      "RangeIndex: 5110 entries, 0 to 5109\n",
      "Data columns (total 11 columns):\n",
      " #   Column             Non-Null Count  Dtype  \n",
      "---  ------             --------------  -----  \n",
      " 0   gender             5110 non-null   object \n",
      " 1   age                5110 non-null   float64\n",
      " 2   hypertension       5110 non-null   int64  \n",
      " 3   heart_disease      5110 non-null   int64  \n",
      " 4   ever_married       5110 non-null   object \n",
      " 5   work_type          5110 non-null   object \n",
      " 6   Residence_type     5110 non-null   object \n",
      " 7   avg_glucose_level  5110 non-null   float64\n",
      " 8   bmi                4909 non-null   float64\n",
      " 9   smoking_status     5110 non-null   object \n",
      " 10  stroke             5110 non-null   int64  \n",
      "dtypes: float64(3), int64(3), object(5)\n",
      "memory usage: 439.3+ KB\n"
     ]
    }
   ],
   "source": [
    "# Verificar as colunas com variável numéricas\n",
    "\n",
    "df.info()\n"
   ]
  },
  {
   "cell_type": "code",
   "execution_count": 54,
   "metadata": {},
   "outputs": [
    {
     "data": {
      "text/plain": [
       "Index(['gender', 'age', 'hypertension', 'heart_disease', 'ever_married',\n",
       "       'work_type', 'Residence_type', 'avg_glucose_level', 'bmi',\n",
       "       'smoking_status', 'stroke'],\n",
       "      dtype='object')"
      ]
     },
     "execution_count": 54,
     "metadata": {},
     "output_type": "execute_result"
    }
   ],
   "source": [
    "# Visualizar os nomes das colunas\n",
    "\n",
    "df.columns"
   ]
  },
  {
   "cell_type": "code",
   "execution_count": 55,
   "metadata": {},
   "outputs": [],
   "source": [
    "# Selecionar somente as colunas numéricas\n",
    "\n",
    "df_selet = df[['age','hypertension','heart_disease', 'avg_glucose_level', 'bmi', 'stroke']]"
   ]
  },
  {
   "cell_type": "code",
   "execution_count": 56,
   "metadata": {},
   "outputs": [
    {
     "data": {
      "text/html": [
       "<div>\n",
       "<style scoped>\n",
       "    .dataframe tbody tr th:only-of-type {\n",
       "        vertical-align: middle;\n",
       "    }\n",
       "\n",
       "    .dataframe tbody tr th {\n",
       "        vertical-align: top;\n",
       "    }\n",
       "\n",
       "    .dataframe thead th {\n",
       "        text-align: right;\n",
       "    }\n",
       "</style>\n",
       "<table border=\"1\" class=\"dataframe\">\n",
       "  <thead>\n",
       "    <tr style=\"text-align: right;\">\n",
       "      <th></th>\n",
       "      <th>age</th>\n",
       "      <th>hypertension</th>\n",
       "      <th>heart_disease</th>\n",
       "      <th>avg_glucose_level</th>\n",
       "      <th>bmi</th>\n",
       "      <th>stroke</th>\n",
       "    </tr>\n",
       "  </thead>\n",
       "  <tbody>\n",
       "    <tr>\n",
       "      <th>age</th>\n",
       "      <td>1.000000</td>\n",
       "      <td>0.276398</td>\n",
       "      <td>0.263796</td>\n",
       "      <td>0.238171</td>\n",
       "      <td>0.333398</td>\n",
       "      <td>0.245257</td>\n",
       "    </tr>\n",
       "    <tr>\n",
       "      <th>hypertension</th>\n",
       "      <td>0.276398</td>\n",
       "      <td>1.000000</td>\n",
       "      <td>0.108306</td>\n",
       "      <td>0.174474</td>\n",
       "      <td>0.167811</td>\n",
       "      <td>0.127904</td>\n",
       "    </tr>\n",
       "    <tr>\n",
       "      <th>heart_disease</th>\n",
       "      <td>0.263796</td>\n",
       "      <td>0.108306</td>\n",
       "      <td>1.000000</td>\n",
       "      <td>0.161857</td>\n",
       "      <td>0.041357</td>\n",
       "      <td>0.134914</td>\n",
       "    </tr>\n",
       "    <tr>\n",
       "      <th>avg_glucose_level</th>\n",
       "      <td>0.238171</td>\n",
       "      <td>0.174474</td>\n",
       "      <td>0.161857</td>\n",
       "      <td>1.000000</td>\n",
       "      <td>0.175502</td>\n",
       "      <td>0.131945</td>\n",
       "    </tr>\n",
       "    <tr>\n",
       "      <th>bmi</th>\n",
       "      <td>0.333398</td>\n",
       "      <td>0.167811</td>\n",
       "      <td>0.041357</td>\n",
       "      <td>0.175502</td>\n",
       "      <td>1.000000</td>\n",
       "      <td>0.042374</td>\n",
       "    </tr>\n",
       "    <tr>\n",
       "      <th>stroke</th>\n",
       "      <td>0.245257</td>\n",
       "      <td>0.127904</td>\n",
       "      <td>0.134914</td>\n",
       "      <td>0.131945</td>\n",
       "      <td>0.042374</td>\n",
       "      <td>1.000000</td>\n",
       "    </tr>\n",
       "  </tbody>\n",
       "</table>\n",
       "</div>"
      ],
      "text/plain": [
       "                        age  hypertension  heart_disease  avg_glucose_level   \n",
       "age                1.000000      0.276398       0.263796           0.238171  \\\n",
       "hypertension       0.276398      1.000000       0.108306           0.174474   \n",
       "heart_disease      0.263796      0.108306       1.000000           0.161857   \n",
       "avg_glucose_level  0.238171      0.174474       0.161857           1.000000   \n",
       "bmi                0.333398      0.167811       0.041357           0.175502   \n",
       "stroke             0.245257      0.127904       0.134914           0.131945   \n",
       "\n",
       "                        bmi    stroke  \n",
       "age                0.333398  0.245257  \n",
       "hypertension       0.167811  0.127904  \n",
       "heart_disease      0.041357  0.134914  \n",
       "avg_glucose_level  0.175502  0.131945  \n",
       "bmi                1.000000  0.042374  \n",
       "stroke             0.042374  1.000000  "
      ]
     },
     "execution_count": 56,
     "metadata": {},
     "output_type": "execute_result"
    }
   ],
   "source": [
    "# Visualizar a correlação, por padrão é o método 'pearson'\n",
    "\n",
    "df_selet.corr()"
   ]
  },
  {
   "cell_type": "code",
   "execution_count": 57,
   "metadata": {},
   "outputs": [],
   "source": [
    "df_corr = df_selet.corr()"
   ]
  },
  {
   "cell_type": "code",
   "execution_count": 58,
   "metadata": {},
   "outputs": [
    {
     "data": {
      "image/png": "[encoded data removed]",
      "text/plain": [
       "<Figure size 1500x600 with 2 Axes>"
      ]
     },
     "metadata": {},
     "output_type": "display_data"
    }
   ],
   "source": [
    "# Visualizar a correlação\n",
    "\n",
    "plt.figure(figsize= (15, 6))\n",
    "matrix = np.triu(df_corr)\n",
    "sns.heatmap(df_corr, annot= True, linewidths= 8, mask= matrix, cmap= 'crest')\n",
    "plt.show()"
   ]
  },
  {
   "cell_type": "markdown",
   "metadata": {},
   "source": [
    "Obs.\n",
    "\n",
    "No gráfico acima a idade influencia em todos os casos de doenças."
   ]
  },
  {
   "cell_type": "markdown",
   "metadata": {},
   "source": [
    "# Pré-Processamento de dados"
   ]
  },
  {
   "cell_type": "markdown",
   "metadata": {},
   "source": [
    "O pré-processamento de dados é uma das principais etapas da análise de dados e do aprendizado de máquina. O pré-processamento eficaz de dados é crucial para obter o maior número possível de insights e também pode nos ajudar a obter maior precisão com modelos de ML."
   ]
  },
  {
   "cell_type": "markdown",
   "metadata": {},
   "source": [
    "1. Codificação de dados\n",
    "Alguns dos métodos de codificação de dados amplamente usados ​​são Label Encoding e One Hot Encoding ."
   ]
  },
  {
   "cell_type": "markdown",
   "metadata": {},
   "source": [
    "a) Codificação de rótulo\n",
    "\n",
    "A codificação de rótulos é basicamente uma forma de codificar variáveis ​​categóricas em variáveis ​​numéricas. Por exemplo, vamos considerar uma cesta que contém frutas."
   ]
  },
  {
   "cell_type": "markdown",
   "metadata": {},
   "source": [
    "cesta = ['maçã', 'laranja', 'uva', 'morango', 'melão', 'ameixa', 'banana', 'melão', 'ameixa', 'ameixa', 'uva', 'melancia' , 'melão', 'laranja']"
   ]
  },
  {
   "cell_type": "markdown",
   "metadata": {},
   "source": [
    "São oito frutas únicas — maçã, laranja, uva, morango, melão, ameixa, banana e melancia, e algumas delas estão contidas mais de uma vez na cesta. Agora vamos tentar converter esses dados categóricos em forma numérica usando a função skleran.preprocessing.LabelEncoder ."
   ]
  },
  {
   "cell_type": "markdown",
   "metadata": {},
   "source": [
    "from sklearn.preprocessing importar LabelEncoder\n",
    "encoder = LabelEncoder () \n",
    "\n",
    "labels = encoder.fit_transform(cesta) \n",
    "\n",
    "print(labels) #[0 4 2 6 3 5 1 3 5 5 2 7 3 4]"
   ]
  },
  {
   "cell_type": "markdown",
   "metadata": {},
   "source": [
    "Usando LabelEncoder, podemos ver que as variáveis ​​categóricas, frutas, são convertidas em variáveis ​​numéricas."
   ]
  },
  {
   "cell_type": "markdown",
   "metadata": {},
   "source": [
    "Para entender qual número representa qual fruta, podemos usar a operação .classes_ da seguinte forma:\n",
    "\n",
    "<img alt=\"\" class=\"bg of og c\" width=\"313\" height=\"199\" loading=\"lazy\" role=\"presentation\" src=\"https://miro.medium.com/v2/resize:fit:313/1*FNBqCP8wtY9nVayMQH0SRg.png\">"
   ]
  },
  {
   "cell_type": "markdown",
   "metadata": {},
   "source": [
    "Também podemos converter os rótulos numéricos de volta aos valores categóricos originais usando a função inverse_transform().\n",
    "\n",
    "<img alt=\"\" class=\"bg of og c\" width=\"613\" height=\"151\" loading=\"lazy\" role=\"presentation\" src=\"https://miro.medium.com/v2/resize:fit:613/1*sgWre0pSKppzfq0Ox5Bz-A.png\">"
   ]
  },
  {
   "cell_type": "markdown",
   "metadata": {},
   "source": [
    "O código acima importa a classe LabelEncoder do módulo preprocessing da biblioteca scikit-learn (sklearn) e aplica a codificação de rótulos (label encoding) em colunas específicas do DataFrame 'df'.\n",
    "\n",
    "Vou explicar os diferentes componentes do código:\n",
    "\n",
    "* from sklearn.preprocessing import LabelEncoder importa a classe \n",
    "* LabelEncoder do módulo preprocessing da biblioteca scikit-learn. O LabelEncoder é usado para transformar rótulos categóricos em valores numéricos.\n",
    "\n",
    "* label_encoder = LabelEncoder() cria uma instância do LabelEncoder.\n",
    "\n",
    "* df.gender = label_encoder.fit_transform(df.gender) aplica a codificação de rótulos na coluna 'gender' do DataFrame 'df'. \n",
    "\n",
    "* A função fit_transform ajusta o codificador aos valores únicos da coluna 'gender' e, em seguida, transforma esses valores em valores numéricos."
   ]
  },
  {
   "cell_type": "code",
   "execution_count": 59,
   "metadata": {},
   "outputs": [],
   "source": [
    "from sklearn.preprocessing import LabelEncoder\n",
    "\n",
    "label_encoder = LabelEncoder()\n",
    "\n",
    "# Transformando as colunas qualitativas em números\n",
    "\n",
    "df.gender = label_encoder.fit_transform(df.gender)\n",
    "\n",
    "df.ever_married = label_encoder.fit_transform(df.ever_married)\n",
    "\n",
    "df.work_type = label_encoder.fit_transform(df.work_type)\n",
    "\n",
    "df.Residence_type = label_encoder.fit_transform(df.Residence_type)\n",
    "\n",
    "df.smoking_status = label_encoder.fit_transform(df.smoking_status)"
   ]
  },
  {
   "cell_type": "code",
   "execution_count": 60,
   "metadata": {},
   "outputs": [
    {
     "data": {
      "text/html": [
       "<div>\n",
       "<style scoped>\n",
       "    .dataframe tbody tr th:only-of-type {\n",
       "        vertical-align: middle;\n",
       "    }\n",
       "\n",
       "    .dataframe tbody tr th {\n",
       "        vertical-align: top;\n",
       "    }\n",
       "\n",
       "    .dataframe thead th {\n",
       "        text-align: right;\n",
       "    }\n",
       "</style>\n",
       "<table border=\"1\" class=\"dataframe\">\n",
       "  <thead>\n",
       "    <tr style=\"text-align: right;\">\n",
       "      <th></th>\n",
       "      <th>gender</th>\n",
       "      <th>age</th>\n",
       "      <th>hypertension</th>\n",
       "      <th>heart_disease</th>\n",
       "      <th>ever_married</th>\n",
       "      <th>work_type</th>\n",
       "      <th>Residence_type</th>\n",
       "      <th>avg_glucose_level</th>\n",
       "      <th>bmi</th>\n",
       "      <th>smoking_status</th>\n",
       "      <th>stroke</th>\n",
       "    </tr>\n",
       "  </thead>\n",
       "  <tbody>\n",
       "    <tr>\n",
       "      <th>0</th>\n",
       "      <td>1</td>\n",
       "      <td>67.0</td>\n",
       "      <td>0</td>\n",
       "      <td>1</td>\n",
       "      <td>1</td>\n",
       "      <td>2</td>\n",
       "      <td>1</td>\n",
       "      <td>228.69</td>\n",
       "      <td>36.6</td>\n",
       "      <td>1</td>\n",
       "      <td>1</td>\n",
       "    </tr>\n",
       "    <tr>\n",
       "      <th>1</th>\n",
       "      <td>0</td>\n",
       "      <td>61.0</td>\n",
       "      <td>0</td>\n",
       "      <td>0</td>\n",
       "      <td>1</td>\n",
       "      <td>3</td>\n",
       "      <td>0</td>\n",
       "      <td>202.21</td>\n",
       "      <td>NaN</td>\n",
       "      <td>2</td>\n",
       "      <td>1</td>\n",
       "    </tr>\n",
       "    <tr>\n",
       "      <th>2</th>\n",
       "      <td>1</td>\n",
       "      <td>80.0</td>\n",
       "      <td>0</td>\n",
       "      <td>1</td>\n",
       "      <td>1</td>\n",
       "      <td>2</td>\n",
       "      <td>0</td>\n",
       "      <td>105.92</td>\n",
       "      <td>32.5</td>\n",
       "      <td>2</td>\n",
       "      <td>1</td>\n",
       "    </tr>\n",
       "    <tr>\n",
       "      <th>3</th>\n",
       "      <td>0</td>\n",
       "      <td>49.0</td>\n",
       "      <td>0</td>\n",
       "      <td>0</td>\n",
       "      <td>1</td>\n",
       "      <td>2</td>\n",
       "      <td>1</td>\n",
       "      <td>171.23</td>\n",
       "      <td>34.4</td>\n",
       "      <td>3</td>\n",
       "      <td>1</td>\n",
       "    </tr>\n",
       "    <tr>\n",
       "      <th>4</th>\n",
       "      <td>0</td>\n",
       "      <td>79.0</td>\n",
       "      <td>1</td>\n",
       "      <td>0</td>\n",
       "      <td>1</td>\n",
       "      <td>3</td>\n",
       "      <td>0</td>\n",
       "      <td>174.12</td>\n",
       "      <td>24.0</td>\n",
       "      <td>2</td>\n",
       "      <td>1</td>\n",
       "    </tr>\n",
       "  </tbody>\n",
       "</table>\n",
       "</div>"
      ],
      "text/plain": [
       "   gender   age  hypertension  heart_disease  ever_married  work_type   \n",
       "0       1  67.0             0              1             1          2  \\\n",
       "1       0  61.0             0              0             1          3   \n",
       "2       1  80.0             0              1             1          2   \n",
       "3       0  49.0             0              0             1          2   \n",
       "4       0  79.0             1              0             1          3   \n",
       "\n",
       "   Residence_type  avg_glucose_level   bmi  smoking_status  stroke  \n",
       "0               1             228.69  36.6               1       1  \n",
       "1               0             202.21   NaN               2       1  \n",
       "2               0             105.92  32.5               2       1  \n",
       "3               1             171.23  34.4               3       1  \n",
       "4               0             174.12  24.0               2       1  "
      ]
     },
     "execution_count": 60,
     "metadata": {},
     "output_type": "execute_result"
    }
   ],
   "source": [
    "df.head(5)"
   ]
  },
  {
   "cell_type": "code",
   "execution_count": 61,
   "metadata": {},
   "outputs": [
    {
     "data": {
      "text/plain": [
       "gender                 0\n",
       "age                    0\n",
       "hypertension           0\n",
       "heart_disease          0\n",
       "ever_married           0\n",
       "work_type              0\n",
       "Residence_type         0\n",
       "avg_glucose_level      0\n",
       "bmi                  201\n",
       "smoking_status         0\n",
       "stroke                 0\n",
       "dtype: int64"
      ]
     },
     "execution_count": 61,
     "metadata": {},
     "output_type": "execute_result"
    }
   ],
   "source": [
    "# Verificar a quantidade de dados nulos\n",
    "\n",
    "df.isna().sum()"
   ]
  },
  {
   "cell_type": "code",
   "execution_count": 62,
   "metadata": {},
   "outputs": [
    {
     "data": {
      "text/plain": [
       "gender                 0\n",
       "age                    0\n",
       "hypertension           0\n",
       "heart_disease          0\n",
       "ever_married           0\n",
       "work_type              0\n",
       "Residence_type         0\n",
       "avg_glucose_level      0\n",
       "bmi                  201\n",
       "smoking_status         0\n",
       "stroke                 0\n",
       "dtype: int64"
      ]
     },
     "execution_count": 62,
     "metadata": {},
     "output_type": "execute_result"
    }
   ],
   "source": [
    "# Verificar a quantidade de dados nulos\n",
    "\n",
    "df.isnull().sum()"
   ]
  },
  {
   "cell_type": "code",
   "execution_count": 63,
   "metadata": {},
   "outputs": [],
   "source": [
    "# Apagando os dados ausentes e aplicando no próprio DF\n",
    "\n",
    "df.dropna(inplace= True)"
   ]
  },
  {
   "cell_type": "code",
   "execution_count": 64,
   "metadata": {},
   "outputs": [
    {
     "data": {
      "text/plain": [
       "gender               0\n",
       "age                  0\n",
       "hypertension         0\n",
       "heart_disease        0\n",
       "ever_married         0\n",
       "work_type            0\n",
       "Residence_type       0\n",
       "avg_glucose_level    0\n",
       "bmi                  0\n",
       "smoking_status       0\n",
       "stroke               0\n",
       "dtype: int64"
      ]
     },
     "execution_count": 64,
     "metadata": {},
     "output_type": "execute_result"
    }
   ],
   "source": [
    "# Verificar a quantidade de dados nulos\n",
    "\n",
    "df.isnull().sum()"
   ]
  },
  {
   "cell_type": "code",
   "execution_count": 65,
   "metadata": {},
   "outputs": [],
   "source": [
    "# Criando duas variáveis X e Y \n",
    "# Atribuindo a X o DataFrame sem a variável alvo\n",
    "# Atribuindo a Y o DataFrame só com a variável alvo\n",
    "\n",
    "x = df.drop('stroke', axis= 1)\n",
    "y = df['stroke']"
   ]
  },
  {
   "cell_type": "code",
   "execution_count": 66,
   "metadata": {},
   "outputs": [
    {
     "data": {
      "text/html": [
       "<div>\n",
       "<style scoped>\n",
       "    .dataframe tbody tr th:only-of-type {\n",
       "        vertical-align: middle;\n",
       "    }\n",
       "\n",
       "    .dataframe tbody tr th {\n",
       "        vertical-align: top;\n",
       "    }\n",
       "\n",
       "    .dataframe thead th {\n",
       "        text-align: right;\n",
       "    }\n",
       "</style>\n",
       "<table border=\"1\" class=\"dataframe\">\n",
       "  <thead>\n",
       "    <tr style=\"text-align: right;\">\n",
       "      <th></th>\n",
       "      <th>gender</th>\n",
       "      <th>age</th>\n",
       "      <th>hypertension</th>\n",
       "      <th>heart_disease</th>\n",
       "      <th>ever_married</th>\n",
       "      <th>work_type</th>\n",
       "      <th>Residence_type</th>\n",
       "      <th>avg_glucose_level</th>\n",
       "      <th>bmi</th>\n",
       "      <th>smoking_status</th>\n",
       "    </tr>\n",
       "  </thead>\n",
       "  <tbody>\n",
       "    <tr>\n",
       "      <th>0</th>\n",
       "      <td>1</td>\n",
       "      <td>67.0</td>\n",
       "      <td>0</td>\n",
       "      <td>1</td>\n",
       "      <td>1</td>\n",
       "      <td>2</td>\n",
       "      <td>1</td>\n",
       "      <td>228.69</td>\n",
       "      <td>36.6</td>\n",
       "      <td>1</td>\n",
       "    </tr>\n",
       "    <tr>\n",
       "      <th>2</th>\n",
       "      <td>1</td>\n",
       "      <td>80.0</td>\n",
       "      <td>0</td>\n",
       "      <td>1</td>\n",
       "      <td>1</td>\n",
       "      <td>2</td>\n",
       "      <td>0</td>\n",
       "      <td>105.92</td>\n",
       "      <td>32.5</td>\n",
       "      <td>2</td>\n",
       "    </tr>\n",
       "    <tr>\n",
       "      <th>3</th>\n",
       "      <td>0</td>\n",
       "      <td>49.0</td>\n",
       "      <td>0</td>\n",
       "      <td>0</td>\n",
       "      <td>1</td>\n",
       "      <td>2</td>\n",
       "      <td>1</td>\n",
       "      <td>171.23</td>\n",
       "      <td>34.4</td>\n",
       "      <td>3</td>\n",
       "    </tr>\n",
       "    <tr>\n",
       "      <th>4</th>\n",
       "      <td>0</td>\n",
       "      <td>79.0</td>\n",
       "      <td>1</td>\n",
       "      <td>0</td>\n",
       "      <td>1</td>\n",
       "      <td>3</td>\n",
       "      <td>0</td>\n",
       "      <td>174.12</td>\n",
       "      <td>24.0</td>\n",
       "      <td>2</td>\n",
       "    </tr>\n",
       "    <tr>\n",
       "      <th>5</th>\n",
       "      <td>1</td>\n",
       "      <td>81.0</td>\n",
       "      <td>0</td>\n",
       "      <td>0</td>\n",
       "      <td>1</td>\n",
       "      <td>2</td>\n",
       "      <td>1</td>\n",
       "      <td>186.21</td>\n",
       "      <td>29.0</td>\n",
       "      <td>1</td>\n",
       "    </tr>\n",
       "  </tbody>\n",
       "</table>\n",
       "</div>"
      ],
      "text/plain": [
       "   gender   age  hypertension  heart_disease  ever_married  work_type   \n",
       "0       1  67.0             0              1             1          2  \\\n",
       "2       1  80.0             0              1             1          2   \n",
       "3       0  49.0             0              0             1          2   \n",
       "4       0  79.0             1              0             1          3   \n",
       "5       1  81.0             0              0             1          2   \n",
       "\n",
       "   Residence_type  avg_glucose_level   bmi  smoking_status  \n",
       "0               1             228.69  36.6               1  \n",
       "2               0             105.92  32.5               2  \n",
       "3               1             171.23  34.4               3  \n",
       "4               0             174.12  24.0               2  \n",
       "5               1             186.21  29.0               1  "
      ]
     },
     "execution_count": 66,
     "metadata": {},
     "output_type": "execute_result"
    }
   ],
   "source": [
    "x.head(5)"
   ]
  },
  {
   "cell_type": "code",
   "execution_count": 67,
   "metadata": {},
   "outputs": [
    {
     "data": {
      "text/plain": [
       "0    1\n",
       "2    1\n",
       "3    1\n",
       "4    1\n",
       "5    1\n",
       "Name: stroke, dtype: int64"
      ]
     },
     "execution_count": 67,
     "metadata": {},
     "output_type": "execute_result"
    }
   ],
   "source": [
    "y.head(5)"
   ]
  },
  {
   "cell_type": "code",
   "execution_count": 68,
   "metadata": {},
   "outputs": [],
   "source": [
    "# Padronizando dados com a função StandardScaler()\n",
    "# A biblioteca Python sklearn nos oferece a função StandardScaler() \n",
    "# para padronizar os valores de dados em um formato padrão.\n",
    "\n",
    "x = pd.DataFrame(StandardScaler().fit_transform(x))\n"
   ]
  },
  {
   "cell_type": "code",
   "execution_count": 69,
   "metadata": {},
   "outputs": [
    {
     "data": {
      "text/html": [
       "<div>\n",
       "<style scoped>\n",
       "    .dataframe tbody tr th:only-of-type {\n",
       "        vertical-align: middle;\n",
       "    }\n",
       "\n",
       "    .dataframe tbody tr th {\n",
       "        vertical-align: top;\n",
       "    }\n",
       "\n",
       "    .dataframe thead th {\n",
       "        text-align: right;\n",
       "    }\n",
       "</style>\n",
       "<table border=\"1\" class=\"dataframe\">\n",
       "  <thead>\n",
       "    <tr style=\"text-align: right;\">\n",
       "      <th></th>\n",
       "      <th>0</th>\n",
       "      <th>1</th>\n",
       "      <th>2</th>\n",
       "      <th>3</th>\n",
       "      <th>4</th>\n",
       "      <th>5</th>\n",
       "      <th>6</th>\n",
       "      <th>7</th>\n",
       "      <th>8</th>\n",
       "      <th>9</th>\n",
       "    </tr>\n",
       "  </thead>\n",
       "  <tbody>\n",
       "    <tr>\n",
       "      <th>0</th>\n",
       "      <td>1.198428</td>\n",
       "      <td>1.070138</td>\n",
       "      <td>-0.318067</td>\n",
       "      <td>4.381968</td>\n",
       "      <td>0.729484</td>\n",
       "      <td>-0.155697</td>\n",
       "      <td>0.985640</td>\n",
       "      <td>2.777698</td>\n",
       "      <td>0.981345</td>\n",
       "      <td>-0.351788</td>\n",
       "    </tr>\n",
       "    <tr>\n",
       "      <th>1</th>\n",
       "      <td>1.198428</td>\n",
       "      <td>1.646563</td>\n",
       "      <td>-0.318067</td>\n",
       "      <td>4.381968</td>\n",
       "      <td>0.729484</td>\n",
       "      <td>-0.155697</td>\n",
       "      <td>-1.014569</td>\n",
       "      <td>0.013842</td>\n",
       "      <td>0.459269</td>\n",
       "      <td>0.585232</td>\n",
       "    </tr>\n",
       "    <tr>\n",
       "      <th>2</th>\n",
       "      <td>-0.833023</td>\n",
       "      <td>0.272012</td>\n",
       "      <td>-0.318067</td>\n",
       "      <td>-0.228208</td>\n",
       "      <td>0.729484</td>\n",
       "      <td>-0.155697</td>\n",
       "      <td>0.985640</td>\n",
       "      <td>1.484132</td>\n",
       "      <td>0.701207</td>\n",
       "      <td>1.522252</td>\n",
       "    </tr>\n",
       "    <tr>\n",
       "      <th>3</th>\n",
       "      <td>-0.833023</td>\n",
       "      <td>1.602222</td>\n",
       "      <td>3.143994</td>\n",
       "      <td>-0.228208</td>\n",
       "      <td>0.729484</td>\n",
       "      <td>0.759651</td>\n",
       "      <td>-1.014569</td>\n",
       "      <td>1.549193</td>\n",
       "      <td>-0.623083</td>\n",
       "      <td>0.585232</td>\n",
       "    </tr>\n",
       "    <tr>\n",
       "      <th>4</th>\n",
       "      <td>1.198428</td>\n",
       "      <td>1.690903</td>\n",
       "      <td>-0.318067</td>\n",
       "      <td>-0.228208</td>\n",
       "      <td>0.729484</td>\n",
       "      <td>-0.155697</td>\n",
       "      <td>0.985640</td>\n",
       "      <td>1.821368</td>\n",
       "      <td>0.013595</td>\n",
       "      <td>-0.351788</td>\n",
       "    </tr>\n",
       "  </tbody>\n",
       "</table>\n",
       "</div>"
      ],
      "text/plain": [
       "          0         1         2         3         4         5         6   \n",
       "0  1.198428  1.070138 -0.318067  4.381968  0.729484 -0.155697  0.985640  \\\n",
       "1  1.198428  1.646563 -0.318067  4.381968  0.729484 -0.155697 -1.014569   \n",
       "2 -0.833023  0.272012 -0.318067 -0.228208  0.729484 -0.155697  0.985640   \n",
       "3 -0.833023  1.602222  3.143994 -0.228208  0.729484  0.759651 -1.014569   \n",
       "4  1.198428  1.690903 -0.318067 -0.228208  0.729484 -0.155697  0.985640   \n",
       "\n",
       "          7         8         9  \n",
       "0  2.777698  0.981345 -0.351788  \n",
       "1  0.013842  0.459269  0.585232  \n",
       "2  1.484132  0.701207  1.522252  \n",
       "3  1.549193 -0.623083  0.585232  \n",
       "4  1.821368  0.013595 -0.351788  "
      ]
     },
     "execution_count": 69,
     "metadata": {},
     "output_type": "execute_result"
    }
   ],
   "source": [
    "x.head(5)"
   ]
  },
  {
   "cell_type": "markdown",
   "metadata": {},
   "source": [
    "# Treinamento de modelo de Machine Learning"
   ]
  },
  {
   "cell_type": "markdown",
   "metadata": {},
   "source": [
    "## Divisão dos dados"
   ]
  },
  {
   "cell_type": "markdown",
   "metadata": {},
   "source": [
    "O código importa a função train_test_split do módulo model_selection da biblioteca scikit-learn (sklearn) e divide um conjunto de dados em conjuntos de treinamento e teste.\n",
    "\n",
    "Vou explicar os diferentes componentes do código:\n",
    "\n",
    "* from sklearn.model_selection import train_test_split importa a função train_test_split do módulo model_selection da biblioteca scikit-learn. Essa função é usada para dividir um conjunto de dados em conjuntos de treinamento e teste.\n",
    "\n",
    "* X_train, X_test, y_train, y_test = train_test_split(X, y, test_size=0.3, random_state=42) aplica a divisão dos dados. Aqui estão os argumentos da função:\n",
    "\n",
    "* X é a matriz (ou DataFrame) contendo as features (características) do conjunto de dados.\n",
    "\n",
    "* y é o vetor (ou Series) contendo os rótulos (labels) correspondentes às features do conjunto de dados.\n",
    "\n",
    "* test_size=0.3 define a proporção do conjunto de teste em relação ao conjunto completo. Neste caso, o conjunto de teste será 30% dos dados totais, enquanto o conjunto de treinamento será 70%.\n",
    "\n",
    "* random_state=42 define a semente (seed) para garantir a reprodutibilidade dos resultados. Ao usar o mesmo valor para random_state, a divisão dos dados será sempre a mesma, o que é útil para fins de comparação e reprodução dos resultados.\n",
    "\n",
    "* X_train é a matriz (ou DataFrame) resultante das features do conjunto de treinamento.\n",
    "\n",
    "* X_test é a matriz (ou DataFrame) resultante das features do conjunto de teste.\n",
    "\n",
    "* y_train é o vetor (ou Series) resultante dos rótulos do conjunto de treinamento.\n",
    "\n",
    "* y_test é o vetor (ou Series) resultante dos rótulos do conjunto de teste.\n",
    "\n",
    "Portanto, o código divide os dados em conjuntos de treinamento e teste, onde X_train e y_train são usados para treinar um modelo e X_test e y_test são usados para avaliar o desempenho do modelo. A proporção de divisão é de 70% para treinamento e 30% para teste, e o valor 42 é usado como semente aleatória para garantir a reprodutibilidade dos resultados."
   ]
  },
  {
   "cell_type": "code",
   "execution_count": 70,
   "metadata": {},
   "outputs": [],
   "source": [
    "from sklearn.model_selection import train_test_split\n",
    "\n",
    "x_train, x_test, y_train, y_test = train_test_split(x, y, test_size= 0.3, random_state= 42)"
   ]
  },
  {
   "cell_type": "code",
   "execution_count": 71,
   "metadata": {},
   "outputs": [
    {
     "data": {
      "text/html": [
       "<div>\n",
       "<style scoped>\n",
       "    .dataframe tbody tr th:only-of-type {\n",
       "        vertical-align: middle;\n",
       "    }\n",
       "\n",
       "    .dataframe tbody tr th {\n",
       "        vertical-align: top;\n",
       "    }\n",
       "\n",
       "    .dataframe thead th {\n",
       "        text-align: right;\n",
       "    }\n",
       "</style>\n",
       "<table border=\"1\" class=\"dataframe\">\n",
       "  <thead>\n",
       "    <tr style=\"text-align: right;\">\n",
       "      <th></th>\n",
       "      <th>0</th>\n",
       "      <th>1</th>\n",
       "      <th>2</th>\n",
       "      <th>3</th>\n",
       "      <th>4</th>\n",
       "      <th>5</th>\n",
       "      <th>6</th>\n",
       "      <th>7</th>\n",
       "      <th>8</th>\n",
       "      <th>9</th>\n",
       "    </tr>\n",
       "  </thead>\n",
       "  <tbody>\n",
       "    <tr>\n",
       "      <th>336</th>\n",
       "      <td>-0.833023</td>\n",
       "      <td>-1.279901</td>\n",
       "      <td>-0.318067</td>\n",
       "      <td>-0.228208</td>\n",
       "      <td>-1.370831</td>\n",
       "      <td>1.674998</td>\n",
       "      <td>-1.014569</td>\n",
       "      <td>-0.741677</td>\n",
       "      <td>-1.068757</td>\n",
       "      <td>-1.288808</td>\n",
       "    </tr>\n",
       "    <tr>\n",
       "      <th>2303</th>\n",
       "      <td>-0.833023</td>\n",
       "      <td>0.671075</td>\n",
       "      <td>-0.318067</td>\n",
       "      <td>-0.228208</td>\n",
       "      <td>0.729484</td>\n",
       "      <td>-0.155697</td>\n",
       "      <td>-1.014569</td>\n",
       "      <td>-0.892510</td>\n",
       "      <td>-0.546682</td>\n",
       "      <td>-0.351788</td>\n",
       "    </tr>\n",
       "    <tr>\n",
       "      <th>4772</th>\n",
       "      <td>-0.833023</td>\n",
       "      <td>0.759755</td>\n",
       "      <td>-0.318067</td>\n",
       "      <td>-0.228208</td>\n",
       "      <td>0.729484</td>\n",
       "      <td>-0.155697</td>\n",
       "      <td>-1.014569</td>\n",
       "      <td>-0.141945</td>\n",
       "      <td>-0.355678</td>\n",
       "      <td>0.585232</td>\n",
       "    </tr>\n",
       "    <tr>\n",
       "      <th>3193</th>\n",
       "      <td>-0.833023</td>\n",
       "      <td>-1.058199</td>\n",
       "      <td>-0.318067</td>\n",
       "      <td>-0.228208</td>\n",
       "      <td>-1.370831</td>\n",
       "      <td>-0.155697</td>\n",
       "      <td>0.985640</td>\n",
       "      <td>-0.586566</td>\n",
       "      <td>-0.674017</td>\n",
       "      <td>-1.288808</td>\n",
       "    </tr>\n",
       "    <tr>\n",
       "      <th>4326</th>\n",
       "      <td>-0.833023</td>\n",
       "      <td>1.735243</td>\n",
       "      <td>-0.318067</td>\n",
       "      <td>-0.228208</td>\n",
       "      <td>0.729484</td>\n",
       "      <td>-0.155697</td>\n",
       "      <td>0.985640</td>\n",
       "      <td>-0.510474</td>\n",
       "      <td>-1.399830</td>\n",
       "      <td>1.522252</td>\n",
       "    </tr>\n",
       "    <tr>\n",
       "      <th>...</th>\n",
       "      <td>...</td>\n",
       "      <td>...</td>\n",
       "      <td>...</td>\n",
       "      <td>...</td>\n",
       "      <td>...</td>\n",
       "      <td>...</td>\n",
       "      <td>...</td>\n",
       "      <td>...</td>\n",
       "      <td>...</td>\n",
       "      <td>...</td>\n",
       "    </tr>\n",
       "    <tr>\n",
       "      <th>4426</th>\n",
       "      <td>-0.833023</td>\n",
       "      <td>-1.058199</td>\n",
       "      <td>-0.318067</td>\n",
       "      <td>-0.228208</td>\n",
       "      <td>-1.370831</td>\n",
       "      <td>-0.155697</td>\n",
       "      <td>0.985640</td>\n",
       "      <td>-0.360316</td>\n",
       "      <td>-0.865021</td>\n",
       "      <td>0.585232</td>\n",
       "    </tr>\n",
       "    <tr>\n",
       "      <th>466</th>\n",
       "      <td>-0.833023</td>\n",
       "      <td>0.360692</td>\n",
       "      <td>-0.318067</td>\n",
       "      <td>-0.228208</td>\n",
       "      <td>0.729484</td>\n",
       "      <td>-0.155697</td>\n",
       "      <td>-1.014569</td>\n",
       "      <td>-0.503720</td>\n",
       "      <td>0.102730</td>\n",
       "      <td>1.522252</td>\n",
       "    </tr>\n",
       "    <tr>\n",
       "      <th>3092</th>\n",
       "      <td>-0.833023</td>\n",
       "      <td>0.449373</td>\n",
       "      <td>-0.318067</td>\n",
       "      <td>-0.228208</td>\n",
       "      <td>0.729484</td>\n",
       "      <td>-0.155697</td>\n",
       "      <td>-1.014569</td>\n",
       "      <td>-0.329924</td>\n",
       "      <td>-0.865021</td>\n",
       "      <td>-0.351788</td>\n",
       "    </tr>\n",
       "    <tr>\n",
       "      <th>3772</th>\n",
       "      <td>-0.833023</td>\n",
       "      <td>-1.412922</td>\n",
       "      <td>-0.318067</td>\n",
       "      <td>-0.228208</td>\n",
       "      <td>-1.370831</td>\n",
       "      <td>1.674998</td>\n",
       "      <td>-1.014569</td>\n",
       "      <td>-0.265538</td>\n",
       "      <td>-1.030557</td>\n",
       "      <td>-1.288808</td>\n",
       "    </tr>\n",
       "    <tr>\n",
       "      <th>860</th>\n",
       "      <td>1.198428</td>\n",
       "      <td>0.892777</td>\n",
       "      <td>-0.318067</td>\n",
       "      <td>-0.228208</td>\n",
       "      <td>0.729484</td>\n",
       "      <td>-0.155697</td>\n",
       "      <td>-1.014569</td>\n",
       "      <td>-1.069008</td>\n",
       "      <td>-0.011872</td>\n",
       "      <td>-0.351788</td>\n",
       "    </tr>\n",
       "  </tbody>\n",
       "</table>\n",
       "<p>3436 rows × 10 columns</p>\n",
       "</div>"
      ],
      "text/plain": [
       "             0         1         2         3         4         5         6   \n",
       "336  -0.833023 -1.279901 -0.318067 -0.228208 -1.370831  1.674998 -1.014569  \\\n",
       "2303 -0.833023  0.671075 -0.318067 -0.228208  0.729484 -0.155697 -1.014569   \n",
       "4772 -0.833023  0.759755 -0.318067 -0.228208  0.729484 -0.155697 -1.014569   \n",
       "3193 -0.833023 -1.058199 -0.318067 -0.228208 -1.370831 -0.155697  0.985640   \n",
       "4326 -0.833023  1.735243 -0.318067 -0.228208  0.729484 -0.155697  0.985640   \n",
       "...        ...       ...       ...       ...       ...       ...       ...   \n",
       "4426 -0.833023 -1.058199 -0.318067 -0.228208 -1.370831 -0.155697  0.985640   \n",
       "466  -0.833023  0.360692 -0.318067 -0.228208  0.729484 -0.155697 -1.014569   \n",
       "3092 -0.833023  0.449373 -0.318067 -0.228208  0.729484 -0.155697 -1.014569   \n",
       "3772 -0.833023 -1.412922 -0.318067 -0.228208 -1.370831  1.674998 -1.014569   \n",
       "860   1.198428  0.892777 -0.318067 -0.228208  0.729484 -0.155697 -1.014569   \n",
       "\n",
       "             7         8         9  \n",
       "336  -0.741677 -1.068757 -1.288808  \n",
       "2303 -0.892510 -0.546682 -0.351788  \n",
       "4772 -0.141945 -0.355678  0.585232  \n",
       "3193 -0.586566 -0.674017 -1.288808  \n",
       "4326 -0.510474 -1.399830  1.522252  \n",
       "...        ...       ...       ...  \n",
       "4426 -0.360316 -0.865021  0.585232  \n",
       "466  -0.503720  0.102730  1.522252  \n",
       "3092 -0.329924 -0.865021 -0.351788  \n",
       "3772 -0.265538 -1.030557 -1.288808  \n",
       "860  -1.069008 -0.011872 -0.351788  \n",
       "\n",
       "[3436 rows x 10 columns]"
      ]
     },
     "execution_count": 71,
     "metadata": {},
     "output_type": "execute_result"
    }
   ],
   "source": [
    "x_train"
   ]
  },
  {
   "cell_type": "code",
   "execution_count": 72,
   "metadata": {},
   "outputs": [
    {
     "data": {
      "text/plain": [
       "378     0\n",
       "2420    0\n",
       "4967    0\n",
       "3348    0\n",
       "4511    0\n",
       "       ..\n",
       "4613    0\n",
       "511     0\n",
       "3247    0\n",
       "3946    0\n",
       "916     0\n",
       "Name: stroke, Length: 3436, dtype: int64"
      ]
     },
     "execution_count": 72,
     "metadata": {},
     "output_type": "execute_result"
    }
   ],
   "source": [
    "y_train"
   ]
  },
  {
   "cell_type": "markdown",
   "metadata": {},
   "source": [
    "## Decision Tree ( Árvore de decisão )"
   ]
  },
  {
   "cell_type": "markdown",
   "metadata": {},
   "source": [
    "A Árvore de Decisão é uma ferramenta de tomada de decisão que usa uma estrutura de árvore semelhante a um fluxograma ou é um modelo de decisões e todos os seus resultados possíveis, incluindo resultados, custos de insumos e utilidade.\n",
    "O algoritmo de árvore de decisão se enquadra na categoria de algoritmos de aprendizado supervisionado. Ele funciona para variáveis ​​de saída contínuas e categóricas.\n",
    "\n",
    "Os ramos/bordas representam o resultado do nó e os nós possuem: \n",
    "\n",
    "Condições [nós de decisão]\n",
    "Resultado [nós finais]\n",
    "Os ramos/arestas representam a veracidade/falsidade da afirmação e toma uma decisão com base no exemplo abaixo que mostra uma árvore de decisão que avalia o menor de três números:\n",
    "\n",
    "<img src=\"https://media.geeksforgeeks.org/wp-content/uploads/decision-tree.jpg\" alt=\"\">"
   ]
  },
  {
   "cell_type": "markdown",
   "metadata": {},
   "source": [
    "Regressão de Árvore de Decisão: \n",
    "A regressão de árvore de decisão observa características de um objeto e treina um modelo na estrutura de uma árvore para prever dados no futuro para produzir uma saída contínua significativa. Saída contínua significa que a saída/resultado não é discreto, ou seja, não é representado apenas por um conjunto discreto e conhecido de números ou valores.\n",
    "\n",
    "Exemplo de saída discreta: um modelo de previsão do tempo que prevê se haverá ou não chuva em um determinado dia. \n",
    "Exemplo de saída contínua: Um modelo de previsão de lucro que indica o lucro provável que pode ser gerado com a venda de um produto.\n",
    "Aqui, valores contínuos são previstos com a ajuda de um modelo de regressão de árvore de decisão."
   ]
  },
  {
   "cell_type": "markdown",
   "metadata": {},
   "source": [
    "______________________________________________________________________________________________________"
   ]
  },
  {
   "cell_type": "markdown",
   "metadata": {},
   "source": [
    "Vamos analisar o código linha por linha:\n",
    "\n",
    "* from sklearn.tree import DecisionTreeClassifier: Esta linha importa a classe DecisionTreeClassifier da biblioteca sklearn.tree. Essa classe é responsável por criar um modelo de classificação baseado em árvore de decisão.\n",
    "\n",
    "* classifier = DecisionTreeClassifier(criterion='entropy', random_state=0): Aqui, estamos criando uma instância da classe DecisionTreeClassifier. O parâmetro criterion especifica a medida usada para avaliar a qualidade da divisão dos nós da árvore. Nesse caso, está sendo utilizado o critério de \"entropia\". O parâmetro random_state é usado para garantir a reprodutibilidade dos resultados, fixando a semente do gerador de números aleatórios em 0.\n",
    "\n",
    "* classifier.fit(X_train, y_train): Essa linha ajusta (ou treina) o modelo de árvore de decisão aos dados de treinamento. Os argumentos X_train e y_train são as variáveis de treinamento, onde X_train representa os atributos (features) do conjunto de treinamento e y_train representa as classes (rótulos) correspondentes.\n",
    "\n",
    "Basicamente, esse código cria um classificador de árvore de decisão com base no critério de entropia, ajusta o modelo aos dados de treinamento e está pronto para fazer previsões usando os dados de teste ou novos dados. É importante ressaltar que este trecho de código não inclui a definição ou importação das variáveis X_train e y_train, então é necessário ter essas variáveis definidas anteriormente no código para que ele funcione corretamente."
   ]
  },
  {
   "cell_type": "code",
   "execution_count": 73,
   "metadata": {},
   "outputs": [
    {
     "data": {
      "text/html": [
       "<style>#sk-container-id-1 {color: black;background-color: white;}#sk-container-id-1 pre{padding: 0;}#sk-container-id-1 div.sk-toggleable {background-color: white;}#sk-container-id-1 label.sk-toggleable__label {cursor: pointer;display: block;width: 100%;margin-bottom: 0;padding: 0.3em;box-sizing: border-box;text-align: center;}#sk-container-id-1 label.sk-toggleable__label-arrow:before {content: \"▸\";float: left;margin-right: 0.25em;color: #696969;}#sk-container-id-1 label.sk-toggleable__label-arrow:hover:before {color: black;}#sk-container-id-1 div.sk-estimator:hover label.sk-toggleable__label-arrow:before {color: black;}#sk-container-id-1 div.sk-toggleable__content {max-height: 0;max-width: 0;overflow: hidden;text-align: left;background-color: #f0f8ff;}#sk-container-id-1 div.sk-toggleable__content pre {margin: 0.2em;color: black;border-radius: 0.25em;background-color: #f0f8ff;}#sk-container-id-1 input.sk-toggleable__control:checked~div.sk-toggleable__content {max-height: 200px;max-width: 100%;overflow: auto;}#sk-container-id-1 input.sk-toggleable__control:checked~label.sk-toggleable__label-arrow:before {content: \"▾\";}#sk-container-id-1 div.sk-estimator input.sk-toggleable__control:checked~label.sk-toggleable__label {background-color: #d4ebff;}#sk-container-id-1 div.sk-label input.sk-toggleable__control:checked~label.sk-toggleable__label {background-color: #d4ebff;}#sk-container-id-1 input.sk-hidden--visually {border: 0;clip: rect(1px 1px 1px 1px);clip: rect(1px, 1px, 1px, 1px);height: 1px;margin: -1px;overflow: hidden;padding: 0;position: absolute;width: 1px;}#sk-container-id-1 div.sk-estimator {font-family: monospace;background-color: #f0f8ff;border: 1px dotted black;border-radius: 0.25em;box-sizing: border-box;margin-bottom: 0.5em;}#sk-container-id-1 div.sk-estimator:hover {background-color: #d4ebff;}#sk-container-id-1 div.sk-parallel-item::after {content: \"\";width: 100%;border-bottom: 1px solid gray;flex-grow: 1;}#sk-container-id-1 div.sk-label:hover label.sk-toggleable__label {background-color: #d4ebff;}#sk-container-id-1 div.sk-serial::before {content: \"\";position: absolute;border-left: 1px solid gray;box-sizing: border-box;top: 0;bottom: 0;left: 50%;z-index: 0;}#sk-container-id-1 div.sk-serial {display: flex;flex-direction: column;align-items: center;background-color: white;padding-right: 0.2em;padding-left: 0.2em;position: relative;}#sk-container-id-1 div.sk-item {position: relative;z-index: 1;}#sk-container-id-1 div.sk-parallel {display: flex;align-items: stretch;justify-content: center;background-color: white;position: relative;}#sk-container-id-1 div.sk-item::before, #sk-container-id-1 div.sk-parallel-item::before {content: \"\";position: absolute;border-left: 1px solid gray;box-sizing: border-box;top: 0;bottom: 0;left: 50%;z-index: -1;}#sk-container-id-1 div.sk-parallel-item {display: flex;flex-direction: column;z-index: 1;position: relative;background-color: white;}#sk-container-id-1 div.sk-parallel-item:first-child::after {align-self: flex-end;width: 50%;}#sk-container-id-1 div.sk-parallel-item:last-child::after {align-self: flex-start;width: 50%;}#sk-container-id-1 div.sk-parallel-item:only-child::after {width: 0;}#sk-container-id-1 div.sk-dashed-wrapped {border: 1px dashed gray;margin: 0 0.4em 0.5em 0.4em;box-sizing: border-box;padding-bottom: 0.4em;background-color: white;}#sk-container-id-1 div.sk-label label {font-family: monospace;font-weight: bold;display: inline-block;line-height: 1.2em;}#sk-container-id-1 div.sk-label-container {text-align: center;}#sk-container-id-1 div.sk-container {/* jupyter's `normalize.less` sets `[hidden] { display: none; }` but bootstrap.min.css set `[hidden] { display: none !important; }` so we also need the `!important` here to be able to override the default hidden behavior on the sphinx rendered scikit-learn.org. See: https://github.com/scikit-learn/scikit-learn/issues/21755 */display: inline-block !important;position: relative;}#sk-container-id-1 div.sk-text-repr-fallback {display: none;}</style><div id=\"sk-container-id-1\" class=\"sk-top-container\"><div class=\"sk-text-repr-fallback\"><pre>DecisionTreeClassifier(criterion=&#x27;entropy&#x27;, random_state=0)</pre><b>In a Jupyter environment, please rerun this cell to show the HTML representation or trust the notebook. <br />On GitHub, the HTML representation is unable to render, please try loading this page with nbviewer.org.</b></div><div class=\"sk-container\" hidden><div class=\"sk-item\"><div class=\"sk-estimator sk-toggleable\"><input class=\"sk-toggleable__control sk-hidden--visually\" id=\"sk-estimator-id-1\" type=\"checkbox\" checked><label for=\"sk-estimator-id-1\" class=\"sk-toggleable__label sk-toggleable__label-arrow\">DecisionTreeClassifier</label><div class=\"sk-toggleable__content\"><pre>DecisionTreeClassifier(criterion=&#x27;entropy&#x27;, random_state=0)</pre></div></div></div></div></div>"
      ],
      "text/plain": [
       "DecisionTreeClassifier(criterion='entropy', random_state=0)"
      ]
     },
     "execution_count": 73,
     "metadata": {},
     "output_type": "execute_result"
    }
   ],
   "source": [
    "from sklearn.tree import DecisionTreeClassifier\n",
    "\n",
    "# Criando uma instância do modelo\n",
    "\n",
    "classifier = DecisionTreeClassifier(criterion= 'entropy', random_state= 0)\n",
    "\n",
    "# Treinando o modelo\n",
    "\n",
    "classifier.fit(x_train, y_train)"
   ]
  },
  {
   "cell_type": "code",
   "execution_count": 74,
   "metadata": {},
   "outputs": [
    {
     "name": "stdout",
     "output_type": "stream",
     "text": [
      "A previsão é: [0 0 0 ... 0 0 0]\n"
     ]
    }
   ],
   "source": [
    "# Fazendo previsões\n",
    "\n",
    "y_pred = classifier.predict(x_test)\n",
    "\n",
    "print(f'A previsão é: {y_pred}')"
   ]
  },
  {
   "cell_type": "markdown",
   "metadata": {},
   "source": [
    "Entendendo o que é Matriz de Confusão\n",
    "\n",
    "É uma ferramenta muito usada para avaliações de modelos de classificação em Aprendizado de Máquina (mais comumente chamado de Machine Learning).\n",
    "\n",
    "Para termos dados de exemplo, imagine que eu tivesse um modelo que, dada as características fisiológicas de uma paciente, dissesse que a mesma está grávida ou não. Porém, para o nosso contexto, eu só trarei uma lista com os dados reais, e uma lista de dados preditos pelo modelo, ambos dados fake.\n",
    "\n",
    "<img alt=\"\" class=\"bg ms mt c\" width=\"513\" height=\"80\" loading=\"lazy\" role=\"presentation\" src=\"https://miro.medium.com/v2/resize:fit:513/1*TfoXaIAxmUdEr4q_jBIs6g.png\">\n",
    "\n",
    "Como saber se meu modelo previu bem? Como saber se ele prevê bem a classe que queremos (Grávida)? Essas e outras questões podemos entender com as matrizes de confusão.\n",
    "\n",
    "O que são matrizes de confusão?\n",
    "\n",
    "É um tabela que mostra as frequências de classificação para cada classe do modelo. Pegando o exemplo acima, ela vai nos mostrar as frequências:\n",
    "\n",
    "* Verdadeiro positivo (true positive — TP): ocorre quando no conjunto real, a classe que estamos buscando foi prevista corretamente. Por exemplo, quando a mulher está grávida e o modelo previu corretamente que ela está grávida.\n",
    "\n",
    "* Falso positivo (false positive — FP): ocorre quando no conjunto real, a classe que estamos buscando prever foi prevista incorretamente. Exemplo: a mulher não está grávida, mas o modelo disse que ela está.\n",
    "\n",
    "* Falso verdadeiro (true negative — TN): ocorre quando no conjunto real, a classe que não estamos buscando prever foi prevista corretamente. Exemplo: a mulher não estava grávida, e o modelo previu corretamente que ela não está.\n",
    "\n",
    "* Falso negativo (false negative — FN): ocorre quando no conjunto real, a classe que não estamos buscando prever foi prevista incorretamente. Por exemplo, quando a mulher está grávida e o modelo previu incorretamente que ela não está grávida.\n",
    "\n",
    "Ao final teremos para o conjunto acima\n",
    "\n",
    "<img alt=\"\" class=\"bg ms mt c\" width=\"404\" height=\"90\" loading=\"lazy\" role=\"presentation\" src=\"https://miro.medium.com/v2/resize:fit:404/1*DYOERtaPlawq2-LDmFK5EA.png\">\n",
    "\n",
    "<img alt=\"\" class=\"bg ms mt c\" width=\"327\" height=\"85\" loading=\"lazy\" role=\"presentation\" src=\"https://miro.medium.com/v2/resize:fit:327/1*Glcsi60bv6wqGKN7ozDu3Q.png\">\n",
    "\n",
    "Assim, nosso modelo:\n",
    "\n",
    "* Previu grávida 3 vezes corretamente\n",
    "* Previu não grávidas 4 vezes corretamente\n",
    "* Previu grávida 1 vez incorretamente\n",
    "* Previu não grávida 2 vezes incorretamente\n",
    "\n",
    "A seguir, analisaremos algumas informações úteis que podemos tirar dessa tabela\n",
    "\n",
    "Alguns conceitos importantes decorrentes da matriz\n",
    "\n",
    "* Acurácia\n",
    "Diz quanto o meu modelo acertou das previsões possíveis. No contexto acima, nosso modelo teve uma acurácia de 70%, pois acertou 7 das 10 previsões. E a razão entre o somatório das previsões corretas (verdadeiros positivos com verdadeiros negativos) sobre o somatório das previsões.\n",
    "\n",
    "<img alt=\"\" class=\"bg ms mt c\" width=\"589\" height=\"87\" loading=\"lazy\" role=\"presentation\" src=\"https://miro.medium.com/v2/resize:fit:589/1*tNTpugu1beoC3f6ivswnsA.png\">\n",
    "\n",
    "Mas isso é tudo?\n",
    "\n",
    "* Recall\n",
    "Recall responde a seguinte pergunta: qual proporção de positivos foi identificados corretamente? Em outras palavras, quão bom meu modelo é para prever positivos, sendo positivo entendido como a classe que se quer prever, no nosso contexto, se a mulher está grávida. É definido como a razão entre verdadeiros positivos sobre a soma de verdadeiros positivos com negativos falsos.\n",
    "\n",
    "<img alt=\"\" class=\"bg ms mt c\" width=\"198\" height=\"83\" loading=\"lazy\" role=\"presentation\" src=\"https://miro.medium.com/v2/resize:fit:198/1*zgmkLfNNRtFwCHp8m46AKA.png\">\n",
    "\n",
    "* Precisão\n",
    "Ainda usando o material do Google Developers, eles definem precisão como a resposta para a seguinte pergunta: Qual a proporção de identificações positivas foi realmente correta? Em outras palavras, o qual bem meu modelo trabalhou.\n",
    "\n",
    "<img alt=\"\" class=\"bg ms mt c\" width=\"238\" height=\"79\" loading=\"lazy\" role=\"presentation\" src=\"https://miro.medium.com/v2/resize:fit:238/1*pJrHo_sp-pnLFl6Ww3imUw.png\">\n",
    "\n",
    "* f-score\n",
    "Já o f-score nos mostra o balanço entre a precisão e o recall de nosso modelo. Sua fórmula é:\n",
    "\n",
    "<img alt=\"\" class=\"bg ms mt c\" width=\"260\" height=\"81\" loading=\"lazy\" role=\"presentation\" src=\"https://miro.medium.com/v2/resize:fit:260/1*sBVtY3BJoJbOs47ZZx46tA.png\">\n",
    "\n",
    "Uma observação muito importante. Os cálculos acima visam entender o seu modelo sobre os dados positivos. Ou seja, quero prever se a paciente está grávida, portanto vou olhar métricas para avaliar essa classe. Quando estamos falando de classificação multiclass (mais de duas classes possíveis de resposta), podemos trabalhar sobre a classe que queremos prever, mas também podemos olhar para cada classe em separado. Para tanto, pode ser útil, na hora de fazer a matriz de confusão, considerar a classe que queremos prever como a classe positiva, e todo o restante como negativo, assim, “inferimos” uma classificação binária só para entender o quão bem o nosso modelo está em prever a classe que queremos.\n",
    "\n",
    "O pacote metrics do sklearn, possui uma função muito interessante: classification_report, que entrega todas as métricas acima prontas em formato tabular, vale a pena a conferida. Tais métricas são consideradas para cada classe do nosso modelo. Um exemplo no print abaixo:\n",
    "\n",
    "<img alt=\"\" class=\"bg ms mt c\" width=\"480\" height=\"155\" loading=\"lazy\" role=\"presentation\" src=\"https://miro.medium.com/v2/resize:fit:480/1*BML_JiMMg8_ZtZSrMs29MQ.png\">"
   ]
  },
  {
   "cell_type": "markdown",
   "metadata": {},
   "source": [
    "______________________________________________________________________________________________________"
   ]
  },
  {
   "cell_type": "markdown",
   "metadata": {},
   "source": [
    "Vamos analisar o código linha por linha:\n",
    "\n",
    "* from sklearn.metrics import confusion_matrix: Esta linha importa a função confusion_matrix da biblioteca sklearn.metrics. A função confusion_matrix é utilizada para calcular a matriz de confusão, que é uma ferramenta de avaliação de desempenho para problemas de classificação.\n",
    "\n",
    "* cm = confusion_matrix(y_test, y_pred): Aqui, estamos utilizando a função confusion_matrix para calcular a matriz de confusão. A matriz de confusão é calculada comparando as classes verdadeiras (y_test) com as classes previstas (y_pred), que são obtidas a partir do modelo treinado. A matriz de confusão é armazenada na variável cm.\n",
    "\n",
    "A matriz de confusão é uma tabela quadrada que mostra a contagem de observações classificadas corretamente e incorretamente pelo modelo em cada classe. \n",
    "\n",
    "* VP (Verdadeiro Positivo): indica o número de observações que foram classificadas corretamente como positivas.\n",
    "* FN (Falso Negativo): indica o número de observações que foram classificadas incorretamente como negativas.\n",
    "* FP (Falso Positivo): indica o número de observações que foram classificadas incorretamente como positivas.\n",
    "* VN (Verdadeiro Negativo): indica o número de observações que foram classificadas corretamente como negativas.\n",
    "\n",
    "A matriz de confusão fornece informações sobre o desempenho do modelo, permitindo a análise de erros de classificação e a avaliação de métricas como acurácia, precisão, recall, entre outras.\n"
   ]
  },
  {
   "cell_type": "code",
   "execution_count": 75,
   "metadata": {},
   "outputs": [],
   "source": [
    "from sklearn.metrics import confusion_matrix\n",
    "\n",
    "# Criando uma instância\n",
    "\n",
    "cm = confusion_matrix(y_test, y_pred)"
   ]
  },
  {
   "cell_type": "code",
   "execution_count": 76,
   "metadata": {},
   "outputs": [
    {
     "name": "stdout",
     "output_type": "stream",
     "text": [
      "Matriz de Confusão : \n",
      " [[1352   49]\n",
      " [  63    9]]\n"
     ]
    }
   ],
   "source": [
    "print('Matriz de Confusão : \\n',cm)"
   ]
  },
  {
   "cell_type": "code",
   "execution_count": 77,
   "metadata": {},
   "outputs": [
    {
     "data": {
      "text/plain": [
       "<function matplotlib.pyplot.show(close=None, block=None)>"
      ]
     },
     "execution_count": 77,
     "metadata": {},
     "output_type": "execute_result"
    },
    {
     "data": {
      "image/png": "[encoded data removed]",
      "text/plain": [
       "<Figure size 640x480 with 2 Axes>"
      ]
     },
     "metadata": {},
     "output_type": "display_data"
    }
   ],
   "source": [
    "sns.heatmap(cm, annot = True)\n",
    "plt.show"
   ]
  },
  {
   "cell_type": "markdown",
   "metadata": {},
   "source": [
    "Vamos analisar os valores da matriz de confusão:\n",
    "\n",
    "- Verdadeiro Positivo (True Positive, TP): O valor 1334 na posição (0, 0) indica o número de observações que foram corretamente classificadas como positivas (classe 1).\n",
    "\n",
    "- Falso Positivo (False Positive, FP): O valor 63 na posição (0, 1) indica o número de observações que foram incorretamente classificadas como positivas (classe 1), mas na verdade são negativas (classe 0).\n",
    "\n",
    "- Falso Negativo (False Negative, FN): O valor 49 na posição (1, 0) indica o número de observações que foram incorretamente classificadas como negativas (classe 0), mas na verdade são positivas (classe 1).\n",
    "\n",
    "- Verdadeiro Negativo (True Negative, TN): O valor 9 na posição (1, 1) indica o número de observações que foram corretamente classificadas como negativas (classe 0).\n",
    "\n",
    "A partir desses valores, podemos interpretar a matriz de confusão e obter algumas métricas de avaliação do modelo:\n",
    "\n",
    "- Precisão (Precision): A precisão é a proporção de observações corretamente classificadas como positivas em relação ao total de observações classificadas como positivas. Nesse caso, a precisão pode ser calculada como TP / (TP + FP) = 1334 / (1334 + 63) ≈ 0.9525, ou seja, aproximadamente 95.25%.\n",
    "\n",
    "- Revocação (Recall): A revocação é a proporção de observações corretamente classificadas como positivas em relação ao total de observações reais da classe positiva. Nesse caso, a revocação pode ser calculada como TP / (TP + FN) = 1334 / (1334 + 49) ≈ 0.9533, ou seja, aproximadamente 95.33%.\n",
    "\n",
    "- Acurácia (Accuracy): A acurácia é a proporção de observações corretamente classificadas em relação ao total de observações. Nesse caso, a acurácia pode ser calculada como (TP + TN) / (TP + TN + FP + FN) = (1334 + 9) / (1334 + 63 + 49 + 9) ≈ 0.9239, ou seja, aproximadamente 92.39%.\n",
    "\n",
    "Essas métricas fornecem uma avaliação do desempenho do modelo de classificação. No geral, observa-se uma alta precisão e revocação para a classe 1, indicando que o modelo é bom em identificar corretamente as observações positivas. No entanto, deve-se notar que o número de falsos negativos (65) é relativamente alto, o que indica que o modelo falha em classificar corretamente algumas observações positivas. A acurácia geral do modelo é de aproximadamente 92.39%, o que indica um bom desempenho geral em classificar corretamente as observações, considerando ambas as classes."
   ]
  },
  {
   "cell_type": "code",
   "execution_count": 78,
   "metadata": {},
   "outputs": [],
   "source": [
    "from sklearn import metrics\n",
    "from sklearn.metrics import accuracy_score"
   ]
  },
  {
   "cell_type": "code",
   "execution_count": 79,
   "metadata": {},
   "outputs": [
    {
     "name": "stdout",
     "output_type": "stream",
     "text": [
      "\n",
      " Relatório de classificação DecisionTreeClassifier(criterion='entropy', random_state=0):\n",
      "              precision    recall  f1-score   support\n",
      "\n",
      "           0       0.96      0.97      0.96      1401\n",
      "           1       0.16      0.12      0.14        72\n",
      "\n",
      "    accuracy                           0.92      1473\n",
      "   macro avg       0.56      0.55      0.55      1473\n",
      "weighted avg       0.92      0.92      0.92      1473\n",
      "\n",
      "\n"
     ]
    }
   ],
   "source": [
    "print('\\n Relatório de classificação %s:\\n%s\\n' % (classifier, \n",
    "metrics.classification_report(y_test, y_pred)))"
   ]
  },
  {
   "cell_type": "markdown",
   "metadata": {},
   "source": [
    "A saída que você apresentou é uma tabela que contém algumas métricas de avaliação do modelo de classificação. Vamos analisar as métricas uma por uma:\n",
    "\n",
    "- Precision (Precisão): A precisão é a proporção de observações classificadas corretamente como positivas em relação ao total de observações classificadas como positivas. Para a classe 0, a precisão é de 0.95, o que significa que 95% das observações classificadas como classe 0 são realmente da classe 0. Para a classe 1, a precisão é de 0.09, indicando que apenas 9% das observações classificadas como classe 1 são realmente da classe 1.\n",
    "\n",
    "- Recall (Revocação): A revocação é a proporção de observações classificadas corretamente como positivas em relação ao total de observações reais da classe positiva. Para a classe 0, o recall é de 0.95, o que significa que 95% das observações da classe 0 foram corretamente identificadas como tal. Para a classe 1, o recall é de 0.10, indicando que apenas 10% das observações da classe 1 foram corretamente identificadas como tal.\n",
    "\n",
    "- F1-score: O F1-score é uma média harmônica entre precisão e recall, fornecendo uma medida de desempenho balanceada entre as duas métricas. Para a classe 0, o F1-score é de 0.95, e para a classe 1, é de 0.10.\n",
    "\n",
    "- Support (Suporte): O suporte é o número de observações reais em cada classe. Para a classe 0, o suporte é de 1401, indicando que há 1401 observações reais da classe 0. Para a classe 1, o suporte é de 72.\n",
    "\n",
    "- Accuracy (Acurácia): A acurácia é a proporção de observações classificadas corretamente em relação ao total de observações. Nesse caso, a acurácia é de 0.91, o que significa que o modelo classificou corretamente 91% das observações.\n",
    "\n",
    "- Macro avg (Média macro): A média macro é a média não ponderada das métricas de precisão, recall e F1-score em todas as classes. Nesse caso, a média macro para precisão, recall e F1-score é de 0.52.\n",
    "\n",
    "- Weighted avg (Média ponderada): A média ponderada é a média das métricas de precisão, recall e F1-score ponderadas pelo suporte de cada classe. Nesse caso, a média ponderada para precisão, recall e F1-score é de 0.91.\n",
    "\n",
    "Essas métricas fornecem informações sobre o desempenho do modelo de classificação, permitindo avaliar sua eficácia na tarefa de classificação. No geral, observa-se que o modelo tem um desempenho melhor para a classe 0 em comparação com a classe 1, com uma alta precisão, recall e F1-score para a classe 0, enquanto para a classe 1 essas métricas são bastante baixas."
   ]
  },
  {
   "cell_type": "markdown",
   "metadata": {},
   "source": [
    "## Logistic Regression ( Regressão Logística )"
   ]
  },
  {
   "cell_type": "markdown",
   "metadata": {},
   "source": [
    "Utilizar as bibliotecas imblearn.over_sampling e collections para realizar o balanceamento de classes usando a técnica SMOTE (Synthetic Minority Over-sampling Technique). Vamos analisar o código linha por linha:\n",
    "\n",
    "from imblearn.over_sampling import SMOTE: Esta linha importa a classe SMOTE da biblioteca imblearn.over_sampling. A biblioteca imblearn é uma extensão da biblioteca scikit-learn que fornece técnicas de balanceamento de classes.\n",
    "\n",
    "from collections import Counter: Esta linha importa a classe Counter da biblioteca collections. A classe Counter é utilizada para contar a ocorrência de elementos em uma lista.\n",
    "\n",
    "Após essas importações, é possível utilizar a classe SMOTE para realizar o balanceamento de classes utilizando a técnica SMOTE.\n",
    "\n",
    "Veja um exemplo de como essa técnica pode ser utilizada:\n",
    "\n",
    "smote = SMOTE()\n",
    "X_resampled, y_resampled = smote.fit_resample(X, y)\n",
    "\n",
    "Onde:\n",
    "\n",
    "X é uma matriz de características (features) do conjunto de dados.\n",
    "y é um vetor de classes (rótulos) correspondentes ao conjunto de dados.\n",
    "A classe SMOTE cria instâncias sintéticas da classe minoritária (classe com menos amostras) para equilibrar as classes no conjunto de dados. Isso é feito através da geração de novos exemplos sintéticos com base nos exemplos existentes da classe minoritária.\n",
    "\n",
    "Após a aplicação do SMOTE, as matrizes X_resampled e y_resampled conterão as características e as classes balanceadas, respectivamente.\n",
    "\n",
    "O uso do SMOTE é útil quando há um desequilíbrio significativo entre as classes no conjunto de dados, e é necessário aumentar a quantidade de amostras da classe minoritária para melhorar o desempenho do modelo de classificação."
   ]
  },
  {
   "cell_type": "code",
   "execution_count": 80,
   "metadata": {},
   "outputs": [],
   "source": [
    "from imblearn.over_sampling import SMOTE\n",
    "from collections import Counter"
   ]
  },
  {
   "cell_type": "code",
   "execution_count": 81,
   "metadata": {},
   "outputs": [],
   "source": [
    "# Criando uma instância do modelo\n",
    "\n",
    "smote = SMOTE()"
   ]
  },
  {
   "cell_type": "code",
   "execution_count": 82,
   "metadata": {},
   "outputs": [],
   "source": [
    "# Treinando o modelo\n",
    "\n",
    "x_train_smote, y_train_smote = smote.fit_resample(x_train, y_train)"
   ]
  },
  {
   "cell_type": "code",
   "execution_count": 83,
   "metadata": {},
   "outputs": [
    {
     "name": "stdout",
     "output_type": "stream",
     "text": [
      "Counter({0: 3299, 1: 137})\n",
      "Counter({0: 3299, 1: 3299})\n"
     ]
    }
   ],
   "source": [
    "# Verificar os dois conjuntos de dados Y\n",
    "\n",
    "print(Counter(y_train))\n",
    "print(Counter(y_train_smote))"
   ]
  },
  {
   "cell_type": "code",
   "execution_count": 84,
   "metadata": {},
   "outputs": [
    {
     "name": "stdout",
     "output_type": "stream",
     "text": [
      "Counter({0: 1, 1: 1, 2: 1, 3: 1, 4: 1, 5: 1, 6: 1, 7: 1, 8: 1, 9: 1})\n",
      "Counter({0: 1, 1: 1, 2: 1, 3: 1, 4: 1, 5: 1, 6: 1, 7: 1, 8: 1, 9: 1})\n"
     ]
    }
   ],
   "source": [
    "# O conjunto X não é alterado\n",
    "\n",
    "print(Counter(x_train))\n",
    "print(Counter(x_train_smote))"
   ]
  },
  {
   "cell_type": "markdown",
   "metadata": {},
   "source": [
    "Obs.\n",
    "\n",
    "Veja a diferença na quantidade de dados gerados pelo SMOTE, agora esta equilibrado"
   ]
  },
  {
   "cell_type": "markdown",
   "metadata": {},
   "source": [
    "Utilizar a classe LogisticRegression da biblioteca scikit-learn para criar e treinar um modelo de regressão logística. Vamos analisar o código linha por linha:\n",
    "\n",
    "clf = LogisticRegression(): Esta linha cria uma instância da classe LogisticRegression, que representa um modelo de regressão logística.\n",
    "\n",
    "clf.fit(X_train_smote, y_train_smote): Aqui, estamos ajustando (ou treinando) o modelo de regressão logística aos dados de treinamento. Os argumentos X_train_smote e y_train_smote são as variáveis de treinamento após a aplicação do SMOTE, ou seja, são as características (features) e as classes (rótulos) balanceados pelo SMOTE.\n",
    "\n",
    "O método fit é usado para treinar o modelo, ajustando-o aos dados de treinamento. Durante o treinamento, o modelo aprende os parâmetros (coeficientes) que melhor se ajustam aos dados, utilizando a abordagem da regressão logística.\n",
    "\n",
    "Após o treinamento, o modelo clf estará pronto para fazer previsões em novos dados usando o método predict. Por exemplo:\n",
    "\n",
    "y_pred = clf.predict(X_test)\n",
    "\n",
    "Onde X_test é a matriz de características dos dados de teste. O vetor y_pred conterá as previsões do modelo para os dados de teste."
   ]
  },
  {
   "cell_type": "code",
   "execution_count": 85,
   "metadata": {},
   "outputs": [
    {
     "data": {
      "text/html": [
       "<style>#sk-container-id-2 {color: black;background-color: white;}#sk-container-id-2 pre{padding: 0;}#sk-container-id-2 div.sk-toggleable {background-color: white;}#sk-container-id-2 label.sk-toggleable__label {cursor: pointer;display: block;width: 100%;margin-bottom: 0;padding: 0.3em;box-sizing: border-box;text-align: center;}#sk-container-id-2 label.sk-toggleable__label-arrow:before {content: \"▸\";float: left;margin-right: 0.25em;color: #696969;}#sk-container-id-2 label.sk-toggleable__label-arrow:hover:before {color: black;}#sk-container-id-2 div.sk-estimator:hover label.sk-toggleable__label-arrow:before {color: black;}#sk-container-id-2 div.sk-toggleable__content {max-height: 0;max-width: 0;overflow: hidden;text-align: left;background-color: #f0f8ff;}#sk-container-id-2 div.sk-toggleable__content pre {margin: 0.2em;color: black;border-radius: 0.25em;background-color: #f0f8ff;}#sk-container-id-2 input.sk-toggleable__control:checked~div.sk-toggleable__content {max-height: 200px;max-width: 100%;overflow: auto;}#sk-container-id-2 input.sk-toggleable__control:checked~label.sk-toggleable__label-arrow:before {content: \"▾\";}#sk-container-id-2 div.sk-estimator input.sk-toggleable__control:checked~label.sk-toggleable__label {background-color: #d4ebff;}#sk-container-id-2 div.sk-label input.sk-toggleable__control:checked~label.sk-toggleable__label {background-color: #d4ebff;}#sk-container-id-2 input.sk-hidden--visually {border: 0;clip: rect(1px 1px 1px 1px);clip: rect(1px, 1px, 1px, 1px);height: 1px;margin: -1px;overflow: hidden;padding: 0;position: absolute;width: 1px;}#sk-container-id-2 div.sk-estimator {font-family: monospace;background-color: #f0f8ff;border: 1px dotted black;border-radius: 0.25em;box-sizing: border-box;margin-bottom: 0.5em;}#sk-container-id-2 div.sk-estimator:hover {background-color: #d4ebff;}#sk-container-id-2 div.sk-parallel-item::after {content: \"\";width: 100%;border-bottom: 1px solid gray;flex-grow: 1;}#sk-container-id-2 div.sk-label:hover label.sk-toggleable__label {background-color: #d4ebff;}#sk-container-id-2 div.sk-serial::before {content: \"\";position: absolute;border-left: 1px solid gray;box-sizing: border-box;top: 0;bottom: 0;left: 50%;z-index: 0;}#sk-container-id-2 div.sk-serial {display: flex;flex-direction: column;align-items: center;background-color: white;padding-right: 0.2em;padding-left: 0.2em;position: relative;}#sk-container-id-2 div.sk-item {position: relative;z-index: 1;}#sk-container-id-2 div.sk-parallel {display: flex;align-items: stretch;justify-content: center;background-color: white;position: relative;}#sk-container-id-2 div.sk-item::before, #sk-container-id-2 div.sk-parallel-item::before {content: \"\";position: absolute;border-left: 1px solid gray;box-sizing: border-box;top: 0;bottom: 0;left: 50%;z-index: -1;}#sk-container-id-2 div.sk-parallel-item {display: flex;flex-direction: column;z-index: 1;position: relative;background-color: white;}#sk-container-id-2 div.sk-parallel-item:first-child::after {align-self: flex-end;width: 50%;}#sk-container-id-2 div.sk-parallel-item:last-child::after {align-self: flex-start;width: 50%;}#sk-container-id-2 div.sk-parallel-item:only-child::after {width: 0;}#sk-container-id-2 div.sk-dashed-wrapped {border: 1px dashed gray;margin: 0 0.4em 0.5em 0.4em;box-sizing: border-box;padding-bottom: 0.4em;background-color: white;}#sk-container-id-2 div.sk-label label {font-family: monospace;font-weight: bold;display: inline-block;line-height: 1.2em;}#sk-container-id-2 div.sk-label-container {text-align: center;}#sk-container-id-2 div.sk-container {/* jupyter's `normalize.less` sets `[hidden] { display: none; }` but bootstrap.min.css set `[hidden] { display: none !important; }` so we also need the `!important` here to be able to override the default hidden behavior on the sphinx rendered scikit-learn.org. See: https://github.com/scikit-learn/scikit-learn/issues/21755 */display: inline-block !important;position: relative;}#sk-container-id-2 div.sk-text-repr-fallback {display: none;}</style><div id=\"sk-container-id-2\" class=\"sk-top-container\"><div class=\"sk-text-repr-fallback\"><pre>LogisticRegression()</pre><b>In a Jupyter environment, please rerun this cell to show the HTML representation or trust the notebook. <br />On GitHub, the HTML representation is unable to render, please try loading this page with nbviewer.org.</b></div><div class=\"sk-container\" hidden><div class=\"sk-item\"><div class=\"sk-estimator sk-toggleable\"><input class=\"sk-toggleable__control sk-hidden--visually\" id=\"sk-estimator-id-2\" type=\"checkbox\" checked><label for=\"sk-estimator-id-2\" class=\"sk-toggleable__label sk-toggleable__label-arrow\">LogisticRegression</label><div class=\"sk-toggleable__content\"><pre>LogisticRegression()</pre></div></div></div></div></div>"
      ],
      "text/plain": [
       "LogisticRegression()"
      ]
     },
     "execution_count": 85,
     "metadata": {},
     "output_type": "execute_result"
    }
   ],
   "source": [
    "# Criando uma instância do modelo\n",
    "\n",
    "clf = LogisticRegression()\n",
    "\n",
    "# Treinando o modelo\n",
    "\n",
    "clf.fit(x_train_smote, y_train_smote)"
   ]
  },
  {
   "cell_type": "code",
   "execution_count": 86,
   "metadata": {},
   "outputs": [],
   "source": [
    "# Fazendo previsões\n",
    "\n",
    "y_pred = clf.predict(x_test)"
   ]
  },
  {
   "cell_type": "code",
   "execution_count": 87,
   "metadata": {},
   "outputs": [
    {
     "data": {
      "text/plain": [
       "0.7427019687712152"
      ]
     },
     "execution_count": 87,
     "metadata": {},
     "output_type": "execute_result"
    }
   ],
   "source": [
    "accuracy_score(y_test, y_pred)"
   ]
  },
  {
   "cell_type": "markdown",
   "metadata": {},
   "source": [
    " Importar várias métricas de avaliação de desempenho da biblioteca sklearn.metrics. Vamos analisar cada importação linha por linha:\n",
    "\n",
    "* from sklearn.metrics import accuracy_score: Esta linha importa a função accuracy_score, que é utilizada para calcular a acurácia do modelo de classificação. A acurácia é a proporção de observações corretamente classificadas em relação ao total de observações.\n",
    "\n",
    "* from sklearn.metrics import classification_report: Esta linha importa a função classification_report, que gera um relatório de classificação contendo várias métricas, como precisão, recall, F1-score e suporte, para cada classe no modelo de classificação.\n",
    "\n",
    "* from sklearn.metrics import confusion_matrix: Esta linha importa a função confusion_matrix, que é utilizada para calcular a matriz de confusão. A matriz de confusão é uma tabela que mostra as contagens de observações classificadas corretamente e incorretamente por classe.\n",
    "\n",
    "* from sklearn.metrics import recall_score: Esta linha importa a função recall_score, que é utilizada para calcular o recall (revocação), também conhecido como taxa de verdadeiros positivos. O recall é a proporção de observações positivas corretamente classificadas em relação ao total de observações positivas reais.\n",
    "\n",
    "* from sklearn.metrics import precision_score: Esta linha importa a função precision_score, que é utilizada para calcular a precisão. A precisão é a proporção de observações positivas corretamente classificadas em relação ao total de observações classificadas como positivas.\n",
    "\n",
    "Essas métricas de avaliação de desempenho são comumente utilizadas para analisar e medir o quão bem um modelo de classificação está performando em relação às classes previstas e as classes reais. Com essas métricas, você pode obter informações detalhadas sobre a precisão, revocação, F1-score, acurácia e outros aspectos do modelo de classificação."
   ]
  },
  {
   "cell_type": "code",
   "execution_count": 88,
   "metadata": {},
   "outputs": [],
   "source": [
    "from sklearn.metrics import accuracy_score, classification_report, confusion_matrix, recall_score, precision_score"
   ]
  },
  {
   "cell_type": "markdown",
   "metadata": {},
   "source": [
    "Utilizar a função recall_score da biblioteca sklearn.metrics para calcular o recall (revocação) entre as classes previstas (y_pred) e as classes reais (y_test). Vamos analisar a função e como ela é utilizada:\n",
    "\n",
    "recall = recall_score(y_test, y_pred)\n",
    "\n",
    "Nesse caso, a função recall_score recebe dois argumentos:\n",
    "\n",
    "y_test: É o vetor contendo as classes reais (rótulos) do conjunto de teste.\n",
    "y_pred: É o vetor contendo as classes previstas pelo modelo de classificação.\n",
    "A função recall_score calcula o recall para cada classe presente nos vetores y_test e y_pred. O recall é a proporção de observações positivas corretamente classificadas em relação ao total de observações positivas reais. Ele é útil para avaliar a capacidade do modelo em identificar corretamente as observações de uma determinada classe.\n",
    "\n",
    "O valor retornado pela função recall_score é o recall médio entre todas as classes presentes nos vetores y_test e y_pred. É importante destacar que, para utilizar corretamente essa função, as classes precisam ser codificadas de forma binária, onde 1 representa a classe positiva e 0 a classe negativa.\n",
    "\n",
    "Após a execução do código, a variável recall conterá o valor do recall calculado."
   ]
  },
  {
   "cell_type": "code",
   "execution_count": 89,
   "metadata": {},
   "outputs": [
    {
     "data": {
      "text/plain": [
       "0.8472222222222222"
      ]
     },
     "execution_count": 89,
     "metadata": {},
     "output_type": "execute_result"
    }
   ],
   "source": [
    "recall_score(y_test, y_pred)"
   ]
  },
  {
   "cell_type": "code",
   "execution_count": 90,
   "metadata": {},
   "outputs": [
    {
     "data": {
      "text/plain": [
       "0.14219114219114218"
      ]
     },
     "execution_count": 90,
     "metadata": {},
     "output_type": "execute_result"
    }
   ],
   "source": [
    "precision_score(y_test, y_pred)"
   ]
  },
  {
   "cell_type": "code",
   "execution_count": 91,
   "metadata": {},
   "outputs": [
    {
     "data": {
      "text/plain": [
       "array([[1033,  368],\n",
       "       [  11,   61]])"
      ]
     },
     "execution_count": 91,
     "metadata": {},
     "output_type": "execute_result"
    }
   ],
   "source": [
    "confusion_matrix(y_test, y_pred)"
   ]
  },
  {
   "cell_type": "markdown",
   "metadata": {},
   "source": [
    "<img src=\"https://cdn1.gnarususercontent.com.br/1/498622/01bf6306-57d4-4df0-a2d9-01b13e1c36a9.png\" alt=\"Matriz de confusão onde na primeira posição no canto superior tem os True Positives, à direita os False Negatives, no canto inferior esquerdo os False Positive e à direita os True Negatives\">\n",
    "\n",
    "Assim, nosso modelo:\n",
    "\n",
    "* Previu 1033 vezes TP corretamente Verdadeiro Positivo\n",
    "* Previu 61 vezes TN corretamente Verdadeiro Negativo\n",
    "* Previu 368 vezes FN incorretamente Falso Negativo\n",
    "* Previu 11 vezes FP incorretamente Falso Positivo\n",
    "\n",
    "A seguir, analisaremos algumas informações úteis que podemos tirar dessa tabela\n",
    "\n",
    "Alguns conceitos importantes decorrentes da matriz\n",
    "\n",
    "* Acurácia\n",
    "Diz quanto o meu modelo acertou das previsões possíveis. No contexto acima, nosso modelo teve uma acurácia de 74,27%, pois acertou 1094 das 1473 previsões. E a razão entre o somatório das previsões corretas (verdadeiros positivos com verdadeiros negativos) sobre o somatório das previsões."
   ]
  },
  {
   "cell_type": "code",
   "execution_count": 92,
   "metadata": {},
   "outputs": [
    {
     "data": {
      "text/html": [
       "<div>\n",
       "<style scoped>\n",
       "    .dataframe tbody tr th:only-of-type {\n",
       "        vertical-align: middle;\n",
       "    }\n",
       "\n",
       "    .dataframe tbody tr th {\n",
       "        vertical-align: top;\n",
       "    }\n",
       "\n",
       "    .dataframe thead th {\n",
       "        text-align: right;\n",
       "    }\n",
       "</style>\n",
       "<table border=\"1\" class=\"dataframe\">\n",
       "  <thead>\n",
       "    <tr style=\"text-align: right;\">\n",
       "      <th>col_0</th>\n",
       "      <th>0</th>\n",
       "      <th>1</th>\n",
       "    </tr>\n",
       "    <tr>\n",
       "      <th>stroke</th>\n",
       "      <th></th>\n",
       "      <th></th>\n",
       "    </tr>\n",
       "  </thead>\n",
       "  <tbody>\n",
       "    <tr>\n",
       "      <th>0</th>\n",
       "      <td>1033</td>\n",
       "      <td>368</td>\n",
       "    </tr>\n",
       "    <tr>\n",
       "      <th>1</th>\n",
       "      <td>11</td>\n",
       "      <td>61</td>\n",
       "    </tr>\n",
       "  </tbody>\n",
       "</table>\n",
       "</div>"
      ],
      "text/plain": [
       "col_0      0    1\n",
       "stroke           \n",
       "0       1033  368\n",
       "1         11   61"
      ]
     },
     "execution_count": 92,
     "metadata": {},
     "output_type": "execute_result"
    }
   ],
   "source": [
    "# Uma melhor visualização \n",
    "\n",
    "pd.crosstab(y_test, y_pred)"
   ]
  },
  {
   "cell_type": "code",
   "execution_count": 93,
   "metadata": {},
   "outputs": [
    {
     "name": "stdout",
     "output_type": "stream",
     "text": [
      "              precision    recall  f1-score   support\n",
      "\n",
      "           0       0.99      0.74      0.84      1401\n",
      "           1       0.14      0.85      0.24        72\n",
      "\n",
      "    accuracy                           0.74      1473\n",
      "   macro avg       0.57      0.79      0.54      1473\n",
      "weighted avg       0.95      0.74      0.82      1473\n",
      "\n"
     ]
    }
   ],
   "source": [
    "print(classification_report(y_test, y_pred))"
   ]
  },
  {
   "cell_type": "markdown",
   "metadata": {},
   "source": [
    "Obs.\n",
    "\n",
    "Acurácia é a mesma apresentada da Matriz de confusão"
   ]
  },
  {
   "cell_type": "code",
   "execution_count": 95,
   "metadata": {},
   "outputs": [
    {
     "data": {
      "text/plain": [
       "<function matplotlib.pyplot.show(close=None, block=None)>"
      ]
     },
     "execution_count": 95,
     "metadata": {},
     "output_type": "execute_result"
    },
    {
     "data": {
      "image/png": "[encoded data removed]",
      "text/plain": [
       "<Figure size 640x480 with 2 Axes>"
      ]
     },
     "metadata": {},
     "output_type": "display_data"
    }
   ],
   "source": [
    "conf = confusion_matrix(y_test, y_pred)\n",
    "sns.heatmap(conf, annot = True)\n",
    "plt.show"
   ]
  },
  {
   "cell_type": "markdown",
   "metadata": {},
   "source": [
    "## Random Forest (Floresta Aleatória)"
   ]
  },
  {
   "cell_type": "markdown",
   "metadata": {},
   "source": [
    " Cria uma instância do modelo RandomForestClassifier da biblioteca scikit-learn.\n",
    "\n",
    " model = RandomForestClassifier(random_state=5, n_estimators=100, max_depth=15)\n",
    "\n",
    "Aqui estão os significados dos parâmetros utilizados:\n",
    "\n",
    "* random_state=5: O parâmetro random_state é usado para controlar a aleatoriedade do modelo. Definir um valor fixo para random_state garante que o modelo seja reproduzível, ou seja, executar o mesmo código várias vezes produzirá os mesmos resultados.\n",
    "\n",
    "* n_estimators=100: O parâmetro n_estimators define o número de árvores de decisão que serão combinadas para formar o modelo de floresta aleatória. Neste caso, o modelo terá 100 árvores.\n",
    "\n",
    "* max_depth=15: O parâmetro max_depth define a profundidade máxima das árvores de decisão no modelo. Limitar a profundidade das árvores pode ajudar a controlar a complexidade do modelo e evitar o overfitting. Neste caso, a profundidade máxima das árvores será 15.\n",
    "\n",
    "Portanto, o modelo RandomForestClassifier criado possui 100 árvores de decisão e cada árvore tem uma profundidade máxima de 15. Essas configurações podem ser ajustadas de acordo com as necessidades específicas do problema e os dados em que o modelo está sendo aplicado."
   ]
  },
  {
   "cell_type": "code",
   "execution_count": 97,
   "metadata": {},
   "outputs": [],
   "source": [
    "# Criando uma instância do modelo\n",
    "\n",
    "model = RandomForestClassifier(random_state= 5, n_estimators= 100, max_depth= 15)"
   ]
  },
  {
   "cell_type": "code",
   "execution_count": 98,
   "metadata": {},
   "outputs": [
    {
     "data": {
      "text/html": [
       "<style>#sk-container-id-3 {color: black;background-color: white;}#sk-container-id-3 pre{padding: 0;}#sk-container-id-3 div.sk-toggleable {background-color: white;}#sk-container-id-3 label.sk-toggleable__label {cursor: pointer;display: block;width: 100%;margin-bottom: 0;padding: 0.3em;box-sizing: border-box;text-align: center;}#sk-container-id-3 label.sk-toggleable__label-arrow:before {content: \"▸\";float: left;margin-right: 0.25em;color: #696969;}#sk-container-id-3 label.sk-toggleable__label-arrow:hover:before {color: black;}#sk-container-id-3 div.sk-estimator:hover label.sk-toggleable__label-arrow:before {color: black;}#sk-container-id-3 div.sk-toggleable__content {max-height: 0;max-width: 0;overflow: hidden;text-align: left;background-color: #f0f8ff;}#sk-container-id-3 div.sk-toggleable__content pre {margin: 0.2em;color: black;border-radius: 0.25em;background-color: #f0f8ff;}#sk-container-id-3 input.sk-toggleable__control:checked~div.sk-toggleable__content {max-height: 200px;max-width: 100%;overflow: auto;}#sk-container-id-3 input.sk-toggleable__control:checked~label.sk-toggleable__label-arrow:before {content: \"▾\";}#sk-container-id-3 div.sk-estimator input.sk-toggleable__control:checked~label.sk-toggleable__label {background-color: #d4ebff;}#sk-container-id-3 div.sk-label input.sk-toggleable__control:checked~label.sk-toggleable__label {background-color: #d4ebff;}#sk-container-id-3 input.sk-hidden--visually {border: 0;clip: rect(1px 1px 1px 1px);clip: rect(1px, 1px, 1px, 1px);height: 1px;margin: -1px;overflow: hidden;padding: 0;position: absolute;width: 1px;}#sk-container-id-3 div.sk-estimator {font-family: monospace;background-color: #f0f8ff;border: 1px dotted black;border-radius: 0.25em;box-sizing: border-box;margin-bottom: 0.5em;}#sk-container-id-3 div.sk-estimator:hover {background-color: #d4ebff;}#sk-container-id-3 div.sk-parallel-item::after {content: \"\";width: 100%;border-bottom: 1px solid gray;flex-grow: 1;}#sk-container-id-3 div.sk-label:hover label.sk-toggleable__label {background-color: #d4ebff;}#sk-container-id-3 div.sk-serial::before {content: \"\";position: absolute;border-left: 1px solid gray;box-sizing: border-box;top: 0;bottom: 0;left: 50%;z-index: 0;}#sk-container-id-3 div.sk-serial {display: flex;flex-direction: column;align-items: center;background-color: white;padding-right: 0.2em;padding-left: 0.2em;position: relative;}#sk-container-id-3 div.sk-item {position: relative;z-index: 1;}#sk-container-id-3 div.sk-parallel {display: flex;align-items: stretch;justify-content: center;background-color: white;position: relative;}#sk-container-id-3 div.sk-item::before, #sk-container-id-3 div.sk-parallel-item::before {content: \"\";position: absolute;border-left: 1px solid gray;box-sizing: border-box;top: 0;bottom: 0;left: 50%;z-index: -1;}#sk-container-id-3 div.sk-parallel-item {display: flex;flex-direction: column;z-index: 1;position: relative;background-color: white;}#sk-container-id-3 div.sk-parallel-item:first-child::after {align-self: flex-end;width: 50%;}#sk-container-id-3 div.sk-parallel-item:last-child::after {align-self: flex-start;width: 50%;}#sk-container-id-3 div.sk-parallel-item:only-child::after {width: 0;}#sk-container-id-3 div.sk-dashed-wrapped {border: 1px dashed gray;margin: 0 0.4em 0.5em 0.4em;box-sizing: border-box;padding-bottom: 0.4em;background-color: white;}#sk-container-id-3 div.sk-label label {font-family: monospace;font-weight: bold;display: inline-block;line-height: 1.2em;}#sk-container-id-3 div.sk-label-container {text-align: center;}#sk-container-id-3 div.sk-container {/* jupyter's `normalize.less` sets `[hidden] { display: none; }` but bootstrap.min.css set `[hidden] { display: none !important; }` so we also need the `!important` here to be able to override the default hidden behavior on the sphinx rendered scikit-learn.org. See: https://github.com/scikit-learn/scikit-learn/issues/21755 */display: inline-block !important;position: relative;}#sk-container-id-3 div.sk-text-repr-fallback {display: none;}</style><div id=\"sk-container-id-3\" class=\"sk-top-container\"><div class=\"sk-text-repr-fallback\"><pre>RandomForestClassifier(max_depth=15, random_state=5)</pre><b>In a Jupyter environment, please rerun this cell to show the HTML representation or trust the notebook. <br />On GitHub, the HTML representation is unable to render, please try loading this page with nbviewer.org.</b></div><div class=\"sk-container\" hidden><div class=\"sk-item\"><div class=\"sk-estimator sk-toggleable\"><input class=\"sk-toggleable__control sk-hidden--visually\" id=\"sk-estimator-id-3\" type=\"checkbox\" checked><label for=\"sk-estimator-id-3\" class=\"sk-toggleable__label sk-toggleable__label-arrow\">RandomForestClassifier</label><div class=\"sk-toggleable__content\"><pre>RandomForestClassifier(max_depth=15, random_state=5)</pre></div></div></div></div></div>"
      ],
      "text/plain": [
       "RandomForestClassifier(max_depth=15, random_state=5)"
      ]
     },
     "execution_count": 98,
     "metadata": {},
     "output_type": "execute_result"
    }
   ],
   "source": [
    "# Treinando o modelo\n",
    "\n",
    "model.fit(x_train_smote, y_train_smote)"
   ]
  },
  {
   "cell_type": "markdown",
   "metadata": {},
   "source": [
    "A propriedade feature_importances_ é usada para obter a importância das características (features) no modelo RandomForestClassifier. Essa propriedade retorna um array com os valores de importância de cada característica.\n",
    "\n",
    "importances = model.feature_importances_\n",
    "\n",
    "Após a execução desse código, a variável importances conterá um array com os valores de importância das características. Esses valores indicam a contribuição relativa de cada característica no processo de tomada de decisão do modelo RandomForestClassifier.\n",
    "\n",
    "Quanto maior o valor de importância, mais relevante a característica é para o modelo na previsão do resultado. É útil examinar a importância das características para identificar quais delas têm maior influência nas previsões do modelo. Isso pode ajudar a entender melhor o problema e a tomar decisões sobre a seleção de características ou a criação de novas características para melhorar o desempenho do modelo."
   ]
  },
  {
   "cell_type": "code",
   "execution_count": 99,
   "metadata": {},
   "outputs": [
    {
     "data": {
      "text/plain": [
       "array([0.02376433, 0.34014854, 0.02365053, 0.01543907, 0.07723625,\n",
       "       0.11926618, 0.02605488, 0.12381659, 0.09525536, 0.15536827])"
      ]
     },
     "execution_count": 99,
     "metadata": {},
     "output_type": "execute_result"
    }
   ],
   "source": [
    "model.feature_importances_"
   ]
  },
  {
   "cell_type": "code",
   "execution_count": 100,
   "metadata": {},
   "outputs": [],
   "source": [
    "# Fazendo previsões\n",
    "\n",
    "y_pred_rf = model.predict(x_test)"
   ]
  },
  {
   "cell_type": "code",
   "execution_count": 101,
   "metadata": {},
   "outputs": [
    {
     "name": "stdout",
     "output_type": "stream",
     "text": [
      "              precision    recall  f1-score   support\n",
      "\n",
      "           0       0.96      0.96      0.96      1401\n",
      "           1       0.15      0.15      0.15        72\n",
      "\n",
      "    accuracy                           0.92      1473\n",
      "   macro avg       0.55      0.55      0.55      1473\n",
      "weighted avg       0.92      0.92      0.92      1473\n",
      "\n"
     ]
    }
   ],
   "source": [
    "print(classification_report(y_test, y_pred_rf))"
   ]
  },
  {
   "cell_type": "code",
   "execution_count": 105,
   "metadata": {},
   "outputs": [
    {
     "data": {
      "text/plain": [
       "0.9158180583842498"
      ]
     },
     "execution_count": 105,
     "metadata": {},
     "output_type": "execute_result"
    }
   ],
   "source": [
    "accuracy_score(y_test, y_pred_rf)"
   ]
  },
  {
   "cell_type": "markdown",
   "metadata": {},
   "source": [
    "Obs.\n",
    "\n",
    "Acurácia passou de 74% para 92%"
   ]
  },
  {
   "cell_type": "code",
   "execution_count": 102,
   "metadata": {},
   "outputs": [
    {
     "data": {
      "text/html": [
       "<div>\n",
       "<style scoped>\n",
       "    .dataframe tbody tr th:only-of-type {\n",
       "        vertical-align: middle;\n",
       "    }\n",
       "\n",
       "    .dataframe tbody tr th {\n",
       "        vertical-align: top;\n",
       "    }\n",
       "\n",
       "    .dataframe thead th {\n",
       "        text-align: right;\n",
       "    }\n",
       "</style>\n",
       "<table border=\"1\" class=\"dataframe\">\n",
       "  <thead>\n",
       "    <tr style=\"text-align: right;\">\n",
       "      <th>col_0</th>\n",
       "      <th>0</th>\n",
       "      <th>1</th>\n",
       "    </tr>\n",
       "    <tr>\n",
       "      <th>stroke</th>\n",
       "      <th></th>\n",
       "      <th></th>\n",
       "    </tr>\n",
       "  </thead>\n",
       "  <tbody>\n",
       "    <tr>\n",
       "      <th>0</th>\n",
       "      <td>1338</td>\n",
       "      <td>63</td>\n",
       "    </tr>\n",
       "    <tr>\n",
       "      <th>1</th>\n",
       "      <td>61</td>\n",
       "      <td>11</td>\n",
       "    </tr>\n",
       "  </tbody>\n",
       "</table>\n",
       "</div>"
      ],
      "text/plain": [
       "col_0      0   1\n",
       "stroke          \n",
       "0       1338  63\n",
       "1         61  11"
      ]
     },
     "execution_count": 102,
     "metadata": {},
     "output_type": "execute_result"
    }
   ],
   "source": [
    "pd.crosstab(y_test, y_pred_rf)"
   ]
  },
  {
   "cell_type": "markdown",
   "metadata": {},
   "source": [
    "Obs.\n",
    "\n",
    "Baixou o número de erros de 379 para 124 erros"
   ]
  },
  {
   "cell_type": "code",
   "execution_count": 103,
   "metadata": {},
   "outputs": [
    {
     "data": {
      "text/plain": [
       "<function matplotlib.pyplot.show(close=None, block=None)>"
      ]
     },
     "execution_count": 103,
     "metadata": {},
     "output_type": "execute_result"
    },
    {
     "data": {
      "image/png": "[encoded data removed]",
      "text/plain": [
       "<Figure size 640x480 with 2 Axes>"
      ]
     },
     "metadata": {},
     "output_type": "display_data"
    }
   ],
   "source": [
    "conf = confusion_matrix(y_test, y_pred_rf)\n",
    "sns.heatmap(conf, annot = True)\n",
    "plt.show"
   ]
  },
  {
   "cell_type": "markdown",
   "metadata": {},
   "source": [
    "O XGBoost é uma das estruturas de aprendizado de máquina mais populares entre os cientistas de dados. De acordo com a Kaggle State of Data Science Survey 2021 , quase 50% dos entrevistados disseram que usaram o XGBoost, ficando abaixo apenas do TensorFlow e do Sklearn."
   ]
  },
  {
   "cell_type": "code",
   "execution_count": 109,
   "metadata": {},
   "outputs": [],
   "source": [
    "import xgboost as xgb\n",
    "\n",
    "# Criando uma instância do modelo XGBoost\n",
    "\n",
    "xgb_classifier = XGBClassifier()"
   ]
  },
  {
   "cell_type": "code",
   "execution_count": 110,
   "metadata": {},
   "outputs": [
    {
     "data": {
      "text/html": [
       "<style>#sk-container-id-4 {color: black;background-color: white;}#sk-container-id-4 pre{padding: 0;}#sk-container-id-4 div.sk-toggleable {background-color: white;}#sk-container-id-4 label.sk-toggleable__label {cursor: pointer;display: block;width: 100%;margin-bottom: 0;padding: 0.3em;box-sizing: border-box;text-align: center;}#sk-container-id-4 label.sk-toggleable__label-arrow:before {content: \"▸\";float: left;margin-right: 0.25em;color: #696969;}#sk-container-id-4 label.sk-toggleable__label-arrow:hover:before {color: black;}#sk-container-id-4 div.sk-estimator:hover label.sk-toggleable__label-arrow:before {color: black;}#sk-container-id-4 div.sk-toggleable__content {max-height: 0;max-width: 0;overflow: hidden;text-align: left;background-color: #f0f8ff;}#sk-container-id-4 div.sk-toggleable__content pre {margin: 0.2em;color: black;border-radius: 0.25em;background-color: #f0f8ff;}#sk-container-id-4 input.sk-toggleable__control:checked~div.sk-toggleable__content {max-height: 200px;max-width: 100%;overflow: auto;}#sk-container-id-4 input.sk-toggleable__control:checked~label.sk-toggleable__label-arrow:before {content: \"▾\";}#sk-container-id-4 div.sk-estimator input.sk-toggleable__control:checked~label.sk-toggleable__label {background-color: #d4ebff;}#sk-container-id-4 div.sk-label input.sk-toggleable__control:checked~label.sk-toggleable__label {background-color: #d4ebff;}#sk-container-id-4 input.sk-hidden--visually {border: 0;clip: rect(1px 1px 1px 1px);clip: rect(1px, 1px, 1px, 1px);height: 1px;margin: -1px;overflow: hidden;padding: 0;position: absolute;width: 1px;}#sk-container-id-4 div.sk-estimator {font-family: monospace;background-color: #f0f8ff;border: 1px dotted black;border-radius: 0.25em;box-sizing: border-box;margin-bottom: 0.5em;}#sk-container-id-4 div.sk-estimator:hover {background-color: #d4ebff;}#sk-container-id-4 div.sk-parallel-item::after {content: \"\";width: 100%;border-bottom: 1px solid gray;flex-grow: 1;}#sk-container-id-4 div.sk-label:hover label.sk-toggleable__label {background-color: #d4ebff;}#sk-container-id-4 div.sk-serial::before {content: \"\";position: absolute;border-left: 1px solid gray;box-sizing: border-box;top: 0;bottom: 0;left: 50%;z-index: 0;}#sk-container-id-4 div.sk-serial {display: flex;flex-direction: column;align-items: center;background-color: white;padding-right: 0.2em;padding-left: 0.2em;position: relative;}#sk-container-id-4 div.sk-item {position: relative;z-index: 1;}#sk-container-id-4 div.sk-parallel {display: flex;align-items: stretch;justify-content: center;background-color: white;position: relative;}#sk-container-id-4 div.sk-item::before, #sk-container-id-4 div.sk-parallel-item::before {content: \"\";position: absolute;border-left: 1px solid gray;box-sizing: border-box;top: 0;bottom: 0;left: 50%;z-index: -1;}#sk-container-id-4 div.sk-parallel-item {display: flex;flex-direction: column;z-index: 1;position: relative;background-color: white;}#sk-container-id-4 div.sk-parallel-item:first-child::after {align-self: flex-end;width: 50%;}#sk-container-id-4 div.sk-parallel-item:last-child::after {align-self: flex-start;width: 50%;}#sk-container-id-4 div.sk-parallel-item:only-child::after {width: 0;}#sk-container-id-4 div.sk-dashed-wrapped {border: 1px dashed gray;margin: 0 0.4em 0.5em 0.4em;box-sizing: border-box;padding-bottom: 0.4em;background-color: white;}#sk-container-id-4 div.sk-label label {font-family: monospace;font-weight: bold;display: inline-block;line-height: 1.2em;}#sk-container-id-4 div.sk-label-container {text-align: center;}#sk-container-id-4 div.sk-container {/* jupyter's `normalize.less` sets `[hidden] { display: none; }` but bootstrap.min.css set `[hidden] { display: none !important; }` so we also need the `!important` here to be able to override the default hidden behavior on the sphinx rendered scikit-learn.org. See: https://github.com/scikit-learn/scikit-learn/issues/21755 */display: inline-block !important;position: relative;}#sk-container-id-4 div.sk-text-repr-fallback {display: none;}</style><div id=\"sk-container-id-4\" class=\"sk-top-container\"><div class=\"sk-text-repr-fallback\"><pre>XGBClassifier(base_score=None, booster=None, callbacks=None,\n",
       "              colsample_bylevel=None, colsample_bynode=None,\n",
       "              colsample_bytree=None, early_stopping_rounds=None,\n",
       "              enable_categorical=False, eval_metric=None, feature_types=None,\n",
       "              gamma=None, gpu_id=None, grow_policy=None, importance_type=None,\n",
       "              interaction_constraints=None, learning_rate=None, max_bin=None,\n",
       "              max_cat_threshold=None, max_cat_to_onehot=None,\n",
       "              max_delta_step=None, max_depth=None, max_leaves=None,\n",
       "              min_child_weight=None, missing=nan, monotone_constraints=None,\n",
       "              n_estimators=100, n_jobs=None, num_parallel_tree=None,\n",
       "              predictor=None, random_state=None, ...)</pre><b>In a Jupyter environment, please rerun this cell to show the HTML representation or trust the notebook. <br />On GitHub, the HTML representation is unable to render, please try loading this page with nbviewer.org.</b></div><div class=\"sk-container\" hidden><div class=\"sk-item\"><div class=\"sk-estimator sk-toggleable\"><input class=\"sk-toggleable__control sk-hidden--visually\" id=\"sk-estimator-id-4\" type=\"checkbox\" checked><label for=\"sk-estimator-id-4\" class=\"sk-toggleable__label sk-toggleable__label-arrow\">XGBClassifier</label><div class=\"sk-toggleable__content\"><pre>XGBClassifier(base_score=None, booster=None, callbacks=None,\n",
       "              colsample_bylevel=None, colsample_bynode=None,\n",
       "              colsample_bytree=None, early_stopping_rounds=None,\n",
       "              enable_categorical=False, eval_metric=None, feature_types=None,\n",
       "              gamma=None, gpu_id=None, grow_policy=None, importance_type=None,\n",
       "              interaction_constraints=None, learning_rate=None, max_bin=None,\n",
       "              max_cat_threshold=None, max_cat_to_onehot=None,\n",
       "              max_delta_step=None, max_depth=None, max_leaves=None,\n",
       "              min_child_weight=None, missing=nan, monotone_constraints=None,\n",
       "              n_estimators=100, n_jobs=None, num_parallel_tree=None,\n",
       "              predictor=None, random_state=None, ...)</pre></div></div></div></div></div>"
      ],
      "text/plain": [
       "XGBClassifier(base_score=None, booster=None, callbacks=None,\n",
       "              colsample_bylevel=None, colsample_bynode=None,\n",
       "              colsample_bytree=None, early_stopping_rounds=None,\n",
       "              enable_categorical=False, eval_metric=None, feature_types=None,\n",
       "              gamma=None, gpu_id=None, grow_policy=None, importance_type=None,\n",
       "              interaction_constraints=None, learning_rate=None, max_bin=None,\n",
       "              max_cat_threshold=None, max_cat_to_onehot=None,\n",
       "              max_delta_step=None, max_depth=None, max_leaves=None,\n",
       "              min_child_weight=None, missing=nan, monotone_constraints=None,\n",
       "              n_estimators=100, n_jobs=None, num_parallel_tree=None,\n",
       "              predictor=None, random_state=None, ...)"
      ]
     },
     "execution_count": 110,
     "metadata": {},
     "output_type": "execute_result"
    }
   ],
   "source": [
    "# Treinando o modelo\n",
    "\n",
    "xgb_classifier.fit(x_train, y_train)"
   ]
  },
  {
   "cell_type": "code",
   "execution_count": 111,
   "metadata": {},
   "outputs": [],
   "source": [
    "# Fazendo previsões\n",
    "\n",
    "y_pred = xgb_classifier.predict(x_test)"
   ]
  },
  {
   "cell_type": "markdown",
   "metadata": {},
   "source": [
    "Cria uma instância do modelo XGBClassifier da biblioteca XGBoost com alguns parâmetros especificados. Vamos analisar os parâmetros utilizados:\n",
    "\n",
    "model = XGBClassifier(random_state=5, n_estimators=100, max_depth=15, learning_rate=1.0)\n",
    "\n",
    "Aqui estão os significados dos parâmetros utilizados:\n",
    "\n",
    "* random_state=5: O parâmetro random_state é usado para controlar a aleatoriedade do modelo. Definir um valor fixo para random_state garante que o modelo seja reproduzível, ou seja, executar o mesmo código várias vezes produzirá os mesmos resultados.\n",
    "\n",
    "* n_estimators=100: O parâmetro n_estimators define o número de estimadores (árvores) que serão combinados para formar o modelo XGBoost. Neste caso, o modelo terá 100 estimadores.\n",
    "\n",
    "* max_depth=15: O parâmetro max_depth define a profundidade máxima das árvores de decisão no modelo XGBoost. Limitar a profundidade das árvores pode ajudar a controlar a complexidade do modelo e evitar o overfitting. Neste caso, a profundidade máxima das árvores será 15.\n",
    "\n",
    "* learning_rate=1.0: O parâmetro learning_rate (taxa de aprendizado) controla a taxa com que cada árvore contribui para a atualização do modelo. Um valor mais baixo indica uma contribuição mais conservadora, enquanto um valor mais alto indica uma contribuição mais agressiva. Neste caso, a taxa de aprendizado é definida como 1.0, o que significa uma contribuição mais agressiva.\n",
    "\n",
    "Portanto, o modelo XGBClassifier criado possui 100 estimadores, cada árvore tem uma profundidade máxima de 15 e utiliza uma taxa de aprendizado de 1.0. Essas configurações podem ser ajustadas de acordo com as necessidades específicas do problema e os dados em que o modelo está sendo aplicado."
   ]
  },
  {
   "cell_type": "code",
   "execution_count": 112,
   "metadata": {},
   "outputs": [],
   "source": [
    "# Criando uma instância do modelo\n",
    "\n",
    "model = XGBClassifier(random_state= 5, n_estimators= 100, max_depth= 15, learning_rate= 1.0)"
   ]
  },
  {
   "cell_type": "code",
   "execution_count": 113,
   "metadata": {},
   "outputs": [
    {
     "data": {
      "text/html": [
       "<style>#sk-container-id-5 {color: black;background-color: white;}#sk-container-id-5 pre{padding: 0;}#sk-container-id-5 div.sk-toggleable {background-color: white;}#sk-container-id-5 label.sk-toggleable__label {cursor: pointer;display: block;width: 100%;margin-bottom: 0;padding: 0.3em;box-sizing: border-box;text-align: center;}#sk-container-id-5 label.sk-toggleable__label-arrow:before {content: \"▸\";float: left;margin-right: 0.25em;color: #696969;}#sk-container-id-5 label.sk-toggleable__label-arrow:hover:before {color: black;}#sk-container-id-5 div.sk-estimator:hover label.sk-toggleable__label-arrow:before {color: black;}#sk-container-id-5 div.sk-toggleable__content {max-height: 0;max-width: 0;overflow: hidden;text-align: left;background-color: #f0f8ff;}#sk-container-id-5 div.sk-toggleable__content pre {margin: 0.2em;color: black;border-radius: 0.25em;background-color: #f0f8ff;}#sk-container-id-5 input.sk-toggleable__control:checked~div.sk-toggleable__content {max-height: 200px;max-width: 100%;overflow: auto;}#sk-container-id-5 input.sk-toggleable__control:checked~label.sk-toggleable__label-arrow:before {content: \"▾\";}#sk-container-id-5 div.sk-estimator input.sk-toggleable__control:checked~label.sk-toggleable__label {background-color: #d4ebff;}#sk-container-id-5 div.sk-label input.sk-toggleable__control:checked~label.sk-toggleable__label {background-color: #d4ebff;}#sk-container-id-5 input.sk-hidden--visually {border: 0;clip: rect(1px 1px 1px 1px);clip: rect(1px, 1px, 1px, 1px);height: 1px;margin: -1px;overflow: hidden;padding: 0;position: absolute;width: 1px;}#sk-container-id-5 div.sk-estimator {font-family: monospace;background-color: #f0f8ff;border: 1px dotted black;border-radius: 0.25em;box-sizing: border-box;margin-bottom: 0.5em;}#sk-container-id-5 div.sk-estimator:hover {background-color: #d4ebff;}#sk-container-id-5 div.sk-parallel-item::after {content: \"\";width: 100%;border-bottom: 1px solid gray;flex-grow: 1;}#sk-container-id-5 div.sk-label:hover label.sk-toggleable__label {background-color: #d4ebff;}#sk-container-id-5 div.sk-serial::before {content: \"\";position: absolute;border-left: 1px solid gray;box-sizing: border-box;top: 0;bottom: 0;left: 50%;z-index: 0;}#sk-container-id-5 div.sk-serial {display: flex;flex-direction: column;align-items: center;background-color: white;padding-right: 0.2em;padding-left: 0.2em;position: relative;}#sk-container-id-5 div.sk-item {position: relative;z-index: 1;}#sk-container-id-5 div.sk-parallel {display: flex;align-items: stretch;justify-content: center;background-color: white;position: relative;}#sk-container-id-5 div.sk-item::before, #sk-container-id-5 div.sk-parallel-item::before {content: \"\";position: absolute;border-left: 1px solid gray;box-sizing: border-box;top: 0;bottom: 0;left: 50%;z-index: -1;}#sk-container-id-5 div.sk-parallel-item {display: flex;flex-direction: column;z-index: 1;position: relative;background-color: white;}#sk-container-id-5 div.sk-parallel-item:first-child::after {align-self: flex-end;width: 50%;}#sk-container-id-5 div.sk-parallel-item:last-child::after {align-self: flex-start;width: 50%;}#sk-container-id-5 div.sk-parallel-item:only-child::after {width: 0;}#sk-container-id-5 div.sk-dashed-wrapped {border: 1px dashed gray;margin: 0 0.4em 0.5em 0.4em;box-sizing: border-box;padding-bottom: 0.4em;background-color: white;}#sk-container-id-5 div.sk-label label {font-family: monospace;font-weight: bold;display: inline-block;line-height: 1.2em;}#sk-container-id-5 div.sk-label-container {text-align: center;}#sk-container-id-5 div.sk-container {/* jupyter's `normalize.less` sets `[hidden] { display: none; }` but bootstrap.min.css set `[hidden] { display: none !important; }` so we also need the `!important` here to be able to override the default hidden behavior on the sphinx rendered scikit-learn.org. See: https://github.com/scikit-learn/scikit-learn/issues/21755 */display: inline-block !important;position: relative;}#sk-container-id-5 div.sk-text-repr-fallback {display: none;}</style><div id=\"sk-container-id-5\" class=\"sk-top-container\"><div class=\"sk-text-repr-fallback\"><pre>XGBClassifier(base_score=None, booster=None, callbacks=None,\n",
       "              colsample_bylevel=None, colsample_bynode=None,\n",
       "              colsample_bytree=None, early_stopping_rounds=None,\n",
       "              enable_categorical=False, eval_metric=None, feature_types=None,\n",
       "              gamma=None, gpu_id=None, grow_policy=None, importance_type=None,\n",
       "              interaction_constraints=None, learning_rate=1.0, max_bin=None,\n",
       "              max_cat_threshold=None, max_cat_to_onehot=None,\n",
       "              max_delta_step=None, max_depth=15, max_leaves=None,\n",
       "              min_child_weight=None, missing=nan, monotone_constraints=None,\n",
       "              n_estimators=100, n_jobs=None, num_parallel_tree=None,\n",
       "              predictor=None, random_state=5, ...)</pre><b>In a Jupyter environment, please rerun this cell to show the HTML representation or trust the notebook. <br />On GitHub, the HTML representation is unable to render, please try loading this page with nbviewer.org.</b></div><div class=\"sk-container\" hidden><div class=\"sk-item\"><div class=\"sk-estimator sk-toggleable\"><input class=\"sk-toggleable__control sk-hidden--visually\" id=\"sk-estimator-id-5\" type=\"checkbox\" checked><label for=\"sk-estimator-id-5\" class=\"sk-toggleable__label sk-toggleable__label-arrow\">XGBClassifier</label><div class=\"sk-toggleable__content\"><pre>XGBClassifier(base_score=None, booster=None, callbacks=None,\n",
       "              colsample_bylevel=None, colsample_bynode=None,\n",
       "              colsample_bytree=None, early_stopping_rounds=None,\n",
       "              enable_categorical=False, eval_metric=None, feature_types=None,\n",
       "              gamma=None, gpu_id=None, grow_policy=None, importance_type=None,\n",
       "              interaction_constraints=None, learning_rate=1.0, max_bin=None,\n",
       "              max_cat_threshold=None, max_cat_to_onehot=None,\n",
       "              max_delta_step=None, max_depth=15, max_leaves=None,\n",
       "              min_child_weight=None, missing=nan, monotone_constraints=None,\n",
       "              n_estimators=100, n_jobs=None, num_parallel_tree=None,\n",
       "              predictor=None, random_state=5, ...)</pre></div></div></div></div></div>"
      ],
      "text/plain": [
       "XGBClassifier(base_score=None, booster=None, callbacks=None,\n",
       "              colsample_bylevel=None, colsample_bynode=None,\n",
       "              colsample_bytree=None, early_stopping_rounds=None,\n",
       "              enable_categorical=False, eval_metric=None, feature_types=None,\n",
       "              gamma=None, gpu_id=None, grow_policy=None, importance_type=None,\n",
       "              interaction_constraints=None, learning_rate=1.0, max_bin=None,\n",
       "              max_cat_threshold=None, max_cat_to_onehot=None,\n",
       "              max_delta_step=None, max_depth=15, max_leaves=None,\n",
       "              min_child_weight=None, missing=nan, monotone_constraints=None,\n",
       "              n_estimators=100, n_jobs=None, num_parallel_tree=None,\n",
       "              predictor=None, random_state=5, ...)"
      ]
     },
     "execution_count": 113,
     "metadata": {},
     "output_type": "execute_result"
    }
   ],
   "source": [
    "# Treinando o modelo\n",
    "\n",
    "model.fit(x_train_smote, y_train_smote)"
   ]
  },
  {
   "cell_type": "code",
   "execution_count": 114,
   "metadata": {},
   "outputs": [
    {
     "data": {
      "text/plain": [
       "array([0.06062502, 0.17287989, 0.10530726, 0.0712931 , 0.12331615,\n",
       "       0.23466374, 0.03303014, 0.03472021, 0.03323784, 0.13092668],\n",
       "      dtype=float32)"
      ]
     },
     "execution_count": 114,
     "metadata": {},
     "output_type": "execute_result"
    }
   ],
   "source": [
    "model.feature_importances_"
   ]
  },
  {
   "cell_type": "code",
   "execution_count": 115,
   "metadata": {},
   "outputs": [],
   "source": [
    "# Fazendo previsões\n",
    "\n",
    "y_pred_rf = model.predict(x_test)"
   ]
  },
  {
   "cell_type": "code",
   "execution_count": 116,
   "metadata": {},
   "outputs": [
    {
     "name": "stdout",
     "output_type": "stream",
     "text": [
      "              precision    recall  f1-score   support\n",
      "\n",
      "           0       0.95      0.97      0.96      1401\n",
      "           1       0.07      0.04      0.05        72\n",
      "\n",
      "    accuracy                           0.92      1473\n",
      "   macro avg       0.51      0.51      0.51      1473\n",
      "weighted avg       0.91      0.92      0.92      1473\n",
      "\n"
     ]
    }
   ],
   "source": [
    "print(classification_report(y_test, y_pred_rf))"
   ]
  },
  {
   "cell_type": "code",
   "execution_count": 117,
   "metadata": {},
   "outputs": [
    {
     "data": {
      "text/plain": [
       "<function matplotlib.pyplot.show(close=None, block=None)>"
      ]
     },
     "execution_count": 117,
     "metadata": {},
     "output_type": "execute_result"
    },
    {
     "data": {
      "image/png": "[encoded data removed]",
      "text/plain": [
       "<Figure size 640x480 with 2 Axes>"
      ]
     },
     "metadata": {},
     "output_type": "display_data"
    }
   ],
   "source": [
    "conf = confusion_matrix(y_test, y_pred_rf)\n",
    "sns.heatmap(conf, annot = True)\n",
    "plt.show"
   ]
  },
  {
   "cell_type": "markdown",
   "metadata": {},
   "source": [
    "Cria uma instância do modelo SVC (Support Vector Classifier) da biblioteca scikit-learn. O SVC é um algoritmo de aprendizado de máquina supervisionado utilizado para classificação.\n",
    "\n",
    "svc = SVC()\n",
    "\n",
    "Neste caso, estamos criando uma instância do modelo SVC sem especificar quaisquer parâmetros. Isso significa que o modelo usará os valores padrão para os parâmetros.\n",
    "\n",
    "Os parâmetros padrão do SVC podem variar dependendo da versão da biblioteca scikit-learn. No entanto, alguns parâmetros comuns incluem:\n",
    "\n",
    "* C: Parâmetro de regularização. Controla o trade-off entre ajustar corretamente os dados de treinamento e ter uma superfície de decisão suave. Um valor maior de C implica em uma classificação mais precisa dos dados de treinamento, mas pode levar a uma superfície de decisão mais complexa.\n",
    "* kernel: Define o tipo de função de kernel a ser usada. Alguns exemplos comuns são 'linear', 'poly', 'rbf' e 'sigmoid'.\n",
    "* gamma: Parâmetro do kernel 'rbf', 'poly' e 'sigmoid'. Controla a influência dos exemplos de treinamento no modelo. Valores menores de gamma levam a um alcance de influência maior.\n",
    "É recomendável ajustar os parâmetros do modelo SVC para obter o melhor desempenho em seu problema específico. Você pode fazer isso fornecendo valores personalizados para os parâmetros durante a criação da instância do modelo ou usando técnicas de busca de hiperparâmetros, como GridSearchCV, para encontrar a combinação ideal de parâmetros para o seu conjunto de dados."
   ]
  },
  {
   "cell_type": "code",
   "execution_count": 148,
   "metadata": {},
   "outputs": [],
   "source": [
    "# Criando uma instância do modelo\n",
    "\n",
    "model = SVC(kernel= 'rbf', C= 1.0, gamma= 'scale', probability= True)\n"
   ]
  },
  {
   "cell_type": "code",
   "execution_count": 149,
   "metadata": {},
   "outputs": [
    {
     "data": {
      "text/html": [
       "<style>#sk-container-id-9 {color: black;background-color: white;}#sk-container-id-9 pre{padding: 0;}#sk-container-id-9 div.sk-toggleable {background-color: white;}#sk-container-id-9 label.sk-toggleable__label {cursor: pointer;display: block;width: 100%;margin-bottom: 0;padding: 0.3em;box-sizing: border-box;text-align: center;}#sk-container-id-9 label.sk-toggleable__label-arrow:before {content: \"▸\";float: left;margin-right: 0.25em;color: #696969;}#sk-container-id-9 label.sk-toggleable__label-arrow:hover:before {color: black;}#sk-container-id-9 div.sk-estimator:hover label.sk-toggleable__label-arrow:before {color: black;}#sk-container-id-9 div.sk-toggleable__content {max-height: 0;max-width: 0;overflow: hidden;text-align: left;background-color: #f0f8ff;}#sk-container-id-9 div.sk-toggleable__content pre {margin: 0.2em;color: black;border-radius: 0.25em;background-color: #f0f8ff;}#sk-container-id-9 input.sk-toggleable__control:checked~div.sk-toggleable__content {max-height: 200px;max-width: 100%;overflow: auto;}#sk-container-id-9 input.sk-toggleable__control:checked~label.sk-toggleable__label-arrow:before {content: \"▾\";}#sk-container-id-9 div.sk-estimator input.sk-toggleable__control:checked~label.sk-toggleable__label {background-color: #d4ebff;}#sk-container-id-9 div.sk-label input.sk-toggleable__control:checked~label.sk-toggleable__label {background-color: #d4ebff;}#sk-container-id-9 input.sk-hidden--visually {border: 0;clip: rect(1px 1px 1px 1px);clip: rect(1px, 1px, 1px, 1px);height: 1px;margin: -1px;overflow: hidden;padding: 0;position: absolute;width: 1px;}#sk-container-id-9 div.sk-estimator {font-family: monospace;background-color: #f0f8ff;border: 1px dotted black;border-radius: 0.25em;box-sizing: border-box;margin-bottom: 0.5em;}#sk-container-id-9 div.sk-estimator:hover {background-color: #d4ebff;}#sk-container-id-9 div.sk-parallel-item::after {content: \"\";width: 100%;border-bottom: 1px solid gray;flex-grow: 1;}#sk-container-id-9 div.sk-label:hover label.sk-toggleable__label {background-color: #d4ebff;}#sk-container-id-9 div.sk-serial::before {content: \"\";position: absolute;border-left: 1px solid gray;box-sizing: border-box;top: 0;bottom: 0;left: 50%;z-index: 0;}#sk-container-id-9 div.sk-serial {display: flex;flex-direction: column;align-items: center;background-color: white;padding-right: 0.2em;padding-left: 0.2em;position: relative;}#sk-container-id-9 div.sk-item {position: relative;z-index: 1;}#sk-container-id-9 div.sk-parallel {display: flex;align-items: stretch;justify-content: center;background-color: white;position: relative;}#sk-container-id-9 div.sk-item::before, #sk-container-id-9 div.sk-parallel-item::before {content: \"\";position: absolute;border-left: 1px solid gray;box-sizing: border-box;top: 0;bottom: 0;left: 50%;z-index: -1;}#sk-container-id-9 div.sk-parallel-item {display: flex;flex-direction: column;z-index: 1;position: relative;background-color: white;}#sk-container-id-9 div.sk-parallel-item:first-child::after {align-self: flex-end;width: 50%;}#sk-container-id-9 div.sk-parallel-item:last-child::after {align-self: flex-start;width: 50%;}#sk-container-id-9 div.sk-parallel-item:only-child::after {width: 0;}#sk-container-id-9 div.sk-dashed-wrapped {border: 1px dashed gray;margin: 0 0.4em 0.5em 0.4em;box-sizing: border-box;padding-bottom: 0.4em;background-color: white;}#sk-container-id-9 div.sk-label label {font-family: monospace;font-weight: bold;display: inline-block;line-height: 1.2em;}#sk-container-id-9 div.sk-label-container {text-align: center;}#sk-container-id-9 div.sk-container {/* jupyter's `normalize.less` sets `[hidden] { display: none; }` but bootstrap.min.css set `[hidden] { display: none !important; }` so we also need the `!important` here to be able to override the default hidden behavior on the sphinx rendered scikit-learn.org. See: https://github.com/scikit-learn/scikit-learn/issues/21755 */display: inline-block !important;position: relative;}#sk-container-id-9 div.sk-text-repr-fallback {display: none;}</style><div id=\"sk-container-id-9\" class=\"sk-top-container\"><div class=\"sk-text-repr-fallback\"><pre>SVC(probability=True)</pre><b>In a Jupyter environment, please rerun this cell to show the HTML representation or trust the notebook. <br />On GitHub, the HTML representation is unable to render, please try loading this page with nbviewer.org.</b></div><div class=\"sk-container\" hidden><div class=\"sk-item\"><div class=\"sk-estimator sk-toggleable\"><input class=\"sk-toggleable__control sk-hidden--visually\" id=\"sk-estimator-id-11\" type=\"checkbox\" checked><label for=\"sk-estimator-id-11\" class=\"sk-toggleable__label sk-toggleable__label-arrow\">SVC</label><div class=\"sk-toggleable__content\"><pre>SVC(probability=True)</pre></div></div></div></div></div>"
      ],
      "text/plain": [
       "SVC(probability=True)"
      ]
     },
     "execution_count": 149,
     "metadata": {},
     "output_type": "execute_result"
    }
   ],
   "source": [
    "# Treinando o modelo\n",
    "\n",
    "model.fit(x_train_smote, y_train_smote)"
   ]
  },
  {
   "cell_type": "code",
   "execution_count": 150,
   "metadata": {},
   "outputs": [],
   "source": [
    "# Fazendo previsões\n",
    "\n",
    "y_pred_svc = model.predict(x_test)"
   ]
  },
  {
   "cell_type": "code",
   "execution_count": 151,
   "metadata": {},
   "outputs": [
    {
     "data": {
      "text/plain": [
       "0.7773251866938221"
      ]
     },
     "execution_count": 151,
     "metadata": {},
     "output_type": "execute_result"
    }
   ],
   "source": [
    "accuracy_score(y_test, y_pred_svc)"
   ]
  },
  {
   "cell_type": "code",
   "execution_count": 152,
   "metadata": {},
   "outputs": [
    {
     "name": "stdout",
     "output_type": "stream",
     "text": [
      "              precision    recall  f1-score   support\n",
      "\n",
      "           0       0.97      0.79      0.87      1401\n",
      "           1       0.11      0.49      0.18        72\n",
      "\n",
      "    accuracy                           0.78      1473\n",
      "   macro avg       0.54      0.64      0.52      1473\n",
      "weighted avg       0.93      0.78      0.84      1473\n",
      "\n"
     ]
    }
   ],
   "source": [
    "print(classification_report(y_test, y_pred_svc))"
   ]
  },
  {
   "cell_type": "code",
   "execution_count": 153,
   "metadata": {},
   "outputs": [
    {
     "data": {
      "text/html": [
       "<div>\n",
       "<style scoped>\n",
       "    .dataframe tbody tr th:only-of-type {\n",
       "        vertical-align: middle;\n",
       "    }\n",
       "\n",
       "    .dataframe tbody tr th {\n",
       "        vertical-align: top;\n",
       "    }\n",
       "\n",
       "    .dataframe thead th {\n",
       "        text-align: right;\n",
       "    }\n",
       "</style>\n",
       "<table border=\"1\" class=\"dataframe\">\n",
       "  <thead>\n",
       "    <tr style=\"text-align: right;\">\n",
       "      <th>col_0</th>\n",
       "      <th>0</th>\n",
       "      <th>1</th>\n",
       "    </tr>\n",
       "    <tr>\n",
       "      <th>stroke</th>\n",
       "      <th></th>\n",
       "      <th></th>\n",
       "    </tr>\n",
       "  </thead>\n",
       "  <tbody>\n",
       "    <tr>\n",
       "      <th>0</th>\n",
       "      <td>1110</td>\n",
       "      <td>291</td>\n",
       "    </tr>\n",
       "    <tr>\n",
       "      <th>1</th>\n",
       "      <td>37</td>\n",
       "      <td>35</td>\n",
       "    </tr>\n",
       "  </tbody>\n",
       "</table>\n",
       "</div>"
      ],
      "text/plain": [
       "col_0      0    1\n",
       "stroke           \n",
       "0       1110  291\n",
       "1         37   35"
      ]
     },
     "execution_count": 153,
     "metadata": {},
     "output_type": "execute_result"
    }
   ],
   "source": [
    "pd.crosstab(y_test, y_pred_svc)"
   ]
  },
  {
   "cell_type": "code",
   "execution_count": 154,
   "metadata": {},
   "outputs": [
    {
     "data": {
      "text/plain": [
       "<function matplotlib.pyplot.show(close=None, block=None)>"
      ]
     },
     "execution_count": 154,
     "metadata": {},
     "output_type": "execute_result"
    },
    {
     "data": {
      "image/png": "[encoded data removed]",
      "text/plain": [
       "<Figure size 640x480 with 2 Axes>"
      ]
     },
     "metadata": {},
     "output_type": "display_data"
    }
   ],
   "source": [
    "conf = confusion_matrix(y_test, y_pred_svc)\n",
    "sns.heatmap(conf, annot = True)\n",
    "plt.show"
   ]
  },
  {
   "cell_type": "code",
   "execution_count": 155,
   "metadata": {},
   "outputs": [
    {
     "data": {
      "text/plain": [
       "array([[1110,  291],\n",
       "       [  37,   35]])"
      ]
     },
     "execution_count": 155,
     "metadata": {},
     "output_type": "execute_result"
    }
   ],
   "source": [
    "confusion_matrix(y_test, y_pred_svc)"
   ]
  },
  {
   "cell_type": "markdown",
   "metadata": {},
   "source": [
    " Importa as classes GridSearchCV e RandomizedSearchCV da biblioteca sklearn.model_selection. Essas classes são utilizadas para realizar a busca de hiperparâmetros (hyperparameter tuning) em modelos de aprendizado de máquina.\n",
    "\n",
    "A busca de hiperparâmetros é um processo para encontrar a combinação ideal de valores de hiperparâmetros que resulta no melhor desempenho do modelo. Isso é feito através da avaliação sistemática de diferentes combinações de valores de hiperparâmetros e medindo o desempenho do modelo em uma métrica de avaliação, como acurácia, precisão ou recall.\n",
    "\n",
    "* GridSearchCV: Essa classe implementa uma busca exaustiva sobre uma grade de hiperparâmetros especificados. Ela recebe um estimador (modelo), uma grade de hiperparâmetros e uma métrica de avaliação como entrada, e realiza uma validação cruzada para avaliar o desempenho do modelo em cada combinação de hiperparâmetros.\n",
    "\n",
    "* RandomizedSearchCV: Essa classe implementa uma busca aleatória sobre um espaço de hiperparâmetros especificado. Ela recebe um estimador (modelo), uma distribuição de hiperparâmetros e uma métrica de avaliação como entrada, e amostra aleatoriamente combinações de hiperparâmetros do espaço especificado. Em seguida, ela realiza uma validação cruzada para avaliar o desempenho do modelo em cada combinação.\n",
    "\n",
    "Essas classes são muito úteis para encontrar a combinação ideal de hiperparâmetros, especialmente quando o espaço de busca é grande e é impraticável avaliar todas as combinações possíveis. Elas automatizam o processo de busca de hiperparâmetros e fornecem a melhor combinação encontrada, juntamente com o desempenho do modelo correspondente."
   ]
  },
  {
   "cell_type": "code",
   "execution_count": 156,
   "metadata": {},
   "outputs": [],
   "source": [
    "from sklearn.model_selection import GridSearchCV, RandomizedSearchCV"
   ]
  },
  {
   "cell_type": "markdown",
   "metadata": {},
   "source": [
    "Hiperparâmetros que podem ser usados na busca de hiperparâmetros. Essa grade define diferentes valores para os parâmetros n_estimators, criterion, max_features e random_state. Aqui está a definição dos parâmetros:\n",
    "\n",
    "params = {\n",
    "    'n_estimators': [10, 20, 50, 70, 80, 100, 120],\n",
    "    'criterion': ['entropy', 'gini'],\n",
    "    'max_features': ['auto', 5, 7, 10, 15],\n",
    "    'random_state': range(0, 10)\n",
    "}\n",
    "\n",
    "* n_estimators: Uma lista de valores que define o número de estimadores (árvores) no modelo. Esses valores serão testados durante a busca de hiperparâmetros.\n",
    "\n",
    "* criterion: Uma lista de valores que define o critério de divisão usado para construir as árvores de decisão. Os dois critérios disponíveis são \"entropy\" (entropia) e \"gini\". Ambos serão testados durante a busca de hiperparâmetros.\n",
    "\n",
    "* max_features: Uma lista de valores que define o número máximo de características a serem consideradas em cada divisão. Os valores possíveis incluem \"auto\" (todas as características), números inteiros que representam a quantidade de características e números float que representam a proporção de características. Esses valores serão testados durante a busca de hiperparâmetros.\n",
    "\n",
    "* random_state: Uma faixa de valores que define o estado aleatório do modelo. Serão testados valores de 0 a 9 durante a busca de hiperparâmetros.\n",
    "\n",
    "Esses são apenas exemplos de valores para os parâmetros. Você pode ajustar essa grade de acordo com as necessidades do seu problema e a faixa de valores que deseja testar durante a busca de hiperparâmetros."
   ]
  },
  {
   "cell_type": "code",
   "execution_count": 205,
   "metadata": {},
   "outputs": [],
   "source": [
    "params = {\n",
    "    'n_estimators': [10, 20, 50, 70, 80, 100, 120],\n",
    "    'criterion': ['entropy', 'gini'],\n",
    "    'max_features': ['auto', 5, 7, 10, 15],\n",
    "    'random_state': range(0, 10)\n",
    "}"
   ]
  },
  {
   "cell_type": "code",
   "execution_count": 206,
   "metadata": {},
   "outputs": [],
   "source": [
    "# Atribuir o parametro ao modelo\n",
    "\n",
    "# Criando uma instância do modelo\n",
    "\n",
    "model_cv = RandomizedSearchCV(RandomForestClassifier(), params)"
   ]
  },
  {
   "cell_type": "code",
   "execution_count": 207,
   "metadata": {},
   "outputs": [
    {
     "data": {
      "text/html": [
       "<style>#sk-container-id-12 {color: black;background-color: white;}#sk-container-id-12 pre{padding: 0;}#sk-container-id-12 div.sk-toggleable {background-color: white;}#sk-container-id-12 label.sk-toggleable__label {cursor: pointer;display: block;width: 100%;margin-bottom: 0;padding: 0.3em;box-sizing: border-box;text-align: center;}#sk-container-id-12 label.sk-toggleable__label-arrow:before {content: \"▸\";float: left;margin-right: 0.25em;color: #696969;}#sk-container-id-12 label.sk-toggleable__label-arrow:hover:before {color: black;}#sk-container-id-12 div.sk-estimator:hover label.sk-toggleable__label-arrow:before {color: black;}#sk-container-id-12 div.sk-toggleable__content {max-height: 0;max-width: 0;overflow: hidden;text-align: left;background-color: #f0f8ff;}#sk-container-id-12 div.sk-toggleable__content pre {margin: 0.2em;color: black;border-radius: 0.25em;background-color: #f0f8ff;}#sk-container-id-12 input.sk-toggleable__control:checked~div.sk-toggleable__content {max-height: 200px;max-width: 100%;overflow: auto;}#sk-container-id-12 input.sk-toggleable__control:checked~label.sk-toggleable__label-arrow:before {content: \"▾\";}#sk-container-id-12 div.sk-estimator input.sk-toggleable__control:checked~label.sk-toggleable__label {background-color: #d4ebff;}#sk-container-id-12 div.sk-label input.sk-toggleable__control:checked~label.sk-toggleable__label {background-color: #d4ebff;}#sk-container-id-12 input.sk-hidden--visually {border: 0;clip: rect(1px 1px 1px 1px);clip: rect(1px, 1px, 1px, 1px);height: 1px;margin: -1px;overflow: hidden;padding: 0;position: absolute;width: 1px;}#sk-container-id-12 div.sk-estimator {font-family: monospace;background-color: #f0f8ff;border: 1px dotted black;border-radius: 0.25em;box-sizing: border-box;margin-bottom: 0.5em;}#sk-container-id-12 div.sk-estimator:hover {background-color: #d4ebff;}#sk-container-id-12 div.sk-parallel-item::after {content: \"\";width: 100%;border-bottom: 1px solid gray;flex-grow: 1;}#sk-container-id-12 div.sk-label:hover label.sk-toggleable__label {background-color: #d4ebff;}#sk-container-id-12 div.sk-serial::before {content: \"\";position: absolute;border-left: 1px solid gray;box-sizing: border-box;top: 0;bottom: 0;left: 50%;z-index: 0;}#sk-container-id-12 div.sk-serial {display: flex;flex-direction: column;align-items: center;background-color: white;padding-right: 0.2em;padding-left: 0.2em;position: relative;}#sk-container-id-12 div.sk-item {position: relative;z-index: 1;}#sk-container-id-12 div.sk-parallel {display: flex;align-items: stretch;justify-content: center;background-color: white;position: relative;}#sk-container-id-12 div.sk-item::before, #sk-container-id-12 div.sk-parallel-item::before {content: \"\";position: absolute;border-left: 1px solid gray;box-sizing: border-box;top: 0;bottom: 0;left: 50%;z-index: -1;}#sk-container-id-12 div.sk-parallel-item {display: flex;flex-direction: column;z-index: 1;position: relative;background-color: white;}#sk-container-id-12 div.sk-parallel-item:first-child::after {align-self: flex-end;width: 50%;}#sk-container-id-12 div.sk-parallel-item:last-child::after {align-self: flex-start;width: 50%;}#sk-container-id-12 div.sk-parallel-item:only-child::after {width: 0;}#sk-container-id-12 div.sk-dashed-wrapped {border: 1px dashed gray;margin: 0 0.4em 0.5em 0.4em;box-sizing: border-box;padding-bottom: 0.4em;background-color: white;}#sk-container-id-12 div.sk-label label {font-family: monospace;font-weight: bold;display: inline-block;line-height: 1.2em;}#sk-container-id-12 div.sk-label-container {text-align: center;}#sk-container-id-12 div.sk-container {/* jupyter's `normalize.less` sets `[hidden] { display: none; }` but bootstrap.min.css set `[hidden] { display: none !important; }` so we also need the `!important` here to be able to override the default hidden behavior on the sphinx rendered scikit-learn.org. See: https://github.com/scikit-learn/scikit-learn/issues/21755 */display: inline-block !important;position: relative;}#sk-container-id-12 div.sk-text-repr-fallback {display: none;}</style><div id=\"sk-container-id-12\" class=\"sk-top-container\"><div class=\"sk-text-repr-fallback\"><pre>RandomizedSearchCV(estimator=RandomForestClassifier(),\n",
       "                   param_distributions={&#x27;criterion&#x27;: [&#x27;entropy&#x27;, &#x27;gini&#x27;],\n",
       "                                        &#x27;max_features&#x27;: [&#x27;auto&#x27;, 5, 7, 10, 15],\n",
       "                                        &#x27;n_estimators&#x27;: [10, 20, 50, 70, 80,\n",
       "                                                         100, 120],\n",
       "                                        &#x27;random_state&#x27;: range(0, 10)})</pre><b>In a Jupyter environment, please rerun this cell to show the HTML representation or trust the notebook. <br />On GitHub, the HTML representation is unable to render, please try loading this page with nbviewer.org.</b></div><div class=\"sk-container\" hidden><div class=\"sk-item sk-dashed-wrapped\"><div class=\"sk-label-container\"><div class=\"sk-label sk-toggleable\"><input class=\"sk-toggleable__control sk-hidden--visually\" id=\"sk-estimator-id-16\" type=\"checkbox\" ><label for=\"sk-estimator-id-16\" class=\"sk-toggleable__label sk-toggleable__label-arrow\">RandomizedSearchCV</label><div class=\"sk-toggleable__content\"><pre>RandomizedSearchCV(estimator=RandomForestClassifier(),\n",
       "                   param_distributions={&#x27;criterion&#x27;: [&#x27;entropy&#x27;, &#x27;gini&#x27;],\n",
       "                                        &#x27;max_features&#x27;: [&#x27;auto&#x27;, 5, 7, 10, 15],\n",
       "                                        &#x27;n_estimators&#x27;: [10, 20, 50, 70, 80,\n",
       "                                                         100, 120],\n",
       "                                        &#x27;random_state&#x27;: range(0, 10)})</pre></div></div></div><div class=\"sk-parallel\"><div class=\"sk-parallel-item\"><div class=\"sk-item\"><div class=\"sk-label-container\"><div class=\"sk-label sk-toggleable\"><input class=\"sk-toggleable__control sk-hidden--visually\" id=\"sk-estimator-id-17\" type=\"checkbox\" ><label for=\"sk-estimator-id-17\" class=\"sk-toggleable__label sk-toggleable__label-arrow\">estimator: RandomForestClassifier</label><div class=\"sk-toggleable__content\"><pre>RandomForestClassifier()</pre></div></div></div><div class=\"sk-serial\"><div class=\"sk-item\"><div class=\"sk-estimator sk-toggleable\"><input class=\"sk-toggleable__control sk-hidden--visually\" id=\"sk-estimator-id-18\" type=\"checkbox\" ><label for=\"sk-estimator-id-18\" class=\"sk-toggleable__label sk-toggleable__label-arrow\">RandomForestClassifier</label><div class=\"sk-toggleable__content\"><pre>RandomForestClassifier()</pre></div></div></div></div></div></div></div></div></div></div>"
      ],
      "text/plain": [
       "RandomizedSearchCV(estimator=RandomForestClassifier(),\n",
       "                   param_distributions={'criterion': ['entropy', 'gini'],\n",
       "                                        'max_features': ['auto', 5, 7, 10, 15],\n",
       "                                        'n_estimators': [10, 20, 50, 70, 80,\n",
       "                                                         100, 120],\n",
       "                                        'random_state': range(0, 10)})"
      ]
     },
     "execution_count": 207,
     "metadata": {},
     "output_type": "execute_result"
    }
   ],
   "source": [
    "# Treinando o modelo\n",
    "\n",
    "model_cv.fit(x_train_smote, y_train_smote)"
   ]
  },
  {
   "cell_type": "code",
   "execution_count": 160,
   "metadata": {},
   "outputs": [
    {
     "data": {
      "text/plain": [
       "{'random_state': 3,\n",
       " 'n_estimators': 120,\n",
       " 'max_features': 7,\n",
       " 'criterion': 'entropy'}"
      ]
     },
     "execution_count": 160,
     "metadata": {},
     "output_type": "execute_result"
    }
   ],
   "source": [
    "# Visualisar o melhor parametro\n",
    "\n",
    "model_cv.best_params_"
   ]
  },
  {
   "cell_type": "code",
   "execution_count": 161,
   "metadata": {},
   "outputs": [
    {
     "data": {
      "text/html": [
       "<style>#sk-container-id-11 {color: black;background-color: white;}#sk-container-id-11 pre{padding: 0;}#sk-container-id-11 div.sk-toggleable {background-color: white;}#sk-container-id-11 label.sk-toggleable__label {cursor: pointer;display: block;width: 100%;margin-bottom: 0;padding: 0.3em;box-sizing: border-box;text-align: center;}#sk-container-id-11 label.sk-toggleable__label-arrow:before {content: \"▸\";float: left;margin-right: 0.25em;color: #696969;}#sk-container-id-11 label.sk-toggleable__label-arrow:hover:before {color: black;}#sk-container-id-11 div.sk-estimator:hover label.sk-toggleable__label-arrow:before {color: black;}#sk-container-id-11 div.sk-toggleable__content {max-height: 0;max-width: 0;overflow: hidden;text-align: left;background-color: #f0f8ff;}#sk-container-id-11 div.sk-toggleable__content pre {margin: 0.2em;color: black;border-radius: 0.25em;background-color: #f0f8ff;}#sk-container-id-11 input.sk-toggleable__control:checked~div.sk-toggleable__content {max-height: 200px;max-width: 100%;overflow: auto;}#sk-container-id-11 input.sk-toggleable__control:checked~label.sk-toggleable__label-arrow:before {content: \"▾\";}#sk-container-id-11 div.sk-estimator input.sk-toggleable__control:checked~label.sk-toggleable__label {background-color: #d4ebff;}#sk-container-id-11 div.sk-label input.sk-toggleable__control:checked~label.sk-toggleable__label {background-color: #d4ebff;}#sk-container-id-11 input.sk-hidden--visually {border: 0;clip: rect(1px 1px 1px 1px);clip: rect(1px, 1px, 1px, 1px);height: 1px;margin: -1px;overflow: hidden;padding: 0;position: absolute;width: 1px;}#sk-container-id-11 div.sk-estimator {font-family: monospace;background-color: #f0f8ff;border: 1px dotted black;border-radius: 0.25em;box-sizing: border-box;margin-bottom: 0.5em;}#sk-container-id-11 div.sk-estimator:hover {background-color: #d4ebff;}#sk-container-id-11 div.sk-parallel-item::after {content: \"\";width: 100%;border-bottom: 1px solid gray;flex-grow: 1;}#sk-container-id-11 div.sk-label:hover label.sk-toggleable__label {background-color: #d4ebff;}#sk-container-id-11 div.sk-serial::before {content: \"\";position: absolute;border-left: 1px solid gray;box-sizing: border-box;top: 0;bottom: 0;left: 50%;z-index: 0;}#sk-container-id-11 div.sk-serial {display: flex;flex-direction: column;align-items: center;background-color: white;padding-right: 0.2em;padding-left: 0.2em;position: relative;}#sk-container-id-11 div.sk-item {position: relative;z-index: 1;}#sk-container-id-11 div.sk-parallel {display: flex;align-items: stretch;justify-content: center;background-color: white;position: relative;}#sk-container-id-11 div.sk-item::before, #sk-container-id-11 div.sk-parallel-item::before {content: \"\";position: absolute;border-left: 1px solid gray;box-sizing: border-box;top: 0;bottom: 0;left: 50%;z-index: -1;}#sk-container-id-11 div.sk-parallel-item {display: flex;flex-direction: column;z-index: 1;position: relative;background-color: white;}#sk-container-id-11 div.sk-parallel-item:first-child::after {align-self: flex-end;width: 50%;}#sk-container-id-11 div.sk-parallel-item:last-child::after {align-self: flex-start;width: 50%;}#sk-container-id-11 div.sk-parallel-item:only-child::after {width: 0;}#sk-container-id-11 div.sk-dashed-wrapped {border: 1px dashed gray;margin: 0 0.4em 0.5em 0.4em;box-sizing: border-box;padding-bottom: 0.4em;background-color: white;}#sk-container-id-11 div.sk-label label {font-family: monospace;font-weight: bold;display: inline-block;line-height: 1.2em;}#sk-container-id-11 div.sk-label-container {text-align: center;}#sk-container-id-11 div.sk-container {/* jupyter's `normalize.less` sets `[hidden] { display: none; }` but bootstrap.min.css set `[hidden] { display: none !important; }` so we also need the `!important` here to be able to override the default hidden behavior on the sphinx rendered scikit-learn.org. See: https://github.com/scikit-learn/scikit-learn/issues/21755 */display: inline-block !important;position: relative;}#sk-container-id-11 div.sk-text-repr-fallback {display: none;}</style><div id=\"sk-container-id-11\" class=\"sk-top-container\"><div class=\"sk-text-repr-fallback\"><pre>RandomForestClassifier(criterion=&#x27;entropy&#x27;, max_features=7, n_estimators=120,\n",
       "                       random_state=3)</pre><b>In a Jupyter environment, please rerun this cell to show the HTML representation or trust the notebook. <br />On GitHub, the HTML representation is unable to render, please try loading this page with nbviewer.org.</b></div><div class=\"sk-container\" hidden><div class=\"sk-item\"><div class=\"sk-estimator sk-toggleable\"><input class=\"sk-toggleable__control sk-hidden--visually\" id=\"sk-estimator-id-15\" type=\"checkbox\" checked><label for=\"sk-estimator-id-15\" class=\"sk-toggleable__label sk-toggleable__label-arrow\">RandomForestClassifier</label><div class=\"sk-toggleable__content\"><pre>RandomForestClassifier(criterion=&#x27;entropy&#x27;, max_features=7, n_estimators=120,\n",
       "                       random_state=3)</pre></div></div></div></div></div>"
      ],
      "text/plain": [
       "RandomForestClassifier(criterion='entropy', max_features=7, n_estimators=120,\n",
       "                       random_state=3)"
      ]
     },
     "execution_count": 161,
     "metadata": {},
     "output_type": "execute_result"
    }
   ],
   "source": [
    "# Visualisar o melhor parametro\n",
    "\n",
    "model_cv.best_estimator_"
   ]
  },
  {
   "cell_type": "code",
   "execution_count": 162,
   "metadata": {},
   "outputs": [
    {
     "data": {
      "text/plain": [
       "0.967567371976015"
      ]
     },
     "execution_count": 162,
     "metadata": {},
     "output_type": "execute_result"
    }
   ],
   "source": [
    "model_cv.best_score_"
   ]
  },
  {
   "cell_type": "code",
   "execution_count": 163,
   "metadata": {},
   "outputs": [],
   "source": [
    "# Fazendo previsões\n",
    "\n",
    "y_pred_grid = model_cv.predict(x_test)"
   ]
  },
  {
   "cell_type": "code",
   "execution_count": 164,
   "metadata": {},
   "outputs": [
    {
     "name": "stdout",
     "output_type": "stream",
     "text": [
      "              precision    recall  f1-score   support\n",
      "\n",
      "           0       0.96      0.97      0.96      1401\n",
      "           1       0.18      0.12      0.15        72\n",
      "\n",
      "    accuracy                           0.93      1473\n",
      "   macro avg       0.57      0.55      0.56      1473\n",
      "weighted avg       0.92      0.93      0.92      1473\n",
      "\n"
     ]
    }
   ],
   "source": [
    "print(classification_report(y_test, y_pred_grid))"
   ]
  },
  {
   "cell_type": "code",
   "execution_count": 165,
   "metadata": {},
   "outputs": [
    {
     "data": {
      "text/html": [
       "<div>\n",
       "<style scoped>\n",
       "    .dataframe tbody tr th:only-of-type {\n",
       "        vertical-align: middle;\n",
       "    }\n",
       "\n",
       "    .dataframe tbody tr th {\n",
       "        vertical-align: top;\n",
       "    }\n",
       "\n",
       "    .dataframe thead th {\n",
       "        text-align: right;\n",
       "    }\n",
       "</style>\n",
       "<table border=\"1\" class=\"dataframe\">\n",
       "  <thead>\n",
       "    <tr style=\"text-align: right;\">\n",
       "      <th>col_0</th>\n",
       "      <th>0</th>\n",
       "      <th>1</th>\n",
       "    </tr>\n",
       "    <tr>\n",
       "      <th>stroke</th>\n",
       "      <th></th>\n",
       "      <th></th>\n",
       "    </tr>\n",
       "  </thead>\n",
       "  <tbody>\n",
       "    <tr>\n",
       "      <th>0</th>\n",
       "      <td>1361</td>\n",
       "      <td>40</td>\n",
       "    </tr>\n",
       "    <tr>\n",
       "      <th>1</th>\n",
       "      <td>63</td>\n",
       "      <td>9</td>\n",
       "    </tr>\n",
       "  </tbody>\n",
       "</table>\n",
       "</div>"
      ],
      "text/plain": [
       "col_0      0   1\n",
       "stroke          \n",
       "0       1361  40\n",
       "1         63   9"
      ]
     },
     "execution_count": 165,
     "metadata": {},
     "output_type": "execute_result"
    }
   ],
   "source": [
    "pd.crosstab(y_test, y_pred_grid)"
   ]
  },
  {
   "cell_type": "code",
   "execution_count": 166,
   "metadata": {},
   "outputs": [
    {
     "data": {
      "text/plain": [
       "<function matplotlib.pyplot.show(close=None, block=None)>"
      ]
     },
     "execution_count": 166,
     "metadata": {},
     "output_type": "execute_result"
    },
    {
     "data": {
      "image/png": "[encoded data removed]",
      "text/plain": [
       "<Figure size 640x480 with 2 Axes>"
      ]
     },
     "metadata": {},
     "output_type": "display_data"
    }
   ],
   "source": [
    "conf = confusion_matrix(y_test, y_pred_grid)\n",
    "sns.heatmap(conf, annot = True)\n",
    "plt.show"
   ]
  },
  {
   "cell_type": "markdown",
   "metadata": {},
   "source": [
    "A importação das funções `roc_curve` e `roc_auc_score` da biblioteca `sklearn.metrics` permite realizar a avaliação do desempenho de um modelo de classificação em termos da curva ROC (Receiver Operating Characteristic) e da área sob a curva ROC (AUC-ROC).\n",
    "\n",
    "- `roc_curve`: Essa função é usada para calcular os valores da taxa de falsos positivos (FPR), taxa de verdadeiros positivos (TPR) e os respectivos limiares para diferentes pontos de corte no classificador. Ela recebe como entrada as verdadeiras classes (rótulos) dos dados e as probabilidades previstas pelo modelo para a classe positiva. A função retorna três arrays: FPR, TPR e limiares.\n",
    "\n",
    "- `roc_auc_score`: Essa função calcula a área sob a curva ROC (AUC-ROC) para avaliar o desempenho do modelo de classificação. Ela recebe as verdadeiras classes dos dados e as probabilidades previstas pelo modelo para a classe positiva. A função retorna o valor numérico da AUC-ROC, que varia entre 0 e 1. Quanto maior o valor, melhor o desempenho do modelo.\n",
    "\n",
    "A curva ROC é um gráfico que representa a taxa de verdadeiros positivos em função da taxa de falsos positivos em diferentes pontos de corte do classificador. A AUC-ROC é uma métrica resumida que fornece uma medida do desempenho global do modelo em toda a faixa de pontos de corte.\n",
    "\n",
    "Essas funções são úteis para avaliar o desempenho de um modelo de classificação, especialmente em problemas de classificação binária. Elas fornecem informações sobre a capacidade do modelo em discriminar entre as classes positiva e negativa e podem ajudar na seleção do ponto de corte ideal para a classificação."
   ]
  },
  {
   "cell_type": "code",
   "execution_count": 167,
   "metadata": {},
   "outputs": [],
   "source": [
    "from sklearn.metrics import roc_curve, roc_auc_score"
   ]
  },
  {
   "cell_type": "markdown",
   "metadata": {},
   "source": [
    "Criar um objeto DataFrame a partir das probabilidades previstas pelo modelo para a classe positiva. Vamos analisar o código passo a passo:\n",
    "\n",
    "```python\n",
    "pd.DataFrame(model.predict_proba(X_test))\n",
    "```\n",
    "\n",
    "Aqui, `model` é o objeto do modelo que você treinou e `X_test` são os dados de teste nos quais você deseja fazer previsões de probabilidade. A função `predict_proba` retorna as probabilidades previstas pelo modelo para cada classe. No caso de um problema de classificação binária, o resultado será um array com duas colunas, representando as probabilidades para a classe negativa (coluna 0) e a classe positiva (coluna 1).\n",
    "\n",
    "Ao passar o resultado para `pd.DataFrame()`, você está criando um objeto DataFrame a partir dessas probabilidades previstas. O DataFrame terá duas colunas, uma para cada classe.\n",
    "\n",
    "```python\n",
    ".iloc[:,1]\n",
    "```\n",
    "\n",
    "O método `.iloc` é usado para acessar as colunas do DataFrame por índices. Nesse caso, `[:,1]` significa que estamos selecionando todas as linhas (`:`) e a segunda coluna (`1`) do DataFrame. Assumindo que a segunda coluna corresponde às probabilidades previstas para a classe positiva, esse trecho do código retornará uma série contendo apenas as probabilidades previstas para a classe positiva.\n",
    "\n",
    "Em resumo, o código apresentado cria um objeto DataFrame com as probabilidades previstas pelo modelo para ambas as classes e, em seguida, retorna apenas as probabilidades previstas para a classe positiva. Isso pode ser útil para realizar análises adicionais ou para comparar as probabilidades previstas com os rótulos verdadeiros dos dados de teste."
   ]
  },
  {
   "cell_type": "code",
   "execution_count": 168,
   "metadata": {},
   "outputs": [
    {
     "data": {
      "text/plain": [
       "0       0.494483\n",
       "1       0.449915\n",
       "2       0.395059\n",
       "3       0.000475\n",
       "4       0.039502\n",
       "          ...   \n",
       "1468    0.107761\n",
       "1469    0.016264\n",
       "1470    0.929866\n",
       "1471    0.031973\n",
       "1472    0.576473\n",
       "Name: 1, Length: 1473, dtype: float64"
      ]
     },
     "execution_count": 168,
     "metadata": {},
     "output_type": "execute_result"
    }
   ],
   "source": [
    "pd.DataFrame(model.predict_proba(x_test)).iloc[:,1]"
   ]
  },
  {
   "cell_type": "code",
   "execution_count": 169,
   "metadata": {},
   "outputs": [
    {
     "name": "stdout",
     "output_type": "stream",
     "text": [
      "[0.4944826  0.44991544 0.39505936 ... 0.92986634 0.03197302 0.57647323]\n"
     ]
    }
   ],
   "source": [
    "y_pred_prob = model.predict_proba(x_test)[:,1]\n",
    "print(y_pred_prob)"
   ]
  },
  {
   "cell_type": "code",
   "execution_count": 170,
   "metadata": {},
   "outputs": [],
   "source": [
    "fpr, tpr, thresholds = roc_curve(y_test, y_pred_prob)"
   ]
  },
  {
   "cell_type": "code",
   "execution_count": 171,
   "metadata": {},
   "outputs": [
    {
     "data": {
      "text/plain": [
       "array([0.        , 0.01388889, 0.04166667, 0.04166667, 0.05555556,\n",
       "       0.05555556, 0.06944444, 0.06944444, 0.08333333, 0.08333333,\n",
       "       0.11111111, 0.11111111, 0.125     , 0.125     , 0.13888889,\n",
       "       0.13888889, 0.15277778, 0.15277778, 0.16666667, 0.16666667,\n",
       "       0.18055556, 0.18055556, 0.19444444, 0.19444444, 0.20833333,\n",
       "       0.20833333, 0.22222222, 0.22222222, 0.23611111, 0.23611111,\n",
       "       0.25      , 0.25      , 0.26388889, 0.26388889, 0.27777778,\n",
       "       0.27777778, 0.29166667, 0.29166667, 0.30555556, 0.30555556,\n",
       "       0.31944444, 0.31944444, 0.33333333, 0.33333333, 0.34722222,\n",
       "       0.34722222, 0.36111111, 0.36111111, 0.375     , 0.375     ,\n",
       "       0.38888889, 0.38888889, 0.41666667, 0.41666667, 0.43055556,\n",
       "       0.43055556, 0.43055556, 0.43055556, 0.44444444, 0.44444444,\n",
       "       0.45833333, 0.45833333, 0.47222222, 0.47222222, 0.48611111,\n",
       "       0.48611111, 0.5       , 0.5       , 0.51388889, 0.51388889,\n",
       "       0.52777778, 0.52777778, 0.54166667, 0.54166667, 0.55555556,\n",
       "       0.55555556, 0.58333333, 0.58333333, 0.59722222, 0.59722222,\n",
       "       0.61111111, 0.61111111, 0.625     , 0.625     , 0.63888889,\n",
       "       0.63888889, 0.65277778, 0.65277778, 0.68055556, 0.68055556,\n",
       "       0.69444444, 0.69444444, 0.70833333, 0.70833333, 0.72222222,\n",
       "       0.72222222, 0.75      , 0.75      , 0.76388889, 0.76388889,\n",
       "       0.77777778, 0.77777778, 0.80555556, 0.80555556, 0.81944444,\n",
       "       0.81944444, 0.83333333, 0.83333333, 0.84722222, 0.84722222,\n",
       "       0.86111111, 0.86111111, 0.875     , 0.875     , 0.88888889,\n",
       "       0.88888889, 0.90277778, 0.90277778, 0.93055556, 0.93055556,\n",
       "       0.94444444, 0.94444444, 0.95833333, 0.95833333, 0.97222222,\n",
       "       0.97222222, 0.98611111, 0.98611111, 1.        , 1.        ])"
      ]
     },
     "execution_count": 171,
     "metadata": {},
     "output_type": "execute_result"
    }
   ],
   "source": [
    "tpr"
   ]
  },
  {
   "cell_type": "code",
   "execution_count": 172,
   "metadata": {},
   "outputs": [
    {
     "data": {
      "text/plain": [
       "array([0.        , 0.        , 0.        , 0.01070664, 0.01070664,\n",
       "       0.01213419, 0.01213419, 0.01284797, 0.01284797, 0.01570307,\n",
       "       0.01570307, 0.01855817, 0.01855817, 0.01927195, 0.01927195,\n",
       "       0.02212705, 0.02212705, 0.02284083, 0.02284083, 0.03069236,\n",
       "       0.03069236, 0.03354747, 0.03354747, 0.03783012, 0.03783012,\n",
       "       0.05067809, 0.05067809, 0.05496074, 0.05496074, 0.07066381,\n",
       "       0.07066381, 0.09136331, 0.09136331, 0.09564597, 0.09564597,\n",
       "       0.10492505, 0.10492505, 0.11063526, 0.11063526, 0.12705211,\n",
       "       0.12705211, 0.13204854, 0.13204854, 0.13561742, 0.13561742,\n",
       "       0.14061385, 0.14061385, 0.15417559, 0.15417559, 0.1598858 ,\n",
       "       0.1598858 , 0.16059957, 0.16059957, 0.16630978, 0.16630978,\n",
       "       0.17059243, 0.17416131, 0.18129907, 0.18129907, 0.1834404 ,\n",
       "       0.1834404 , 0.18415418, 0.18415418, 0.20485368, 0.20485368,\n",
       "       0.20842256, 0.20842256, 0.22412562, 0.22412562, 0.23411849,\n",
       "       0.23411849, 0.23554604, 0.23554604, 0.25124911, 0.25124911,\n",
       "       0.26052819, 0.26052819, 0.26552463, 0.26552463, 0.27194861,\n",
       "       0.27194861, 0.27908637, 0.27908637, 0.28194147, 0.28194147,\n",
       "       0.28622413, 0.28622413, 0.29336188, 0.29336188, 0.31477516,\n",
       "       0.31477516, 0.31834404, 0.31834404, 0.31905782, 0.31905782,\n",
       "       0.33404711, 0.33404711, 0.34118487, 0.34118487, 0.34832263,\n",
       "       0.34832263, 0.37687366, 0.37687366, 0.3875803 , 0.3875803 ,\n",
       "       0.39971449, 0.39971449, 0.43254818, 0.43254818, 0.44753747,\n",
       "       0.44753747, 0.47965739, 0.47965739, 0.4882227 , 0.4882227 ,\n",
       "       0.51320485, 0.51320485, 0.53176303, 0.53176303, 0.55103498,\n",
       "       0.55103498, 0.55531763, 0.55531763, 0.61384725, 0.61384725,\n",
       "       0.67523198, 0.67523198, 0.7366167 , 0.7366167 , 1.        ])"
      ]
     },
     "execution_count": 172,
     "metadata": {},
     "output_type": "execute_result"
    }
   ],
   "source": [
    "fpr"
   ]
  },
  {
   "cell_type": "code",
   "execution_count": 173,
   "metadata": {},
   "outputs": [
    {
     "data": {
      "text/plain": [
       "array([1.98680823e+00, 9.86808231e-01, 9.83508981e-01, 9.45763148e-01,\n",
       "       9.44858381e-01, 9.41395344e-01, 9.39864478e-01, 9.37715585e-01,\n",
       "       9.36219277e-01, 9.29866341e-01, 9.27363756e-01, 9.19019689e-01,\n",
       "       9.15740611e-01, 9.11924878e-01, 9.09327116e-01, 9.03628974e-01,\n",
       "       9.03361207e-01, 9.01663866e-01, 9.00902467e-01, 8.86211194e-01,\n",
       "       8.85429809e-01, 8.78350073e-01, 8.77879965e-01, 8.72516657e-01,\n",
       "       8.69971092e-01, 8.50642576e-01, 8.48940855e-01, 8.44278295e-01,\n",
       "       8.39954269e-01, 7.93359779e-01, 7.92740292e-01, 7.49818130e-01,\n",
       "       7.48943989e-01, 7.41319034e-01, 7.40934350e-01, 7.07496073e-01,\n",
       "       7.07015505e-01, 6.98979825e-01, 6.98375080e-01, 6.56901750e-01,\n",
       "       6.56762868e-01, 6.41739470e-01, 6.39705302e-01, 6.27912391e-01,\n",
       "       6.25898280e-01, 6.07401340e-01, 6.07247432e-01, 5.66588196e-01,\n",
       "       5.65890457e-01, 5.42171258e-01, 5.41676984e-01, 5.40559352e-01,\n",
       "       5.32988304e-01, 5.22592812e-01, 5.22134601e-01, 5.05982368e-01,\n",
       "       5.00000000e-01, 4.80305239e-01, 4.77056138e-01, 4.68422914e-01,\n",
       "       4.65185394e-01, 4.63356618e-01, 4.57340700e-01, 4.04675123e-01,\n",
       "       4.02853812e-01, 3.97272850e-01, 3.97212656e-01, 3.69732412e-01,\n",
       "       3.67276831e-01, 3.40951345e-01, 3.39550899e-01, 3.38665948e-01,\n",
       "       3.36615811e-01, 2.91898498e-01, 2.91737567e-01, 2.73036462e-01,\n",
       "       2.69580717e-01, 2.61922051e-01, 2.58173814e-01, 2.46053659e-01,\n",
       "       2.44784039e-01, 2.31487618e-01, 2.31428275e-01, 2.27415952e-01,\n",
       "       2.25824115e-01, 2.20028398e-01, 2.19338851e-01, 2.07081902e-01,\n",
       "       2.06025538e-01, 1.71930304e-01, 1.70345898e-01, 1.62664469e-01,\n",
       "       1.62300165e-01, 1.61988773e-01, 1.61617278e-01, 1.42769041e-01,\n",
       "       1.41882828e-01, 1.33282031e-01, 1.33062417e-01, 1.24163188e-01,\n",
       "       1.24118852e-01, 9.48892443e-02, 9.32342155e-02, 8.31059646e-02,\n",
       "       8.28979670e-02, 7.38706036e-02, 7.29930984e-02, 5.83663583e-02,\n",
       "       5.83294677e-02, 5.11485325e-02, 5.09111131e-02, 3.78133225e-02,\n",
       "       3.69715168e-02, 3.49132700e-02, 3.48013493e-02, 2.88272907e-02,\n",
       "       2.84776318e-02, 2.42959214e-02, 2.39081483e-02, 2.08943866e-02,\n",
       "       2.06908819e-02, 2.00400228e-02, 1.98641762e-02, 1.12705166e-02,\n",
       "       1.12300713e-02, 5.35994528e-03, 5.35071322e-03, 3.08875018e-03,\n",
       "       3.06130482e-03, 2.47599256e-06])"
      ]
     },
     "execution_count": 173,
     "metadata": {},
     "output_type": "execute_result"
    }
   ],
   "source": [
    "thresholds"
   ]
  },
  {
   "cell_type": "code",
   "execution_count": 174,
   "metadata": {},
   "outputs": [
    {
     "data": {
      "text/plain": [
       "0.7642358632722659"
      ]
     },
     "execution_count": 174,
     "metadata": {},
     "output_type": "execute_result"
    }
   ],
   "source": [
    "auc = roc_auc_score(y_test, model.predict_proba(x_test)[:,1])\n",
    "auc"
   ]
  },
  {
   "cell_type": "code",
   "execution_count": 175,
   "metadata": {},
   "outputs": [
    {
     "data": {
      "image/png": "[encoded data removed]",
      "text/plain": [
       "<Figure size 640x480 with 1 Axes>"
      ]
     },
     "metadata": {},
     "output_type": "display_data"
    }
   ],
   "source": [
    "plt.plot(fpr, tpr)\n",
    "plt.xlabel('Taxa de Falso Positivo')\n",
    "plt.ylabel('Taxa de Verdadeiro Positivo')\n",
    "plt.plot([0,1], [0,1], '--')\n",
    "plt.show()"
   ]
  },
  {
   "cell_type": "code",
   "execution_count": 184,
   "metadata": {},
   "outputs": [
    {
     "data": {
      "text/plain": [
       "Index(['gender', 'age', 'hypertension', 'heart_disease', 'ever_married',\n",
       "       'work_type', 'Residence_type', 'avg_glucose_level', 'bmi',\n",
       "       'smoking_status'],\n",
       "      dtype='object')"
      ]
     },
     "execution_count": 184,
     "metadata": {},
     "output_type": "execute_result"
    }
   ],
   "source": [
    "df1.columns"
   ]
  },
  {
   "cell_type": "code",
   "execution_count": 222,
   "metadata": {},
   "outputs": [
    {
     "name": "stdout",
     "output_type": "stream",
     "text": [
      "[0]\n",
      "Paciente não apresenta tendência para ter AVC\n"
     ]
    }
   ],
   "source": [
    "input_data = (1, 69.0, 1, 1, 1, 2, 1, 328.69, 36.6, 2)\n",
    "input_data_as_numpy_array = np.asarray(input_data)\n",
    "input_data_reshaped = input_data_as_numpy_array.reshape(1,-1)\n",
    "\n",
    "prediction = model_cv.predict(input_data_reshaped)\n",
    "print(prediction)\n",
    "\n",
    "\n",
    "if (prediction[0] ==0):\n",
    "    print('Paciente não apresenta tendência para ter AVC')\n",
    "else:\n",
    "    print('Paciente pode ter AVC')"
   ]
  },
  {
   "cell_type": "code",
   "execution_count": null,
   "metadata": {},
   "outputs": [],
   "source": []
  }
 ],
 "metadata": {
  "kernelspec": {
   "display_name": "Python 3.10.6 ('AVC': venv)",
   "language": "python",
   "name": "python3"
  },
  "language_info": {
   "codemirror_mode": {
    "name": "ipython",
    "version": 3
   },
   "file_extension": ".py",
   "mimetype": "text/x-python",
   "name": "python",
   "nbconvert_exporter": "python",
   "pygments_lexer": "ipython3",
   "version": "3.10.6"
  },
  "orig_nbformat": 4,
  "vscode": {
   "interpreter": {
    "hash": "3586092a13d350ff96e759b1b092ac8e0ab48391d0b5cd3e8240ee103c94f7d2"
   }
  }
 },
 "nbformat": 4,
 "nbformat_minor": 2
}
